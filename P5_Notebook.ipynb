{
  "cells": [
    {
      "cell_type": "markdown",
      "metadata": {
        "id": "view-in-github",
        "colab_type": "text"
      },
      "source": [
        "<a href=\"https://colab.research.google.com/github/Elsiekiprop/Dating-App-Recommender/blob/main/P5_Notebook.ipynb\" target=\"_parent\"><img src=\"https://colab.research.google.com/assets/colab-badge.svg\" alt=\"Open In Colab\"/></a>"
      ]
    },
    {
      "cell_type": "markdown",
      "metadata": {
        "id": "WAijg6AD1TB4"
      },
      "source": [
        "## Pata Mchumba Dating App Recommender\n",
        "\n",
        "### Group Members\n",
        "\n",
        "1. Fred Mutuma\n",
        "2. Elsie Kiprop\n",
        "3. Oscar Karuga\n",
        "4. Iain Mosima\n",
        "5. Peter Kigotho\n",
        "6. Benson Muriu\n",
        "\n",
        "\n",
        "\n"
      ]
    },
    {
      "cell_type": "markdown",
      "metadata": {
        "id": "JE01WM2_zPhM"
      },
      "source": [
        "## 1.1 Business Understanding.\n",
        "With the current generation embracing technology and its applications, many people have become accustomed to the idea of using dating apps. Therefore, Pata Mchumba,  a dating company, has approached us to create a recommendation system for their users to increase the effectiveness of matches based on their preferences. Moreover our recommender will focus mainly on emotional connection rather than physical appearance. "
      ]
    },
    {
      "cell_type": "markdown",
      "metadata": {
        "id": "D_Lx7EedzS3s"
      },
      "source": [
        "## 1.2 Objectives\n",
        "### Main Objective:\n",
        "To build a dating app recommender system that successfully maximises the matches.\n",
        "### Specific Objectives\n",
        "- To get and outline major factors that make a great match.\n",
        "\n",
        "Answer the following questions:\n",
        "\n",
        "- Which has more importance? Physical attraction or Personality.\n",
        "\n",
        "- Which are the most common traits among users?\n",
        "\n",
        "- To create a simple user interface for demonstration"
      ]
    },
    {
      "cell_type": "markdown",
      "metadata": {
        "id": "g23IdQtWzXYO"
      },
      "source": [
        "## 1.3 Data Understanding\n",
        "Our data was sourced from [here](https://www.tandfonline.com/doi/abs/10.1080/10691898.2015.11889737). We considered the ethical concerns and no rights were infringed in the collection of this data as OKCupid provided this data for use by the public.\n",
        "The data contained 31 columns and 59964 columns."
      ]
    },
    {
      "cell_type": "markdown",
      "metadata": {
        "id": "_HDwEOyxza2v"
      },
      "source": [
        "## 1.4 Metrics for success\n",
        "Our metric of success is Root Mean Squared Error (RMSE). We aim for a value that lies between 0.2 and 0.5 with a preference of the lowest value in this range for better accuracy of the model."
      ]
    },
    {
      "cell_type": "markdown",
      "metadata": {
        "id": "ilcXfvor15sQ"
      },
      "source": [
        "##1.5 Importing Libraries"
      ]
    },
    {
      "cell_type": "code",
      "execution_count": null,
      "metadata": {
        "id": "XohsMnaFCzyg",
        "outputId": "472b1deb-e237-4e0d-ee34-50a667685466"
      },
      "outputs": [
        {
          "name": "stdout",
          "output_type": "stream",
          "text": [
            "Defaulting to user installation because normal site-packages is not writeable\n",
            "Collecting tabulate\n",
            "  Downloading tabulate-0.8.10-py3-none-any.whl (29 kB)\n",
            "Installing collected packages: tabulate\n",
            "Successfully installed tabulate-0.8.10\n",
            "Defaulting to user installation because normal site-packages is not writeable\n",
            "Collecting pandas-profiling\n",
            "  Downloading pandas_profiling-3.3.0-py2.py3-none-any.whl (268 kB)\n",
            "\u001b[2K     \u001b[38;2;114;156;31m━━━━━━━━━━━━━━━━━━━━━━━━━━━━━━━━━━━━━\u001b[0m \u001b[32m268.0/268.0 KB\u001b[0m \u001b[31m370.4 kB/s\u001b[0m eta \u001b[36m0:00:00\u001b[0mm eta \u001b[36m0:00:01\u001b[0m[36m0:00:01\u001b[0m\n",
            "\u001b[?25hRequirement already satisfied: matplotlib<3.6,>=3.2 in /home/space/.local/lib/python3.10/site-packages (from pandas-profiling) (3.5.2)\n",
            "Requirement already satisfied: statsmodels<0.14,>=0.13.2 in /home/space/.local/lib/python3.10/site-packages (from pandas-profiling) (0.13.2)\n",
            "Requirement already satisfied: jinja2<3.2,>=2.11.1 in /home/space/.local/lib/python3.10/site-packages (from pandas-profiling) (3.1.2)\n",
            "Requirement already satisfied: PyYAML<6.1,>=5.0.0 in /usr/lib/python3/dist-packages (from pandas-profiling) (5.4.1)\n",
            "Collecting htmlmin==0.1.12\n",
            "  Downloading htmlmin-0.1.12.tar.gz (19 kB)\n",
            "  Preparing metadata (setup.py) ... \u001b[?25ldone\n",
            "\u001b[?25hRequirement already satisfied: scipy<1.10,>=1.4.1 in /home/space/.local/lib/python3.10/site-packages (from pandas-profiling) (1.9.0)\n",
            "Collecting visions[type_image_path]==0.7.5\n",
            "  Downloading visions-0.7.5-py3-none-any.whl (102 kB)\n",
            "\u001b[2K     \u001b[38;2;114;156;31m━━━━━━━━━━━━━━━━━━━━━━━━━━━━━━━━━━━━━\u001b[0m \u001b[32m102.7/102.7 KB\u001b[0m \u001b[31m372.0 kB/s\u001b[0m eta \u001b[36m0:00:00\u001b[0m kB/s\u001b[0m eta \u001b[36m0:00:01\u001b[0m\n",
            "\u001b[?25hCollecting phik<0.13,>=0.11.1\n",
            "  Downloading phik-0.12.2-cp310-cp310-manylinux_2_17_x86_64.manylinux2014_x86_64.whl (737 kB)\n",
            "\u001b[2K     \u001b[38;2;114;156;31m━━━━━━━━━━━━━━━━━━━━━━━━━━━━━━━━━━━━━\u001b[0m \u001b[32m737.2/737.2 KB\u001b[0m \u001b[31m429.1 kB/s\u001b[0m eta \u001b[36m0:00:00\u001b[0m1m441.6 kB/s\u001b[0m eta \u001b[36m0:00:01\u001b[0m\n",
            "\u001b[?25hCollecting pydantic<1.10,>=1.8.1\n",
            "  Downloading pydantic-1.9.2-cp310-cp310-manylinux_2_17_x86_64.manylinux2014_x86_64.whl (12.0 MB)\n",
            "\u001b[2K     \u001b[38;2;114;156;31m━━━━━━━━━━━━━━━━━━━━━━━━━━━━━━━━━━━━━━━\u001b[0m \u001b[32m12.0/12.0 MB\u001b[0m \u001b[31m255.8 kB/s\u001b[0m eta \u001b[36m0:00:00\u001b[0mm eta \u001b[36m0:00:01\u001b[0m[36m0:00:02\u001b[0m\n",
            "\u001b[?25hRequirement already satisfied: tqdm<4.65,>=4.48.2 in /usr/local/lib/python3.10/dist-packages (from pandas-profiling) (4.64.0)\n",
            "Requirement already satisfied: numpy<1.24,>=1.16.0 in /home/space/.local/lib/python3.10/site-packages (from pandas-profiling) (1.23.1)\n",
            "Requirement already satisfied: pandas!=1.4.0,<1.5,>1.1 in /home/space/.local/lib/python3.10/site-packages (from pandas-profiling) (1.4.3)\n",
            "Requirement already satisfied: joblib~=1.1.0 in /home/space/.local/lib/python3.10/site-packages (from pandas-profiling) (1.1.0)\n",
            "Collecting tangled-up-in-unicode==0.2.0\n",
            "  Downloading tangled_up_in_unicode-0.2.0-py3-none-any.whl (4.7 MB)\n",
            "\u001b[2K     \u001b[38;2;114;156;31m━━━━━━━━━━━━━━━━━━━━━━━━━━━━━━━━━━━━━━━━\u001b[0m \u001b[32m4.7/4.7 MB\u001b[0m \u001b[31m363.3 kB/s\u001b[0m eta \u001b[36m0:00:00\u001b[0mm eta \u001b[36m0:00:01\u001b[0m[36m0:00:01\u001b[0m\n",
            "\u001b[?25hCollecting multimethod<1.9,>=1.4\n",
            "  Downloading multimethod-1.8-py3-none-any.whl (9.8 kB)\n",
            "Collecting missingno<0.6,>=0.4.2\n",
            "  Downloading missingno-0.5.1-py3-none-any.whl (8.7 kB)\n",
            "Requirement already satisfied: seaborn<0.12,>=0.10.1 in /home/space/.local/lib/python3.10/site-packages (from pandas-profiling) (0.11.2)\n",
            "Requirement already satisfied: requests<2.29,>=2.24.0 in /usr/lib/python3/dist-packages (from pandas-profiling) (2.25.1)\n",
            "Requirement already satisfied: attrs>=19.3.0 in /home/space/.local/lib/python3.10/site-packages (from visions[type_image_path]==0.7.5->pandas-profiling) (22.1.0)\n",
            "Collecting networkx>=2.4\n",
            "  Downloading networkx-2.8.6-py3-none-any.whl (2.0 MB)\n",
            "\u001b[2K     \u001b[38;2;114;156;31m━━━━━━━━━━━━━━━━━━━━━━━━━━━━━━━━━━━━━━━━\u001b[0m \u001b[32m2.0/2.0 MB\u001b[0m \u001b[31m598.5 kB/s\u001b[0m eta \u001b[36m0:00:00\u001b[0mm eta \u001b[36m0:00:01\u001b[0m[36m0:00:01\u001b[0m\n",
            "\u001b[?25hCollecting imagehash\n",
            "  Downloading ImageHash-4.3.0-py2.py3-none-any.whl (296 kB)\n",
            "\u001b[2K     \u001b[38;2;114;156;31m━━━━━━━━━━━━━━━━━━━━━━━━━━━━━━━━━━━━━\u001b[0m \u001b[32m296.4/296.4 KB\u001b[0m \u001b[31m678.4 kB/s\u001b[0m eta \u001b[36m0:00:00\u001b[0m kB/s\u001b[0m eta \u001b[36m0:00:01\u001b[0m:01\u001b[0m\n",
            "\u001b[?25hRequirement already satisfied: Pillow in /usr/lib/python3/dist-packages (from visions[type_image_path]==0.7.5->pandas-profiling) (9.0.1)\n",
            "Requirement already satisfied: MarkupSafe>=2.0 in /usr/lib/python3/dist-packages (from jinja2<3.2,>=2.11.1->pandas-profiling) (2.0.1)\n",
            "Requirement already satisfied: fonttools>=4.22.0 in /home/space/.local/lib/python3.10/site-packages (from matplotlib<3.6,>=3.2->pandas-profiling) (4.34.4)\n",
            "Requirement already satisfied: kiwisolver>=1.0.1 in /home/space/.local/lib/python3.10/site-packages (from matplotlib<3.6,>=3.2->pandas-profiling) (1.4.4)\n",
            "Requirement already satisfied: python-dateutil>=2.7 in /home/space/.local/lib/python3.10/site-packages (from matplotlib<3.6,>=3.2->pandas-profiling) (2.8.2)\n",
            "Requirement already satisfied: packaging>=20.0 in /home/space/.local/lib/python3.10/site-packages (from matplotlib<3.6,>=3.2->pandas-profiling) (21.3)\n",
            "Requirement already satisfied: cycler>=0.10 in /home/space/.local/lib/python3.10/site-packages (from matplotlib<3.6,>=3.2->pandas-profiling) (0.11.0)\n",
            "Requirement already satisfied: pyparsing>=2.2.1 in /usr/lib/python3/dist-packages (from matplotlib<3.6,>=3.2->pandas-profiling) (2.4.7)\n",
            "Requirement already satisfied: pytz>=2020.1 in /usr/lib/python3/dist-packages (from pandas!=1.4.0,<1.5,>1.1->pandas-profiling) (2022.1)\n",
            "Collecting typing-extensions>=3.7.4.3\n",
            "  Downloading typing_extensions-4.3.0-py3-none-any.whl (25 kB)\n",
            "Requirement already satisfied: patsy>=0.5.2 in /home/space/.local/lib/python3.10/site-packages (from statsmodels<0.14,>=0.13.2->pandas-profiling) (0.5.2)\n",
            "Requirement already satisfied: six in /usr/lib/python3/dist-packages (from patsy>=0.5.2->statsmodels<0.14,>=0.13.2->pandas-profiling) (1.16.0)\n",
            "Collecting PyWavelets\n",
            "  Downloading PyWavelets-1.3.0-cp310-cp310-manylinux_2_17_x86_64.manylinux2014_x86_64.whl (6.9 MB)\n",
            "\u001b[2K     \u001b[38;2;114;156;31m━━━━━━━━━━━━━━━━━━━━━━━━━━━━━━━━━━━━━━━━\u001b[0m \u001b[32m6.9/6.9 MB\u001b[0m \u001b[31m295.8 kB/s\u001b[0m eta \u001b[36m0:00:00\u001b[0mm eta \u001b[36m0:00:01\u001b[0m[36m0:00:01\u001b[0m\n",
            "\u001b[?25hBuilding wheels for collected packages: htmlmin\n",
            "  Building wheel for htmlmin (setup.py) ... \u001b[?25ldone\n",
            "\u001b[?25h  Created wheel for htmlmin: filename=htmlmin-0.1.12-py3-none-any.whl size=27098 sha256=87cecd402a36db29b4b46abf97a7237b47ef1538307897f9254cd6fee5c7322a\n",
            "  Stored in directory: /home/space/.cache/pip/wheels/dd/91/29/a79cecb328d01739e64017b6fb9a1ab9d8cb1853098ec5966d\n",
            "Successfully built htmlmin\n",
            "Installing collected packages: htmlmin, typing-extensions, tangled-up-in-unicode, PyWavelets, networkx, multimethod, pydantic, imagehash, visions, phik, missingno, pandas-profiling\n",
            "Successfully installed PyWavelets-1.3.0 htmlmin-0.1.12 imagehash-4.3.0 missingno-0.5.1 multimethod-1.8 networkx-2.8.6 pandas-profiling-3.3.0 phik-0.12.2 pydantic-1.9.2 tangled-up-in-unicode-0.2.0 typing-extensions-4.3.0 visions-0.7.5\n"
          ]
        }
      ],
      "source": [
        "#Importing necessary libraries\n",
        "import pandas as pd\n",
        "import numpy as np\n",
        "\n",
        "\n",
        "try:\n",
        "  from tabulate import tabulate\n",
        "except:\n",
        "  !pip install tabulate\n",
        "  from tabulate import tabulate\n",
        "\n",
        "\n",
        "try:\n",
        "  from pandas_profiling import ProfileReport\n",
        "except:\n",
        "  !pip install pandas-profiling\n",
        "  from pandas_profiling import ProfileReport\n",
        "\n",
        "  \n",
        "\n",
        "from sklearn.preprocessing import LabelEncoder\n",
        "\n",
        "import matplotlib.pyplot as plt\n",
        "import seaborn as sns\n",
        "%matplotlib inline \n",
        "\n",
        "# setting font size for all plots\n",
        "font = {'size'   : 16}\n",
        "\n",
        "plt.rc('font', **font)"
      ]
    },
    {
      "cell_type": "code",
      "execution_count": null,
      "metadata": {
        "colab": {
          "base_uri": "https://localhost:8080/"
        },
        "id": "DGMNgAJIDfOu",
        "outputId": "b06a7220-e767-4b8d-f560-e32684142ad1"
      },
      "outputs": [
        {
          "name": "stdout",
          "output_type": "stream",
          "text": [
            "Drive already mounted at /content/drive; to attempt to forcibly remount, call drive.mount(\"/content/drive\", force_remount=True).\n"
          ]
        }
      ],
      "source": [
        "#Mounting google drive\n",
        "from google.colab import drive\n",
        "drive.mount('/content/drive')"
      ]
    },
    {
      "cell_type": "markdown",
      "metadata": {
        "id": "E9AXqU1nBfxx"
      },
      "source": [
        "### 1.5.1 Reading the Data"
      ]
    },
    {
      "cell_type": "code",
      "execution_count": null,
      "metadata": {
        "id": "_Q0PodbODxzL"
      },
      "outputs": [],
      "source": [
        "#Importing dataset\n",
        "\n",
        "dating_df = pd.read_csv('/content/drive/MyDrive/data/okcupid_profiles.csv')"
      ]
    },
    {
      "cell_type": "code",
      "execution_count": null,
      "metadata": {
        "id": "0LYVLayife3w"
      },
      "outputs": [],
      "source": [
        "pd.set_option('display.max_columns',None)"
      ]
    },
    {
      "cell_type": "code",
      "execution_count": null,
      "metadata": {
        "colab": {
          "base_uri": "https://localhost:8080/",
          "height": 756
        },
        "id": "oiJFCByPE_fv",
        "outputId": "127e2476-7b65-4266-c812-d86d305b0dc7"
      },
      "outputs": [
        {
          "data": {
            "text/html": [
              "\n",
              "  <div id=\"df-ec0a5961-6006-47d2-9a1b-5bcf2df5e3eb\">\n",
              "    <div class=\"colab-df-container\">\n",
              "      <div>\n",
              "<style scoped>\n",
              "    .dataframe tbody tr th:only-of-type {\n",
              "        vertical-align: middle;\n",
              "    }\n",
              "\n",
              "    .dataframe tbody tr th {\n",
              "        vertical-align: top;\n",
              "    }\n",
              "\n",
              "    .dataframe thead th {\n",
              "        text-align: right;\n",
              "    }\n",
              "</style>\n",
              "<table border=\"1\" class=\"dataframe\">\n",
              "  <thead>\n",
              "    <tr style=\"text-align: right;\">\n",
              "      <th></th>\n",
              "      <th>age</th>\n",
              "      <th>status</th>\n",
              "      <th>sex</th>\n",
              "      <th>orientation</th>\n",
              "      <th>body_type</th>\n",
              "      <th>diet</th>\n",
              "      <th>drinks</th>\n",
              "      <th>drugs</th>\n",
              "      <th>education</th>\n",
              "      <th>ethnicity</th>\n",
              "      <th>height</th>\n",
              "      <th>income</th>\n",
              "      <th>job</th>\n",
              "      <th>last_online</th>\n",
              "      <th>location</th>\n",
              "      <th>offspring</th>\n",
              "      <th>pets</th>\n",
              "      <th>religion</th>\n",
              "      <th>sign</th>\n",
              "      <th>smokes</th>\n",
              "      <th>speaks</th>\n",
              "      <th>essay0</th>\n",
              "      <th>essay1</th>\n",
              "      <th>essay2</th>\n",
              "      <th>essay3</th>\n",
              "      <th>essay4</th>\n",
              "      <th>essay5</th>\n",
              "      <th>essay6</th>\n",
              "      <th>essay7</th>\n",
              "      <th>essay8</th>\n",
              "      <th>essay9</th>\n",
              "    </tr>\n",
              "  </thead>\n",
              "  <tbody>\n",
              "    <tr>\n",
              "      <th>0</th>\n",
              "      <td>22</td>\n",
              "      <td>single</td>\n",
              "      <td>m</td>\n",
              "      <td>straight</td>\n",
              "      <td>a little extra</td>\n",
              "      <td>strictly anything</td>\n",
              "      <td>socially</td>\n",
              "      <td>never</td>\n",
              "      <td>working on college/university</td>\n",
              "      <td>asian, white</td>\n",
              "      <td>75.0</td>\n",
              "      <td>-1</td>\n",
              "      <td>transportation</td>\n",
              "      <td>2012-06-28-20-30</td>\n",
              "      <td>south san francisco, california</td>\n",
              "      <td>doesn't have kids, but might want them</td>\n",
              "      <td>likes dogs and likes cats</td>\n",
              "      <td>agnosticism and very serious about it</td>\n",
              "      <td>gemini</td>\n",
              "      <td>sometimes</td>\n",
              "      <td>english</td>\n",
              "      <td>about me:  i would love to think that i was so...</td>\n",
              "      <td>currently working as an international agent fo...</td>\n",
              "      <td>making people laugh. ranting about a good salt...</td>\n",
              "      <td>the way i look. i am a six foot half asian, ha...</td>\n",
              "      <td>books: absurdistan, the republic, of mice and ...</td>\n",
              "      <td>food. water. cell phone. shelter.</td>\n",
              "      <td>duality and humorous things</td>\n",
              "      <td>trying to find someone to hang out with. i am ...</td>\n",
              "      <td>i am new to california and looking for someone...</td>\n",
              "      <td>you want to be swept off your feet! you are ti...</td>\n",
              "    </tr>\n",
              "    <tr>\n",
              "      <th>1</th>\n",
              "      <td>35</td>\n",
              "      <td>single</td>\n",
              "      <td>m</td>\n",
              "      <td>straight</td>\n",
              "      <td>average</td>\n",
              "      <td>mostly other</td>\n",
              "      <td>often</td>\n",
              "      <td>sometimes</td>\n",
              "      <td>working on space camp</td>\n",
              "      <td>white</td>\n",
              "      <td>70.0</td>\n",
              "      <td>80000</td>\n",
              "      <td>hospitality / travel</td>\n",
              "      <td>2012-06-29-21-41</td>\n",
              "      <td>oakland, california</td>\n",
              "      <td>doesn't have kids, but might want them</td>\n",
              "      <td>likes dogs and likes cats</td>\n",
              "      <td>agnosticism but not too serious about it</td>\n",
              "      <td>cancer</td>\n",
              "      <td>no</td>\n",
              "      <td>english (fluently), spanish (poorly), french (...</td>\n",
              "      <td>i am a chef: this is what that means. 1. i am ...</td>\n",
              "      <td>dedicating everyday to being an unbelievable b...</td>\n",
              "      <td>being silly. having ridiculous amonts of fun w...</td>\n",
              "      <td>NaN</td>\n",
              "      <td>i am die hard christopher moore fan. i don't r...</td>\n",
              "      <td>delicious porkness in all of its glories. my b...</td>\n",
              "      <td>NaN</td>\n",
              "      <td>NaN</td>\n",
              "      <td>i am very open and will share just about anyth...</td>\n",
              "      <td>NaN</td>\n",
              "    </tr>\n",
              "    <tr>\n",
              "      <th>2</th>\n",
              "      <td>38</td>\n",
              "      <td>available</td>\n",
              "      <td>m</td>\n",
              "      <td>straight</td>\n",
              "      <td>thin</td>\n",
              "      <td>anything</td>\n",
              "      <td>socially</td>\n",
              "      <td>NaN</td>\n",
              "      <td>graduated from masters program</td>\n",
              "      <td>NaN</td>\n",
              "      <td>68.0</td>\n",
              "      <td>-1</td>\n",
              "      <td>NaN</td>\n",
              "      <td>2012-06-27-09-10</td>\n",
              "      <td>san francisco, california</td>\n",
              "      <td>NaN</td>\n",
              "      <td>has cats</td>\n",
              "      <td>NaN</td>\n",
              "      <td>pisces but it doesn&amp;rsquo;t matter</td>\n",
              "      <td>no</td>\n",
              "      <td>english, french, c++</td>\n",
              "      <td>i'm not ashamed of much, but writing public te...</td>\n",
              "      <td>i make nerdy software for musicians, artists, ...</td>\n",
              "      <td>improvising in different contexts. alternating...</td>\n",
              "      <td>my large jaw and large glasses are the physica...</td>\n",
              "      <td>okay this is where the cultural matrix gets so...</td>\n",
              "      <td>movement conversation creation contemplation t...</td>\n",
              "      <td>NaN</td>\n",
              "      <td>viewing. listening. dancing. talking. drinking...</td>\n",
              "      <td>when i was five years old, i was known as \"the...</td>\n",
              "      <td>you are bright, open, intense, silly, ironic, ...</td>\n",
              "    </tr>\n",
              "    <tr>\n",
              "      <th>3</th>\n",
              "      <td>23</td>\n",
              "      <td>single</td>\n",
              "      <td>m</td>\n",
              "      <td>straight</td>\n",
              "      <td>thin</td>\n",
              "      <td>vegetarian</td>\n",
              "      <td>socially</td>\n",
              "      <td>NaN</td>\n",
              "      <td>working on college/university</td>\n",
              "      <td>white</td>\n",
              "      <td>71.0</td>\n",
              "      <td>20000</td>\n",
              "      <td>student</td>\n",
              "      <td>2012-06-28-14-22</td>\n",
              "      <td>berkeley, california</td>\n",
              "      <td>doesn't want kids</td>\n",
              "      <td>likes cats</td>\n",
              "      <td>NaN</td>\n",
              "      <td>pisces</td>\n",
              "      <td>no</td>\n",
              "      <td>english, german (poorly)</td>\n",
              "      <td>i work in a library and go to school. . .</td>\n",
              "      <td>reading things written by old dead people</td>\n",
              "      <td>playing synthesizers and organizing books acco...</td>\n",
              "      <td>socially awkward but i do my best</td>\n",
              "      <td>bataille, celine, beckett. . . lynch, jarmusch...</td>\n",
              "      <td>NaN</td>\n",
              "      <td>cats and german philosophy</td>\n",
              "      <td>NaN</td>\n",
              "      <td>NaN</td>\n",
              "      <td>you feel so inclined.</td>\n",
              "    </tr>\n",
              "    <tr>\n",
              "      <th>4</th>\n",
              "      <td>29</td>\n",
              "      <td>single</td>\n",
              "      <td>m</td>\n",
              "      <td>straight</td>\n",
              "      <td>athletic</td>\n",
              "      <td>NaN</td>\n",
              "      <td>socially</td>\n",
              "      <td>never</td>\n",
              "      <td>graduated from college/university</td>\n",
              "      <td>asian, black, other</td>\n",
              "      <td>66.0</td>\n",
              "      <td>-1</td>\n",
              "      <td>artistic / musical / writer</td>\n",
              "      <td>2012-06-27-21-26</td>\n",
              "      <td>san francisco, california</td>\n",
              "      <td>NaN</td>\n",
              "      <td>likes dogs and likes cats</td>\n",
              "      <td>NaN</td>\n",
              "      <td>aquarius</td>\n",
              "      <td>no</td>\n",
              "      <td>english</td>\n",
              "      <td>hey how's it going? currently vague on the pro...</td>\n",
              "      <td>work work work work + play</td>\n",
              "      <td>creating imagery to look at: http://bagsbrown....</td>\n",
              "      <td>i smile a lot and my inquisitive nature</td>\n",
              "      <td>music: bands, rappers, musicians at the moment...</td>\n",
              "      <td>NaN</td>\n",
              "      <td>NaN</td>\n",
              "      <td>NaN</td>\n",
              "      <td>NaN</td>\n",
              "      <td>NaN</td>\n",
              "    </tr>\n",
              "  </tbody>\n",
              "</table>\n",
              "</div>\n",
              "      <button class=\"colab-df-convert\" onclick=\"convertToInteractive('df-ec0a5961-6006-47d2-9a1b-5bcf2df5e3eb')\"\n",
              "              title=\"Convert this dataframe to an interactive table.\"\n",
              "              style=\"display:none;\">\n",
              "        \n",
              "  <svg xmlns=\"http://www.w3.org/2000/svg\" height=\"24px\"viewBox=\"0 0 24 24\"\n",
              "       width=\"24px\">\n",
              "    <path d=\"M0 0h24v24H0V0z\" fill=\"none\"/>\n",
              "    <path d=\"M18.56 5.44l.94 2.06.94-2.06 2.06-.94-2.06-.94-.94-2.06-.94 2.06-2.06.94zm-11 1L8.5 8.5l.94-2.06 2.06-.94-2.06-.94L8.5 2.5l-.94 2.06-2.06.94zm10 10l.94 2.06.94-2.06 2.06-.94-2.06-.94-.94-2.06-.94 2.06-2.06.94z\"/><path d=\"M17.41 7.96l-1.37-1.37c-.4-.4-.92-.59-1.43-.59-.52 0-1.04.2-1.43.59L10.3 9.45l-7.72 7.72c-.78.78-.78 2.05 0 2.83L4 21.41c.39.39.9.59 1.41.59.51 0 1.02-.2 1.41-.59l7.78-7.78 2.81-2.81c.8-.78.8-2.07 0-2.86zM5.41 20L4 18.59l7.72-7.72 1.47 1.35L5.41 20z\"/>\n",
              "  </svg>\n",
              "      </button>\n",
              "      \n",
              "  <style>\n",
              "    .colab-df-container {\n",
              "      display:flex;\n",
              "      flex-wrap:wrap;\n",
              "      gap: 12px;\n",
              "    }\n",
              "\n",
              "    .colab-df-convert {\n",
              "      background-color: #E8F0FE;\n",
              "      border: none;\n",
              "      border-radius: 50%;\n",
              "      cursor: pointer;\n",
              "      display: none;\n",
              "      fill: #1967D2;\n",
              "      height: 32px;\n",
              "      padding: 0 0 0 0;\n",
              "      width: 32px;\n",
              "    }\n",
              "\n",
              "    .colab-df-convert:hover {\n",
              "      background-color: #E2EBFA;\n",
              "      box-shadow: 0px 1px 2px rgba(60, 64, 67, 0.3), 0px 1px 3px 1px rgba(60, 64, 67, 0.15);\n",
              "      fill: #174EA6;\n",
              "    }\n",
              "\n",
              "    [theme=dark] .colab-df-convert {\n",
              "      background-color: #3B4455;\n",
              "      fill: #D2E3FC;\n",
              "    }\n",
              "\n",
              "    [theme=dark] .colab-df-convert:hover {\n",
              "      background-color: #434B5C;\n",
              "      box-shadow: 0px 1px 3px 1px rgba(0, 0, 0, 0.15);\n",
              "      filter: drop-shadow(0px 1px 2px rgba(0, 0, 0, 0.3));\n",
              "      fill: #FFFFFF;\n",
              "    }\n",
              "  </style>\n",
              "\n",
              "      <script>\n",
              "        const buttonEl =\n",
              "          document.querySelector('#df-ec0a5961-6006-47d2-9a1b-5bcf2df5e3eb button.colab-df-convert');\n",
              "        buttonEl.style.display =\n",
              "          google.colab.kernel.accessAllowed ? 'block' : 'none';\n",
              "\n",
              "        async function convertToInteractive(key) {\n",
              "          const element = document.querySelector('#df-ec0a5961-6006-47d2-9a1b-5bcf2df5e3eb');\n",
              "          const dataTable =\n",
              "            await google.colab.kernel.invokeFunction('convertToInteractive',\n",
              "                                                     [key], {});\n",
              "          if (!dataTable) return;\n",
              "\n",
              "          const docLinkHtml = 'Like what you see? Visit the ' +\n",
              "            '<a target=\"_blank\" href=https://colab.research.google.com/notebooks/data_table.ipynb>data table notebook</a>'\n",
              "            + ' to learn more about interactive tables.';\n",
              "          element.innerHTML = '';\n",
              "          dataTable['output_type'] = 'display_data';\n",
              "          await google.colab.output.renderOutput(dataTable, element);\n",
              "          const docLink = document.createElement('div');\n",
              "          docLink.innerHTML = docLinkHtml;\n",
              "          element.appendChild(docLink);\n",
              "        }\n",
              "      </script>\n",
              "    </div>\n",
              "  </div>\n",
              "  "
            ],
            "text/plain": [
              "   age     status sex orientation       body_type               diet  \\\n",
              "0   22     single   m    straight  a little extra  strictly anything   \n",
              "1   35     single   m    straight         average       mostly other   \n",
              "2   38  available   m    straight            thin           anything   \n",
              "3   23     single   m    straight            thin         vegetarian   \n",
              "4   29     single   m    straight        athletic                NaN   \n",
              "\n",
              "     drinks      drugs                          education  \\\n",
              "0  socially      never      working on college/university   \n",
              "1     often  sometimes              working on space camp   \n",
              "2  socially        NaN     graduated from masters program   \n",
              "3  socially        NaN      working on college/university   \n",
              "4  socially      never  graduated from college/university   \n",
              "\n",
              "             ethnicity  height  income                          job  \\\n",
              "0         asian, white    75.0      -1               transportation   \n",
              "1                white    70.0   80000         hospitality / travel   \n",
              "2                  NaN    68.0      -1                          NaN   \n",
              "3                white    71.0   20000                      student   \n",
              "4  asian, black, other    66.0      -1  artistic / musical / writer   \n",
              "\n",
              "        last_online                         location  \\\n",
              "0  2012-06-28-20-30  south san francisco, california   \n",
              "1  2012-06-29-21-41              oakland, california   \n",
              "2  2012-06-27-09-10        san francisco, california   \n",
              "3  2012-06-28-14-22             berkeley, california   \n",
              "4  2012-06-27-21-26        san francisco, california   \n",
              "\n",
              "                                offspring                       pets  \\\n",
              "0  doesn't have kids, but might want them  likes dogs and likes cats   \n",
              "1  doesn't have kids, but might want them  likes dogs and likes cats   \n",
              "2                                     NaN                   has cats   \n",
              "3                       doesn't want kids                 likes cats   \n",
              "4                                     NaN  likes dogs and likes cats   \n",
              "\n",
              "                                   religion  \\\n",
              "0     agnosticism and very serious about it   \n",
              "1  agnosticism but not too serious about it   \n",
              "2                                       NaN   \n",
              "3                                       NaN   \n",
              "4                                       NaN   \n",
              "\n",
              "                                 sign     smokes  \\\n",
              "0                              gemini  sometimes   \n",
              "1                              cancer         no   \n",
              "2  pisces but it doesn&rsquo;t matter         no   \n",
              "3                              pisces         no   \n",
              "4                            aquarius         no   \n",
              "\n",
              "                                              speaks  \\\n",
              "0                                            english   \n",
              "1  english (fluently), spanish (poorly), french (...   \n",
              "2                               english, french, c++   \n",
              "3                           english, german (poorly)   \n",
              "4                                            english   \n",
              "\n",
              "                                              essay0  \\\n",
              "0  about me:  i would love to think that i was so...   \n",
              "1  i am a chef: this is what that means. 1. i am ...   \n",
              "2  i'm not ashamed of much, but writing public te...   \n",
              "3          i work in a library and go to school. . .   \n",
              "4  hey how's it going? currently vague on the pro...   \n",
              "\n",
              "                                              essay1  \\\n",
              "0  currently working as an international agent fo...   \n",
              "1  dedicating everyday to being an unbelievable b...   \n",
              "2  i make nerdy software for musicians, artists, ...   \n",
              "3          reading things written by old dead people   \n",
              "4                         work work work work + play   \n",
              "\n",
              "                                              essay2  \\\n",
              "0  making people laugh. ranting about a good salt...   \n",
              "1  being silly. having ridiculous amonts of fun w...   \n",
              "2  improvising in different contexts. alternating...   \n",
              "3  playing synthesizers and organizing books acco...   \n",
              "4  creating imagery to look at: http://bagsbrown....   \n",
              "\n",
              "                                              essay3  \\\n",
              "0  the way i look. i am a six foot half asian, ha...   \n",
              "1                                                NaN   \n",
              "2  my large jaw and large glasses are the physica...   \n",
              "3                  socially awkward but i do my best   \n",
              "4            i smile a lot and my inquisitive nature   \n",
              "\n",
              "                                              essay4  \\\n",
              "0  books: absurdistan, the republic, of mice and ...   \n",
              "1  i am die hard christopher moore fan. i don't r...   \n",
              "2  okay this is where the cultural matrix gets so...   \n",
              "3  bataille, celine, beckett. . . lynch, jarmusch...   \n",
              "4  music: bands, rappers, musicians at the moment...   \n",
              "\n",
              "                                              essay5  \\\n",
              "0                  food. water. cell phone. shelter.   \n",
              "1  delicious porkness in all of its glories. my b...   \n",
              "2  movement conversation creation contemplation t...   \n",
              "3                                                NaN   \n",
              "4                                                NaN   \n",
              "\n",
              "                        essay6  \\\n",
              "0  duality and humorous things   \n",
              "1                          NaN   \n",
              "2                          NaN   \n",
              "3   cats and german philosophy   \n",
              "4                          NaN   \n",
              "\n",
              "                                              essay7  \\\n",
              "0  trying to find someone to hang out with. i am ...   \n",
              "1                                                NaN   \n",
              "2  viewing. listening. dancing. talking. drinking...   \n",
              "3                                                NaN   \n",
              "4                                                NaN   \n",
              "\n",
              "                                              essay8  \\\n",
              "0  i am new to california and looking for someone...   \n",
              "1  i am very open and will share just about anyth...   \n",
              "2  when i was five years old, i was known as \"the...   \n",
              "3                                                NaN   \n",
              "4                                                NaN   \n",
              "\n",
              "                                              essay9  \n",
              "0  you want to be swept off your feet! you are ti...  \n",
              "1                                                NaN  \n",
              "2  you are bright, open, intense, silly, ironic, ...  \n",
              "3                              you feel so inclined.  \n",
              "4                                                NaN  "
            ]
          },
          "execution_count": 8,
          "metadata": {},
          "output_type": "execute_result"
        }
      ],
      "source": [
        "#First 5 rows of the data set\n",
        "dating_df.head()"
      ]
    },
    {
      "cell_type": "markdown",
      "metadata": {
        "id": "-qxoJ1jgCAyQ"
      },
      "source": [
        "###1.5.2 Checking the Data\n",
        "In this section we will check for the shape of the data, number of unique vales and the number of missing values per column."
      ]
    },
    {
      "cell_type": "code",
      "execution_count": null,
      "metadata": {
        "colab": {
          "base_uri": "https://localhost:8080/"
        },
        "id": "De1UM70uE2ew",
        "outputId": "a9620ed9-87a6-4533-9942-5f1d20a0ab34"
      },
      "outputs": [
        {
          "name": "stdout",
          "output_type": "stream",
          "text": [
            "Number of rows: 59946\n",
            "Number of columns: 31 \n",
            "\n"
          ]
        }
      ],
      "source": [
        "#Checking for the shape of the data\n",
        "print(\"Number of rows:\", dating_df.shape[0])\n",
        "print(\"Number of columns:\", dating_df.shape[1],'\\n')"
      ]
    },
    {
      "cell_type": "markdown",
      "metadata": {
        "id": "zlYsFAGrFKMj"
      },
      "source": [
        "The dataset has 59946 rows and 31 columns"
      ]
    },
    {
      "cell_type": "code",
      "execution_count": null,
      "metadata": {
        "colab": {
          "base_uri": "https://localhost:8080/"
        },
        "id": "DAlHpP8QGq2N",
        "outputId": "5b911e36-5701-4092-ca2d-831f9cf80d0d"
      },
      "outputs": [
        {
          "name": "stdout",
          "output_type": "stream",
          "text": [
            "Feature        No of unique values    No of null values\n",
            "-----------  ---------------------  -------------------\n",
            "age                             54                    0\n",
            "status                           5                    0\n",
            "sex                              2                    0\n",
            "orientation                      3                    0\n",
            "body_type                       13                 5296\n",
            "diet                            19                24395\n",
            "drinks                           7                 2985\n",
            "drugs                            4                14080\n",
            "education                       33                 6628\n",
            "ethnicity                      218                 5680\n",
            "height                          61                    3\n",
            "income                          13                    0\n",
            "job                             22                 8198\n",
            "last_online                  30123                    0\n",
            "location                       199                    0\n",
            "offspring                       16                35561\n",
            "pets                            16                19921\n",
            "religion                        46                20226\n",
            "sign                            49                11056\n",
            "smokes                           6                 5512\n",
            "speaks                        7648                   50\n",
            "essay0                       54348                 5488\n",
            "essay1                       51517                 7572\n",
            "essay2                       48626                 9638\n",
            "essay3                       43521                11476\n",
            "essay4                       49258                10537\n",
            "essay5                       48962                10850\n",
            "essay6                       43584                13771\n",
            "essay7                       45549                12451\n",
            "essay8                       39324                19225\n",
            "essay9                       45441                12603 \n",
            "\n"
          ]
        }
      ],
      "source": [
        "# Loop to check for missing values and unique values per column \n",
        "data_info = []\n",
        "for i, column in enumerate(dating_df.columns):\n",
        "    data_info.append([column, len(pd.unique(dating_df[column].values)), np.sum(pd.isnull(dating_df[column]))])\n",
        "\n",
        "print(tabulate(data_info, headers=['Feature','No of unique values', 'No of null values']),\"\\n\")   "
      ]
    },
    {
      "cell_type": "markdown",
      "metadata": {
        "id": "_pZqnyDALEXB"
      },
      "source": [
        "The table above shows missing values per column and unique values per column. A number of columns have quite a huge number of missing values that we will deal with eventually in the notebook."
      ]
    },
    {
      "cell_type": "markdown",
      "metadata": {
        "id": "cz26z2RaPBKp"
      },
      "source": [
        "##1.6 Data Cleaning\n",
        "In this section we will clean our data. This includes dealing with missing values. Natuaral Language processing will also be done to aid in cleaning text data in the essays columns."
      ]
    },
    {
      "cell_type": "markdown",
      "metadata": {
        "id": "IXqWq0i1IlCk"
      },
      "source": [
        "###1.6.1 Checking null values percentage"
      ]
    },
    {
      "cell_type": "code",
      "execution_count": null,
      "metadata": {
        "colab": {
          "base_uri": "https://localhost:8080/"
        },
        "id": "w0ypZmkYPIag",
        "outputId": "72a616b1-7353-460d-f716-580b89c5b841"
      },
      "outputs": [
        {
          "data": {
            "text/plain": [
              "age             0.000000\n",
              "status          0.000000\n",
              "sex             0.000000\n",
              "orientation     0.000000\n",
              "body_type       8.834618\n",
              "diet           40.694959\n",
              "drinks          4.979482\n",
              "drugs          23.487806\n",
              "education      11.056618\n",
              "ethnicity       9.475194\n",
              "height          0.005005\n",
              "income          0.000000\n",
              "job            13.675641\n",
              "last_online     0.000000\n",
              "location        0.000000\n",
              "offspring      59.321723\n",
              "pets           33.231575\n",
              "religion       33.740366\n",
              "sign           18.443266\n",
              "smokes          9.194942\n",
              "speaks          0.083408\n",
              "essay0          9.154906\n",
              "essay1         12.631368\n",
              "essay2         16.077803\n",
              "essay3         19.143896\n",
              "essay4         17.577486\n",
              "essay5         18.099623\n",
              "essay6         22.972342\n",
              "essay7         20.770360\n",
              "essay8         32.070530\n",
              "essay9         21.023922\n",
              "dtype: float64"
            ]
          },
          "execution_count": 11,
          "metadata": {},
          "output_type": "execute_result"
        }
      ],
      "source": [
        "dating_df.isna().sum()/len(dating_df)*100"
      ]
    },
    {
      "cell_type": "markdown",
      "metadata": {
        "id": "h1OuQVB_6bO0"
      },
      "source": [
        "Most of our columns seem to have the problem of missing data and that will be addressed in these subsequent cells. The `offspring` column is see to have the highest number of missing values at 59.3%."
      ]
    },
    {
      "cell_type": "markdown",
      "metadata": {
        "id": "Y2FVTxzLKJSZ"
      },
      "source": [
        "###1.6.2 Checking datatypes"
      ]
    },
    {
      "cell_type": "code",
      "execution_count": null,
      "metadata": {
        "colab": {
          "base_uri": "https://localhost:8080/"
        },
        "id": "lXvjUkz_KLrl",
        "outputId": "bb4946b3-2caa-4b86-ee10-ee5633195a3b"
      },
      "outputs": [
        {
          "name": "stdout",
          "output_type": "stream",
          "text": [
            "<class 'pandas.core.frame.DataFrame'>\n",
            "RangeIndex: 59946 entries, 0 to 59945\n",
            "Data columns (total 31 columns):\n",
            " #   Column       Non-Null Count  Dtype  \n",
            "---  ------       --------------  -----  \n",
            " 0   age          59946 non-null  int64  \n",
            " 1   status       59946 non-null  object \n",
            " 2   sex          59946 non-null  object \n",
            " 3   orientation  59946 non-null  object \n",
            " 4   body_type    54650 non-null  object \n",
            " 5   diet         35551 non-null  object \n",
            " 6   drinks       56961 non-null  object \n",
            " 7   drugs        45866 non-null  object \n",
            " 8   education    53318 non-null  object \n",
            " 9   ethnicity    54266 non-null  object \n",
            " 10  height       59943 non-null  float64\n",
            " 11  income       59946 non-null  int64  \n",
            " 12  job          51748 non-null  object \n",
            " 13  last_online  59946 non-null  object \n",
            " 14  location     59946 non-null  object \n",
            " 15  offspring    24385 non-null  object \n",
            " 16  pets         40025 non-null  object \n",
            " 17  religion     39720 non-null  object \n",
            " 18  sign         48890 non-null  object \n",
            " 19  smokes       54434 non-null  object \n",
            " 20  speaks       59896 non-null  object \n",
            " 21  essay0       54458 non-null  object \n",
            " 22  essay1       52374 non-null  object \n",
            " 23  essay2       50308 non-null  object \n",
            " 24  essay3       48470 non-null  object \n",
            " 25  essay4       49409 non-null  object \n",
            " 26  essay5       49096 non-null  object \n",
            " 27  essay6       46175 non-null  object \n",
            " 28  essay7       47495 non-null  object \n",
            " 29  essay8       40721 non-null  object \n",
            " 30  essay9       47343 non-null  object \n",
            "dtypes: float64(1), int64(2), object(28)\n",
            "memory usage: 14.2+ MB\n"
          ]
        }
      ],
      "source": [
        "#Checking the data type for each column\n",
        "dating_df.info()"
      ]
    },
    {
      "cell_type": "code",
      "execution_count": null,
      "metadata": {
        "colab": {
          "base_uri": "https://localhost:8080/"
        },
        "id": "u6K44YJxU4R-",
        "outputId": "1788fb5e-257b-4937-ad39-28c53494d71d"
      },
      "outputs": [
        {
          "data": {
            "text/html": [
              "\n",
              "  <div id=\"df-c73de890-f4c0-4f89-9f78-a7b3b0cc90c9\">\n",
              "    <div class=\"colab-df-container\">\n",
              "      <div>\n",
              "<style scoped>\n",
              "    .dataframe tbody tr th:only-of-type {\n",
              "        vertical-align: middle;\n",
              "    }\n",
              "\n",
              "    .dataframe tbody tr th {\n",
              "        vertical-align: top;\n",
              "    }\n",
              "\n",
              "    .dataframe thead th {\n",
              "        text-align: right;\n",
              "    }\n",
              "</style>\n",
              "<table border=\"1\" class=\"dataframe\">\n",
              "  <thead>\n",
              "    <tr style=\"text-align: right;\">\n",
              "      <th></th>\n",
              "      <th>count</th>\n",
              "      <th>mean</th>\n",
              "      <th>std</th>\n",
              "      <th>min</th>\n",
              "      <th>25%</th>\n",
              "      <th>50%</th>\n",
              "      <th>75%</th>\n",
              "      <th>max</th>\n",
              "    </tr>\n",
              "  </thead>\n",
              "  <tbody>\n",
              "    <tr>\n",
              "      <th>age</th>\n",
              "      <td>59946.0</td>\n",
              "      <td>32.340290</td>\n",
              "      <td>9.452779</td>\n",
              "      <td>18.0</td>\n",
              "      <td>26.0</td>\n",
              "      <td>30.0</td>\n",
              "      <td>37.0</td>\n",
              "      <td>110.0</td>\n",
              "    </tr>\n",
              "    <tr>\n",
              "      <th>height</th>\n",
              "      <td>59943.0</td>\n",
              "      <td>68.295281</td>\n",
              "      <td>3.994803</td>\n",
              "      <td>1.0</td>\n",
              "      <td>66.0</td>\n",
              "      <td>68.0</td>\n",
              "      <td>71.0</td>\n",
              "      <td>95.0</td>\n",
              "    </tr>\n",
              "    <tr>\n",
              "      <th>income</th>\n",
              "      <td>59946.0</td>\n",
              "      <td>20033.222534</td>\n",
              "      <td>97346.192104</td>\n",
              "      <td>-1.0</td>\n",
              "      <td>-1.0</td>\n",
              "      <td>-1.0</td>\n",
              "      <td>-1.0</td>\n",
              "      <td>1000000.0</td>\n",
              "    </tr>\n",
              "  </tbody>\n",
              "</table>\n",
              "</div>\n",
              "      <button class=\"colab-df-convert\" onclick=\"convertToInteractive('df-c73de890-f4c0-4f89-9f78-a7b3b0cc90c9')\"\n",
              "              title=\"Convert this dataframe to an interactive table.\"\n",
              "              style=\"display:none;\">\n",
              "        \n",
              "  <svg xmlns=\"http://www.w3.org/2000/svg\" height=\"24px\"viewBox=\"0 0 24 24\"\n",
              "       width=\"24px\">\n",
              "    <path d=\"M0 0h24v24H0V0z\" fill=\"none\"/>\n",
              "    <path d=\"M18.56 5.44l.94 2.06.94-2.06 2.06-.94-2.06-.94-.94-2.06-.94 2.06-2.06.94zm-11 1L8.5 8.5l.94-2.06 2.06-.94-2.06-.94L8.5 2.5l-.94 2.06-2.06.94zm10 10l.94 2.06.94-2.06 2.06-.94-2.06-.94-.94-2.06-.94 2.06-2.06.94z\"/><path d=\"M17.41 7.96l-1.37-1.37c-.4-.4-.92-.59-1.43-.59-.52 0-1.04.2-1.43.59L10.3 9.45l-7.72 7.72c-.78.78-.78 2.05 0 2.83L4 21.41c.39.39.9.59 1.41.59.51 0 1.02-.2 1.41-.59l7.78-7.78 2.81-2.81c.8-.78.8-2.07 0-2.86zM5.41 20L4 18.59l7.72-7.72 1.47 1.35L5.41 20z\"/>\n",
              "  </svg>\n",
              "      </button>\n",
              "      \n",
              "  <style>\n",
              "    .colab-df-container {\n",
              "      display:flex;\n",
              "      flex-wrap:wrap;\n",
              "      gap: 12px;\n",
              "    }\n",
              "\n",
              "    .colab-df-convert {\n",
              "      background-color: #E8F0FE;\n",
              "      border: none;\n",
              "      border-radius: 50%;\n",
              "      cursor: pointer;\n",
              "      display: none;\n",
              "      fill: #1967D2;\n",
              "      height: 32px;\n",
              "      padding: 0 0 0 0;\n",
              "      width: 32px;\n",
              "    }\n",
              "\n",
              "    .colab-df-convert:hover {\n",
              "      background-color: #E2EBFA;\n",
              "      box-shadow: 0px 1px 2px rgba(60, 64, 67, 0.3), 0px 1px 3px 1px rgba(60, 64, 67, 0.15);\n",
              "      fill: #174EA6;\n",
              "    }\n",
              "\n",
              "    [theme=dark] .colab-df-convert {\n",
              "      background-color: #3B4455;\n",
              "      fill: #D2E3FC;\n",
              "    }\n",
              "\n",
              "    [theme=dark] .colab-df-convert:hover {\n",
              "      background-color: #434B5C;\n",
              "      box-shadow: 0px 1px 3px 1px rgba(0, 0, 0, 0.15);\n",
              "      filter: drop-shadow(0px 1px 2px rgba(0, 0, 0, 0.3));\n",
              "      fill: #FFFFFF;\n",
              "    }\n",
              "  </style>\n",
              "\n",
              "      <script>\n",
              "        const buttonEl =\n",
              "          document.querySelector('#df-c73de890-f4c0-4f89-9f78-a7b3b0cc90c9 button.colab-df-convert');\n",
              "        buttonEl.style.display =\n",
              "          google.colab.kernel.accessAllowed ? 'block' : 'none';\n",
              "\n",
              "        async function convertToInteractive(key) {\n",
              "          const element = document.querySelector('#df-c73de890-f4c0-4f89-9f78-a7b3b0cc90c9');\n",
              "          const dataTable =\n",
              "            await google.colab.kernel.invokeFunction('convertToInteractive',\n",
              "                                                     [key], {});\n",
              "          if (!dataTable) return;\n",
              "\n",
              "          const docLinkHtml = 'Like what you see? Visit the ' +\n",
              "            '<a target=\"_blank\" href=https://colab.research.google.com/notebooks/data_table.ipynb>data table notebook</a>'\n",
              "            + ' to learn more about interactive tables.';\n",
              "          element.innerHTML = '';\n",
              "          dataTable['output_type'] = 'display_data';\n",
              "          await google.colab.output.renderOutput(dataTable, element);\n",
              "          const docLink = document.createElement('div');\n",
              "          docLink.innerHTML = docLinkHtml;\n",
              "          element.appendChild(docLink);\n",
              "        }\n",
              "      </script>\n",
              "    </div>\n",
              "  </div>\n",
              "  "
            ],
            "text/plain": [
              "          count          mean           std   min   25%   50%   75%        max\n",
              "age     59946.0     32.340290      9.452779  18.0  26.0  30.0  37.0      110.0\n",
              "height  59943.0     68.295281      3.994803   1.0  66.0  68.0  71.0       95.0\n",
              "income  59946.0  20033.222534  97346.192104  -1.0  -1.0  -1.0  -1.0  1000000.0"
            ]
          },
          "execution_count": 13,
          "metadata": {},
          "output_type": "execute_result"
        }
      ],
      "source": [
        "# checking for abnormality in the numerical columns\n",
        "dating_df.describe().T"
      ]
    },
    {
      "cell_type": "markdown",
      "metadata": {
        "id": "KMJMYWAXIekp"
      },
      "source": [
        "###1.6.2 The Body Type Column"
      ]
    },
    {
      "cell_type": "code",
      "execution_count": null,
      "metadata": {
        "colab": {
          "base_uri": "https://localhost:8080/"
        },
        "id": "BRJDZQiGRQUk",
        "outputId": "ad8b38c9-5f04-428a-f469-990a33672945"
      },
      "outputs": [
        {
          "data": {
            "text/plain": [
              "average           14652\n",
              "fit               12711\n",
              "athletic          11819\n",
              "thin               4711\n",
              "curvy              3924\n",
              "a little extra     2629\n",
              "skinny             1777\n",
              "full figured       1009\n",
              "overweight          444\n",
              "jacked              421\n",
              "used up             355\n",
              "rather not say      198\n",
              "Name: body_type, dtype: int64"
            ]
          },
          "execution_count": 14,
          "metadata": {},
          "output_type": "execute_result"
        }
      ],
      "source": [
        "#check value count of body type\n",
        "dating_df['body_type'].value_counts()"
      ]
    },
    {
      "cell_type": "markdown",
      "metadata": {
        "id": "AElz29fN6sjY"
      },
      "source": [
        "For this column we will fill the missing values using with `unspecified` since a user may have skipped the section to fill in information on their body type."
      ]
    },
    {
      "cell_type": "code",
      "execution_count": null,
      "metadata": {
        "id": "TpUX-j5HRSlr"
      },
      "outputs": [],
      "source": [
        "#Replacing the missing values with unspecified.\n",
        "dating_df['body_type'].fillna('Unspecified',inplace=True)"
      ]
    },
    {
      "cell_type": "code",
      "execution_count": null,
      "metadata": {
        "colab": {
          "base_uri": "https://localhost:8080/"
        },
        "id": "x_u9CPffRopl",
        "outputId": "cb765d12-cab3-4113-a56c-6b5bfb91bd33"
      },
      "outputs": [
        {
          "data": {
            "text/plain": [
              "mostly anything        16585\n",
              "anything                6183\n",
              "strictly anything       5113\n",
              "mostly vegetarian       3444\n",
              "mostly other            1007\n",
              "strictly vegetarian      875\n",
              "vegetarian               667\n",
              "strictly other           452\n",
              "mostly vegan             338\n",
              "other                    331\n",
              "strictly vegan           228\n",
              "vegan                    136\n",
              "mostly kosher             86\n",
              "mostly halal              48\n",
              "strictly halal            18\n",
              "strictly kosher           18\n",
              "halal                     11\n",
              "kosher                    11\n",
              "Name: diet, dtype: int64"
            ]
          },
          "execution_count": 16,
          "metadata": {},
          "output_type": "execute_result"
        }
      ],
      "source": [
        "#check value count of diet\n",
        "dating_df['diet'].value_counts()"
      ]
    },
    {
      "cell_type": "markdown",
      "metadata": {
        "id": "GtFRbOfVH-k0"
      },
      "source": [
        "###1.6.3 The Diet Column\n"
      ]
    },
    {
      "cell_type": "markdown",
      "metadata": {
        "id": "85l_uZ2r7Kac"
      },
      "source": [
        "For this column we noticed that some of the option are similar therefore we will replace similar classes with the same class. "
      ]
    },
    {
      "cell_type": "code",
      "execution_count": null,
      "metadata": {
        "id": "mz33CazBVq_7"
      },
      "outputs": [],
      "source": [
        "dating_df['diet'] = dating_df['diet'].replace(['mostly anything','strictly anything'],'anything')\n",
        "dating_df['diet'] = dating_df['diet'].replace(['mostly vegetarian','strictly vegetarian','mostly vegan','strictly vegan','vegan'],'vegetarian')\n",
        "dating_df['diet'] = dating_df['diet'].replace(['mostly halal','strictly halal'],'halal')\n",
        "dating_df['diet'] = dating_df['diet'].replace(['mostly kosher','strictly kosher'],'kosher')\n",
        "dating_df['diet'] = dating_df['diet'].replace(['mostly other','strictly other'],'other')\n",
        "\n",
        "dating_df['diet'].fillna('Unspecified',inplace=True)"
      ]
    },
    {
      "cell_type": "markdown",
      "metadata": {
        "id": "XWQoS6mLIsB6"
      },
      "source": [
        "###1.6.4 The Drinks Column"
      ]
    },
    {
      "cell_type": "markdown",
      "metadata": {
        "id": "uQ8vaZ5w7eCN"
      },
      "source": [
        "The missing values in the drinks column will be replaced with unspecified since some users may choose not to disclose that information."
      ]
    },
    {
      "cell_type": "code",
      "execution_count": null,
      "metadata": {
        "colab": {
          "base_uri": "https://localhost:8080/"
        },
        "id": "lHGZlA-5U-3X",
        "outputId": "598d7b40-6acb-48fa-f3d1-77fa37c50c2d"
      },
      "outputs": [
        {
          "data": {
            "text/plain": [
              "socially       41780\n",
              "rarely          5957\n",
              "often           5164\n",
              "not at all      3267\n",
              "very often       471\n",
              "desperately      322\n",
              "Name: drinks, dtype: int64"
            ]
          },
          "execution_count": 18,
          "metadata": {},
          "output_type": "execute_result"
        }
      ],
      "source": [
        "#check value count of drinks\n",
        "dating_df['drinks'].value_counts()"
      ]
    },
    {
      "cell_type": "code",
      "execution_count": null,
      "metadata": {
        "id": "im7WptdxY7rt"
      },
      "outputs": [],
      "source": [
        "dating_df['drinks'].fillna('Unspecified',inplace=True)"
      ]
    },
    {
      "cell_type": "markdown",
      "metadata": {
        "id": "yvsLM-0KIxDO"
      },
      "source": [
        "###1.6.5 The Drugs Column\n",
        "Similar to the drinks column we will replace the null values with unspecified as some users chose not to put that information public."
      ]
    },
    {
      "cell_type": "code",
      "execution_count": null,
      "metadata": {
        "colab": {
          "base_uri": "https://localhost:8080/"
        },
        "id": "T0m2dOJDcC0y",
        "outputId": "b43eb01f-80a8-48cf-8f38-917fcae8ae84"
      },
      "outputs": [
        {
          "data": {
            "text/plain": [
              "never        37724\n",
              "sometimes     7732\n",
              "often          410\n",
              "Name: drugs, dtype: int64"
            ]
          },
          "execution_count": 20,
          "metadata": {},
          "output_type": "execute_result"
        }
      ],
      "source": [
        "#check value count of drinks\n",
        "dating_df['drugs'].value_counts()"
      ]
    },
    {
      "cell_type": "code",
      "execution_count": null,
      "metadata": {
        "id": "7_SRza5dcAKv"
      },
      "outputs": [],
      "source": [
        "#Replacing the null values with unspecified.\n",
        "dating_df['drugs'].fillna('Unspecified',inplace=True)"
      ]
    },
    {
      "cell_type": "markdown",
      "metadata": {
        "id": "LLt6FDd7I1yM"
      },
      "source": [
        "###1.6.6 The Education Column"
      ]
    },
    {
      "cell_type": "code",
      "execution_count": null,
      "metadata": {
        "colab": {
          "base_uri": "https://localhost:8080/"
        },
        "id": "TFMkAmZNcOTb",
        "outputId": "a9d803c1-56f6-4ced-9127-075a493136c3"
      },
      "outputs": [
        {
          "data": {
            "text/plain": [
              "graduated from college/university    23959\n",
              "graduated from masters program        8961\n",
              "working on college/university         5712\n",
              "working on masters program            1683\n",
              "graduated from two-year college       1531\n",
              "graduated from high school            1428\n",
              "graduated from ph.d program           1272\n",
              "graduated from law school             1122\n",
              "working on two-year college           1074\n",
              "dropped out of college/university      995\n",
              "working on ph.d program                983\n",
              "college/university                     801\n",
              "graduated from space camp              657\n",
              "dropped out of space camp              523\n",
              "graduated from med school              446\n",
              "working on space camp                  445\n",
              "working on law school                  269\n",
              "two-year college                       222\n",
              "working on med school                  212\n",
              "dropped out of two-year college        191\n",
              "dropped out of masters program         140\n",
              "masters program                        136\n",
              "dropped out of ph.d program            127\n",
              "dropped out of high school             102\n",
              "high school                             96\n",
              "working on high school                  87\n",
              "space camp                              58\n",
              "ph.d program                            26\n",
              "law school                              19\n",
              "dropped out of law school               18\n",
              "dropped out of med school               12\n",
              "med school                              11\n",
              "Name: education, dtype: int64"
            ]
          },
          "execution_count": 22,
          "metadata": {},
          "output_type": "execute_result"
        }
      ],
      "source": [
        "dating_df['education'].value_counts()"
      ]
    },
    {
      "cell_type": "code",
      "execution_count": null,
      "metadata": {
        "id": "gpOmQRGzcYyq"
      },
      "outputs": [],
      "source": [
        "#Replacing the null values with unspecified because one may have not provided that information.\n",
        "dating_df['education'].fillna('Unspecified',inplace=True)"
      ]
    },
    {
      "cell_type": "markdown",
      "metadata": {
        "id": "zl78HaFbI5z8"
      },
      "source": [
        "###1.6.7 The Ethnicity Column"
      ]
    },
    {
      "cell_type": "code",
      "execution_count": null,
      "metadata": {
        "colab": {
          "base_uri": "https://localhost:8080/"
        },
        "id": "m-_ZRMMTc0OR",
        "outputId": "7f2d53e5-e979-46fb-a4cf-8fde710c0ce1"
      },
      "outputs": [
        {
          "data": {
            "text/plain": [
              "white                                                                 32831\n",
              "asian                                                                  6134\n",
              "hispanic / latin                                                       2823\n",
              "black                                                                  2008\n",
              "other                                                                  1706\n",
              "                                                                      ...  \n",
              "middle eastern, indian, white                                             1\n",
              "asian, middle eastern, black, white, other                                1\n",
              "asian, middle eastern, indian, hispanic / latin, white, other             1\n",
              "black, native american, indian, pacific islander, hispanic / latin        1\n",
              "asian, black, indian                                                      1\n",
              "Name: ethnicity, Length: 217, dtype: int64"
            ]
          },
          "execution_count": 24,
          "metadata": {},
          "output_type": "execute_result"
        }
      ],
      "source": [
        "dating_df['ethnicity'].value_counts()"
      ]
    },
    {
      "cell_type": "code",
      "execution_count": null,
      "metadata": {
        "id": "YGYlrR9Nc8ir"
      },
      "outputs": [],
      "source": [
        "dating_df['ethnicity'].fillna('Unspecified',inplace=True)"
      ]
    },
    {
      "cell_type": "markdown",
      "metadata": {
        "id": "qDESOUYrJEh_"
      },
      "source": [
        "###1.6.7 The Height Column"
      ]
    },
    {
      "cell_type": "code",
      "execution_count": null,
      "metadata": {
        "id": "JeRmzkNtezXk"
      },
      "outputs": [],
      "source": [
        "#dating_df['height'].value_counts()"
      ]
    },
    {
      "cell_type": "code",
      "execution_count": null,
      "metadata": {
        "id": "ti_O7MkTdS4-"
      },
      "outputs": [],
      "source": [
        "# dropping null values in height \n",
        "# since there are only 0.005% are missing \n",
        "\n",
        "dating_df.dropna( subset=['height'],inplace=True)"
      ]
    },
    {
      "cell_type": "markdown",
      "metadata": {
        "id": "PwtCgCbcI-Gl"
      },
      "source": [
        "###1.6.8 The Job Column"
      ]
    },
    {
      "cell_type": "code",
      "execution_count": null,
      "metadata": {
        "colab": {
          "base_uri": "https://localhost:8080/"
        },
        "id": "RD3uJp5hg79u",
        "outputId": "cb805f12-9083-447b-8273-661a602b59dc"
      },
      "outputs": [
        {
          "data": {
            "text/plain": [
              "other                                7589\n",
              "student                              4882\n",
              "science / tech / engineering         4848\n",
              "computer / hardware / software       4709\n",
              "artistic / musical / writer          4438\n",
              "sales / marketing / biz dev          4391\n",
              "medicine / health                    3680\n",
              "education / academia                 3513\n",
              "executive / management               2373\n",
              "banking / financial / real estate    2266\n",
              "entertainment / media                2250\n",
              "law / legal services                 1381\n",
              "hospitality / travel                 1364\n",
              "construction / craftsmanship         1021\n",
              "clerical / administrative             805\n",
              "political / government                708\n",
              "rather not say                        436\n",
              "transportation                        366\n",
              "unemployed                            273\n",
              "retired                               250\n",
              "military                              204\n",
              "Name: job, dtype: int64"
            ]
          },
          "execution_count": 28,
          "metadata": {},
          "output_type": "execute_result"
        }
      ],
      "source": [
        "dating_df['job'].value_counts()"
      ]
    },
    {
      "cell_type": "code",
      "execution_count": null,
      "metadata": {
        "id": "QAId-uihhM8V"
      },
      "outputs": [],
      "source": [
        "#Filling the null values with unspecified.\n",
        "dating_df['job'].fillna('Unspecified',inplace=True)"
      ]
    },
    {
      "cell_type": "markdown",
      "metadata": {
        "id": "uRyYjO2YJKDC"
      },
      "source": [
        "###1.6.9 The Offspring Column"
      ]
    },
    {
      "cell_type": "code",
      "execution_count": null,
      "metadata": {
        "colab": {
          "base_uri": "https://localhost:8080/"
        },
        "id": "sS4bC8SsSeiC",
        "outputId": "253fee03-51bf-413b-97a1-10a75a996137"
      },
      "outputs": [
        {
          "data": {
            "text/plain": [
              "doesn't have kids                          7559\n",
              "doesn't have kids, but might want them     3875\n",
              "doesn't have kids, but wants them          3565\n",
              "doesn't want kids                          2927\n",
              "has kids                                   1883\n",
              "has a kid                                  1881\n",
              "doesn't have kids, and doesn't want any    1132\n",
              "has kids, but doesn't want more             442\n",
              "has a kid, but doesn't want more            275\n",
              "has a kid, and might want more              231\n",
              "wants kids                                  225\n",
              "might want kids                             182\n",
              "has kids, and might want more               115\n",
              "has a kid, and wants more                    71\n",
              "has kids, and wants more                     21\n",
              "Name: offspring, dtype: int64"
            ]
          },
          "execution_count": 30,
          "metadata": {},
          "output_type": "execute_result"
        }
      ],
      "source": [
        "#Checking the number of each unique value in the offsprings column\n",
        "dating_df['offspring'].value_counts()"
      ]
    },
    {
      "cell_type": "code",
      "execution_count": null,
      "metadata": {
        "id": "N2AEh2j9jwwX"
      },
      "outputs": [],
      "source": [
        "#Replacing the null values with unspecified\n",
        "dating_df['offspring'].fillna('Unspecified',inplace=True)"
      ]
    },
    {
      "cell_type": "markdown",
      "metadata": {
        "id": "GLdFbsfHJTol"
      },
      "source": [
        "###1.6.10 The Religion Column"
      ]
    },
    {
      "cell_type": "code",
      "execution_count": null,
      "metadata": {
        "colab": {
          "base_uri": "https://localhost:8080/"
        },
        "id": "ujiH0sWHkzAX",
        "outputId": "ff9a44e0-f4cc-42f2-ea03-1ece9548fa27"
      },
      "outputs": [
        {
          "data": {
            "text/plain": [
              "agnosticism                                   2724\n",
              "other                                         2691\n",
              "agnosticism but not too serious about it      2636\n",
              "agnosticism and laughing about it             2496\n",
              "catholicism but not too serious about it      2318\n",
              "atheism                                       2175\n",
              "other and laughing about it                   2119\n",
              "atheism and laughing about it                 2074\n",
              "christianity                                  1957\n",
              "christianity but not too serious about it     1952\n",
              "other but not too serious about it            1554\n",
              "judaism but not too serious about it          1517\n",
              "atheism but not too serious about it          1318\n",
              "catholicism                                   1064\n",
              "christianity and somewhat serious about it     927\n",
              "atheism and somewhat serious about it          848\n",
              "other and somewhat serious about it            846\n",
              "catholicism and laughing about it              726\n",
              "judaism and laughing about it                  681\n",
              "buddhism but not too serious about it          650\n",
              "agnosticism and somewhat serious about it      642\n",
              "judaism                                        612\n",
              "christianity and very serious about it         578\n",
              "atheism and very serious about it              570\n",
              "catholicism and somewhat serious about it      548\n",
              "other and very serious about it                533\n",
              "buddhism and laughing about it                 466\n",
              "buddhism                                       403\n",
              "christianity and laughing about it             373\n",
              "buddhism and somewhat serious about it         359\n",
              "agnosticism and very serious about it          314\n",
              "judaism and somewhat serious about it          266\n",
              "hinduism but not too serious about it          227\n",
              "hinduism                                       107\n",
              "catholicism and very serious about it          102\n",
              "buddhism and very serious about it              70\n",
              "hinduism and somewhat serious about it          58\n",
              "islam                                           48\n",
              "hinduism and laughing about it                  44\n",
              "islam but not too serious about it              40\n",
              "judaism and very serious about it               22\n",
              "islam and somewhat serious about it             22\n",
              "islam and laughing about it                     16\n",
              "hinduism and very serious about it              14\n",
              "islam and very serious about it                 13\n",
              "Name: religion, dtype: int64"
            ]
          },
          "execution_count": 32,
          "metadata": {},
          "output_type": "execute_result"
        }
      ],
      "source": [
        "#Checking number of each unique value in the the religion column\n",
        "dating_df['religion'].value_counts()"
      ]
    },
    {
      "cell_type": "markdown",
      "metadata": {
        "id": "G6KC-z3hDHsd"
      },
      "source": [
        "#### Creating a religion serious column\n",
        "This section deals with replacing the null values in the religion column with `unspecified` and classifying the religions into those who are serious and those who arent serious with religion. Those that are serious will be under class 1. Those that arent serious will be represented with 0 and those who have not discoled their religion will be represented by 2"
      ]
    },
    {
      "cell_type": "code",
      "execution_count": null,
      "metadata": {
        "id": "n46uR_e6G9-w"
      },
      "outputs": [],
      "source": [
        "#Replacing null values with unspecified\n",
        "dating_df['religion'].fillna('Unspecified',inplace=True)"
      ]
    },
    {
      "cell_type": "code",
      "execution_count": null,
      "metadata": {
        "id": "YW49684iETDp"
      },
      "outputs": [],
      "source": [
        "def religion_serious(value):\n",
        "   # checking if a user is serious with his/her religion\n",
        "    if value.__contains__('not') or value.__contains__('laughing'):\n",
        "        return 0\n",
        "    elif value.__contains__('Unspecified'):\n",
        "        return 2\n",
        "        \n",
        "    return 1"
      ]
    },
    {
      "cell_type": "code",
      "execution_count": null,
      "metadata": {
        "colab": {
          "base_uri": "https://localhost:8080/"
        },
        "id": "hJIMUjNBDHUr",
        "outputId": "3f2d9d80-9af2-464c-e89f-56cf2ea079ee"
      },
      "outputs": [
        {
          "data": {
            "text/plain": [
              "0    21207\n",
              "2    20223\n",
              "1    18513\n",
              "Name: religionSerious, dtype: int64"
            ]
          },
          "execution_count": 35,
          "metadata": {},
          "output_type": "execute_result"
        }
      ],
      "source": [
        "dating_df['religionSerious'] = dating_df.religion.copy().astype(str).apply(lambda x: religion_serious(x))\n",
        "dating_df['religionSerious'].value_counts()"
      ]
    },
    {
      "cell_type": "code",
      "execution_count": null,
      "metadata": {
        "colab": {
          "base_uri": "https://localhost:8080/",
          "height": 990
        },
        "id": "1LCpqQaxGFrF",
        "outputId": "34990670-8bcd-46b9-a482-fcd4ff0f2ce0"
      },
      "outputs": [
        {
          "data": {
            "text/html": [
              "\n",
              "  <div id=\"df-4e6aa683-3dda-41d0-adfc-691a76bcc92d\">\n",
              "    <div class=\"colab-df-container\">\n",
              "      <div>\n",
              "<style scoped>\n",
              "    .dataframe tbody tr th:only-of-type {\n",
              "        vertical-align: middle;\n",
              "    }\n",
              "\n",
              "    .dataframe tbody tr th {\n",
              "        vertical-align: top;\n",
              "    }\n",
              "\n",
              "    .dataframe thead th {\n",
              "        text-align: right;\n",
              "    }\n",
              "</style>\n",
              "<table border=\"1\" class=\"dataframe\">\n",
              "  <thead>\n",
              "    <tr style=\"text-align: right;\">\n",
              "      <th></th>\n",
              "      <th>religionSerious</th>\n",
              "      <th>religion</th>\n",
              "    </tr>\n",
              "  </thead>\n",
              "  <tbody>\n",
              "    <tr>\n",
              "      <th>17303</th>\n",
              "      <td>2</td>\n",
              "      <td>Unspecified</td>\n",
              "    </tr>\n",
              "    <tr>\n",
              "      <th>9190</th>\n",
              "      <td>1</td>\n",
              "      <td>agnosticism and very serious about it</td>\n",
              "    </tr>\n",
              "    <tr>\n",
              "      <th>1749</th>\n",
              "      <td>1</td>\n",
              "      <td>judaism and somewhat serious about it</td>\n",
              "    </tr>\n",
              "    <tr>\n",
              "      <th>6202</th>\n",
              "      <td>0</td>\n",
              "      <td>atheism and laughing about it</td>\n",
              "    </tr>\n",
              "    <tr>\n",
              "      <th>17150</th>\n",
              "      <td>2</td>\n",
              "      <td>Unspecified</td>\n",
              "    </tr>\n",
              "    <tr>\n",
              "      <th>36541</th>\n",
              "      <td>0</td>\n",
              "      <td>christianity but not too serious about it</td>\n",
              "    </tr>\n",
              "    <tr>\n",
              "      <th>54864</th>\n",
              "      <td>2</td>\n",
              "      <td>Unspecified</td>\n",
              "    </tr>\n",
              "    <tr>\n",
              "      <th>55042</th>\n",
              "      <td>2</td>\n",
              "      <td>Unspecified</td>\n",
              "    </tr>\n",
              "    <tr>\n",
              "      <th>44968</th>\n",
              "      <td>2</td>\n",
              "      <td>Unspecified</td>\n",
              "    </tr>\n",
              "    <tr>\n",
              "      <th>34071</th>\n",
              "      <td>2</td>\n",
              "      <td>Unspecified</td>\n",
              "    </tr>\n",
              "    <tr>\n",
              "      <th>14963</th>\n",
              "      <td>2</td>\n",
              "      <td>Unspecified</td>\n",
              "    </tr>\n",
              "    <tr>\n",
              "      <th>29925</th>\n",
              "      <td>0</td>\n",
              "      <td>catholicism but not too serious about it</td>\n",
              "    </tr>\n",
              "    <tr>\n",
              "      <th>54015</th>\n",
              "      <td>2</td>\n",
              "      <td>Unspecified</td>\n",
              "    </tr>\n",
              "    <tr>\n",
              "      <th>42083</th>\n",
              "      <td>0</td>\n",
              "      <td>catholicism but not too serious about it</td>\n",
              "    </tr>\n",
              "    <tr>\n",
              "      <th>54639</th>\n",
              "      <td>2</td>\n",
              "      <td>Unspecified</td>\n",
              "    </tr>\n",
              "    <tr>\n",
              "      <th>54004</th>\n",
              "      <td>2</td>\n",
              "      <td>Unspecified</td>\n",
              "    </tr>\n",
              "    <tr>\n",
              "      <th>21230</th>\n",
              "      <td>1</td>\n",
              "      <td>atheism</td>\n",
              "    </tr>\n",
              "    <tr>\n",
              "      <th>35574</th>\n",
              "      <td>2</td>\n",
              "      <td>Unspecified</td>\n",
              "    </tr>\n",
              "    <tr>\n",
              "      <th>59163</th>\n",
              "      <td>1</td>\n",
              "      <td>agnosticism</td>\n",
              "    </tr>\n",
              "    <tr>\n",
              "      <th>1543</th>\n",
              "      <td>2</td>\n",
              "      <td>Unspecified</td>\n",
              "    </tr>\n",
              "    <tr>\n",
              "      <th>17225</th>\n",
              "      <td>0</td>\n",
              "      <td>agnosticism but not too serious about it</td>\n",
              "    </tr>\n",
              "    <tr>\n",
              "      <th>14307</th>\n",
              "      <td>0</td>\n",
              "      <td>atheism and laughing about it</td>\n",
              "    </tr>\n",
              "    <tr>\n",
              "      <th>47926</th>\n",
              "      <td>1</td>\n",
              "      <td>christianity</td>\n",
              "    </tr>\n",
              "    <tr>\n",
              "      <th>46851</th>\n",
              "      <td>1</td>\n",
              "      <td>atheism</td>\n",
              "    </tr>\n",
              "    <tr>\n",
              "      <th>43438</th>\n",
              "      <td>0</td>\n",
              "      <td>christianity and laughing about it</td>\n",
              "    </tr>\n",
              "    <tr>\n",
              "      <th>12661</th>\n",
              "      <td>0</td>\n",
              "      <td>christianity but not too serious about it</td>\n",
              "    </tr>\n",
              "    <tr>\n",
              "      <th>4855</th>\n",
              "      <td>0</td>\n",
              "      <td>judaism and laughing about it</td>\n",
              "    </tr>\n",
              "    <tr>\n",
              "      <th>9662</th>\n",
              "      <td>0</td>\n",
              "      <td>agnosticism but not too serious about it</td>\n",
              "    </tr>\n",
              "    <tr>\n",
              "      <th>15968</th>\n",
              "      <td>0</td>\n",
              "      <td>agnosticism but not too serious about it</td>\n",
              "    </tr>\n",
              "    <tr>\n",
              "      <th>56979</th>\n",
              "      <td>0</td>\n",
              "      <td>agnosticism but not too serious about it</td>\n",
              "    </tr>\n",
              "  </tbody>\n",
              "</table>\n",
              "</div>\n",
              "      <button class=\"colab-df-convert\" onclick=\"convertToInteractive('df-4e6aa683-3dda-41d0-adfc-691a76bcc92d')\"\n",
              "              title=\"Convert this dataframe to an interactive table.\"\n",
              "              style=\"display:none;\">\n",
              "        \n",
              "  <svg xmlns=\"http://www.w3.org/2000/svg\" height=\"24px\"viewBox=\"0 0 24 24\"\n",
              "       width=\"24px\">\n",
              "    <path d=\"M0 0h24v24H0V0z\" fill=\"none\"/>\n",
              "    <path d=\"M18.56 5.44l.94 2.06.94-2.06 2.06-.94-2.06-.94-.94-2.06-.94 2.06-2.06.94zm-11 1L8.5 8.5l.94-2.06 2.06-.94-2.06-.94L8.5 2.5l-.94 2.06-2.06.94zm10 10l.94 2.06.94-2.06 2.06-.94-2.06-.94-.94-2.06-.94 2.06-2.06.94z\"/><path d=\"M17.41 7.96l-1.37-1.37c-.4-.4-.92-.59-1.43-.59-.52 0-1.04.2-1.43.59L10.3 9.45l-7.72 7.72c-.78.78-.78 2.05 0 2.83L4 21.41c.39.39.9.59 1.41.59.51 0 1.02-.2 1.41-.59l7.78-7.78 2.81-2.81c.8-.78.8-2.07 0-2.86zM5.41 20L4 18.59l7.72-7.72 1.47 1.35L5.41 20z\"/>\n",
              "  </svg>\n",
              "      </button>\n",
              "      \n",
              "  <style>\n",
              "    .colab-df-container {\n",
              "      display:flex;\n",
              "      flex-wrap:wrap;\n",
              "      gap: 12px;\n",
              "    }\n",
              "\n",
              "    .colab-df-convert {\n",
              "      background-color: #E8F0FE;\n",
              "      border: none;\n",
              "      border-radius: 50%;\n",
              "      cursor: pointer;\n",
              "      display: none;\n",
              "      fill: #1967D2;\n",
              "      height: 32px;\n",
              "      padding: 0 0 0 0;\n",
              "      width: 32px;\n",
              "    }\n",
              "\n",
              "    .colab-df-convert:hover {\n",
              "      background-color: #E2EBFA;\n",
              "      box-shadow: 0px 1px 2px rgba(60, 64, 67, 0.3), 0px 1px 3px 1px rgba(60, 64, 67, 0.15);\n",
              "      fill: #174EA6;\n",
              "    }\n",
              "\n",
              "    [theme=dark] .colab-df-convert {\n",
              "      background-color: #3B4455;\n",
              "      fill: #D2E3FC;\n",
              "    }\n",
              "\n",
              "    [theme=dark] .colab-df-convert:hover {\n",
              "      background-color: #434B5C;\n",
              "      box-shadow: 0px 1px 3px 1px rgba(0, 0, 0, 0.15);\n",
              "      filter: drop-shadow(0px 1px 2px rgba(0, 0, 0, 0.3));\n",
              "      fill: #FFFFFF;\n",
              "    }\n",
              "  </style>\n",
              "\n",
              "      <script>\n",
              "        const buttonEl =\n",
              "          document.querySelector('#df-4e6aa683-3dda-41d0-adfc-691a76bcc92d button.colab-df-convert');\n",
              "        buttonEl.style.display =\n",
              "          google.colab.kernel.accessAllowed ? 'block' : 'none';\n",
              "\n",
              "        async function convertToInteractive(key) {\n",
              "          const element = document.querySelector('#df-4e6aa683-3dda-41d0-adfc-691a76bcc92d');\n",
              "          const dataTable =\n",
              "            await google.colab.kernel.invokeFunction('convertToInteractive',\n",
              "                                                     [key], {});\n",
              "          if (!dataTable) return;\n",
              "\n",
              "          const docLinkHtml = 'Like what you see? Visit the ' +\n",
              "            '<a target=\"_blank\" href=https://colab.research.google.com/notebooks/data_table.ipynb>data table notebook</a>'\n",
              "            + ' to learn more about interactive tables.';\n",
              "          element.innerHTML = '';\n",
              "          dataTable['output_type'] = 'display_data';\n",
              "          await google.colab.output.renderOutput(dataTable, element);\n",
              "          const docLink = document.createElement('div');\n",
              "          docLink.innerHTML = docLinkHtml;\n",
              "          element.appendChild(docLink);\n",
              "        }\n",
              "      </script>\n",
              "    </div>\n",
              "  </div>\n",
              "  "
            ],
            "text/plain": [
              "       religionSerious                                   religion\n",
              "17303                2                                Unspecified\n",
              "9190                 1      agnosticism and very serious about it\n",
              "1749                 1      judaism and somewhat serious about it\n",
              "6202                 0              atheism and laughing about it\n",
              "17150                2                                Unspecified\n",
              "36541                0  christianity but not too serious about it\n",
              "54864                2                                Unspecified\n",
              "55042                2                                Unspecified\n",
              "44968                2                                Unspecified\n",
              "34071                2                                Unspecified\n",
              "14963                2                                Unspecified\n",
              "29925                0   catholicism but not too serious about it\n",
              "54015                2                                Unspecified\n",
              "42083                0   catholicism but not too serious about it\n",
              "54639                2                                Unspecified\n",
              "54004                2                                Unspecified\n",
              "21230                1                                    atheism\n",
              "35574                2                                Unspecified\n",
              "59163                1                                agnosticism\n",
              "1543                 2                                Unspecified\n",
              "17225                0   agnosticism but not too serious about it\n",
              "14307                0              atheism and laughing about it\n",
              "47926                1                               christianity\n",
              "46851                1                                    atheism\n",
              "43438                0         christianity and laughing about it\n",
              "12661                0  christianity but not too serious about it\n",
              "4855                 0              judaism and laughing about it\n",
              "9662                 0   agnosticism but not too serious about it\n",
              "15968                0   agnosticism but not too serious about it\n",
              "56979                0   agnosticism but not too serious about it"
            ]
          },
          "execution_count": 36,
          "metadata": {},
          "output_type": "execute_result"
        }
      ],
      "source": [
        "# checking if the religion_serious function worked\n",
        "dating_df[['religionSerious','religion']].sample(30)"
      ]
    },
    {
      "cell_type": "markdown",
      "metadata": {
        "id": "FhNYpewOFDOt"
      },
      "source": [
        "**Creating a religion only column**\n",
        "\n"
      ]
    },
    {
      "cell_type": "code",
      "execution_count": null,
      "metadata": {
        "id": "VWNcinS9-j-L"
      },
      "outputs": [],
      "source": [
        "def religion(value):\n",
        "    # splitting the column and extracting the first string\n",
        "    religion = value.split(' ')[0]\n",
        "    return religion"
      ]
    },
    {
      "cell_type": "code",
      "execution_count": null,
      "metadata": {
        "colab": {
          "base_uri": "https://localhost:8080/"
        },
        "id": "gPkPweiOAG9b",
        "outputId": "cbffe0b6-1af7-48a8-c773-ca3f6f8363e8"
      },
      "outputs": [
        {
          "data": {
            "text/plain": [
              "0     agnosticism\n",
              "1     agnosticism\n",
              "2     Unspecified\n",
              "3     Unspecified\n",
              "4     Unspecified\n",
              "5         atheism\n",
              "6     Unspecified\n",
              "7    christianity\n",
              "8    christianity\n",
              "9         atheism\n",
              "Name: religion, dtype: object"
            ]
          },
          "execution_count": 38,
          "metadata": {},
          "output_type": "execute_result"
        }
      ],
      "source": [
        "dating_df.religion = dating_df.religion.astype(str).apply(lambda x: religion(x))\n",
        "dating_df.religion[:10]"
      ]
    },
    {
      "cell_type": "code",
      "execution_count": null,
      "metadata": {
        "colab": {
          "base_uri": "https://localhost:8080/"
        },
        "id": "uk4nFYEjC2gp",
        "outputId": "453a39ed-60fc-4f4e-98b4-24bbb259bd45"
      },
      "outputs": [
        {
          "data": {
            "text/plain": [
              "Unspecified     20223\n",
              "agnosticism      8812\n",
              "other            7743\n",
              "atheism          6985\n",
              "christianity     5787\n",
              "catholicism      4758\n",
              "judaism          3098\n",
              "buddhism         1948\n",
              "hinduism          450\n",
              "islam             139\n",
              "Name: religion, dtype: int64"
            ]
          },
          "execution_count": 39,
          "metadata": {},
          "output_type": "execute_result"
        }
      ],
      "source": [
        "# checking the value counts and converting the column into a string datatype\n",
        "dating_df.religion.value_counts()"
      ]
    },
    {
      "cell_type": "markdown",
      "metadata": {
        "id": "ixPk9eTwHjfy"
      },
      "source": [
        "###1.6.11 The Zodiac Column\n",
        "To deal with the missing values in this section, we will fill the missing values with uninterested as zodiac signs do not matter to some people.\n",
        "We will further clean the column and only pick out the zodiac sign and remove the rest of the text in each row."
      ]
    },
    {
      "cell_type": "code",
      "execution_count": null,
      "metadata": {
        "colab": {
          "base_uri": "https://localhost:8080/"
        },
        "id": "38rzFIVYlrxr",
        "outputId": "14bad1ba-e77c-401c-9f34-27fb8f2ae679"
      },
      "outputs": [
        {
          "data": {
            "text/plain": [
              "gemini and it&rsquo;s fun to think about         1782\n",
              "scorpio and it&rsquo;s fun to think about        1772\n",
              "leo and it&rsquo;s fun to think about            1692\n",
              "libra and it&rsquo;s fun to think about          1649\n",
              "taurus and it&rsquo;s fun to think about         1640\n",
              "cancer and it&rsquo;s fun to think about         1597\n",
              "pisces and it&rsquo;s fun to think about         1592\n",
              "sagittarius and it&rsquo;s fun to think about    1583\n",
              "virgo and it&rsquo;s fun to think about          1574\n",
              "aries and it&rsquo;s fun to think about          1573\n",
              "aquarius and it&rsquo;s fun to think about       1503\n",
              "virgo but it doesn&rsquo;t matter                1497\n",
              "leo but it doesn&rsquo;t matter                  1457\n",
              "cancer but it doesn&rsquo;t matter               1454\n",
              "gemini but it doesn&rsquo;t matter               1453\n",
              "taurus but it doesn&rsquo;t matter               1450\n",
              "libra but it doesn&rsquo;t matter                1408\n",
              "aquarius but it doesn&rsquo;t matter             1408\n",
              "capricorn and it&rsquo;s fun to think about      1376\n",
              "sagittarius but it doesn&rsquo;t matter          1375\n",
              "aries but it doesn&rsquo;t matter                1373\n",
              "capricorn but it doesn&rsquo;t matter            1319\n",
              "pisces but it doesn&rsquo;t matter               1300\n",
              "scorpio but it doesn&rsquo;t matter              1264\n",
              "leo                                              1159\n",
              "libra                                            1098\n",
              "cancer                                           1092\n",
              "virgo                                            1029\n",
              "scorpio                                          1020\n",
              "gemini                                           1013\n",
              "taurus                                           1001\n",
              "aries                                             995\n",
              "pisces                                            992\n",
              "aquarius                                          954\n",
              "sagittarius                                       937\n",
              "capricorn                                         833\n",
              "scorpio and it matters a lot                       78\n",
              "leo and it matters a lot                           66\n",
              "cancer and it matters a lot                        63\n",
              "aquarius and it matters a lot                      63\n",
              "pisces and it matters a lot                        62\n",
              "gemini and it matters a lot                        62\n",
              "libra and it matters a lot                         52\n",
              "taurus and it matters a lot                        49\n",
              "aries and it matters a lot                         47\n",
              "sagittarius and it matters a lot                   47\n",
              "capricorn and it matters a lot                     45\n",
              "virgo and it matters a lot                         41\n",
              "Name: sign, dtype: int64"
            ]
          },
          "execution_count": 40,
          "metadata": {},
          "output_type": "execute_result"
        }
      ],
      "source": [
        "dating_df['sign'].value_counts()"
      ]
    },
    {
      "cell_type": "markdown",
      "metadata": {
        "id": "Oaq_OGcOqMWT"
      },
      "source": [
        "**Creating a sign serious column**"
      ]
    },
    {
      "cell_type": "code",
      "execution_count": null,
      "metadata": {
        "id": "c7XjujfKmjo5"
      },
      "outputs": [],
      "source": [
        "#Replacing the missing values with uninterested.\n",
        "dating_df['sign'].fillna('Uninterested',inplace=True)"
      ]
    },
    {
      "cell_type": "code",
      "execution_count": null,
      "metadata": {
        "id": "_RWRqU4eq1rO"
      },
      "outputs": [],
      "source": [
        "def sign_serious(value):\n",
        "   # checking if a user is serious with his/her religion\n",
        "    if value.__contains__('doesn&rsquo;t'):\n",
        "        return 0\n",
        "    elif value.__contains__('it&rsquo;s'):\n",
        "        return 1\n",
        "        \n",
        "    return 2"
      ]
    },
    {
      "cell_type": "code",
      "execution_count": null,
      "metadata": {
        "colab": {
          "base_uri": "https://localhost:8080/"
        },
        "id": "xWlSPlsyucl8",
        "outputId": "09cc7935-6bd8-416d-990d-5c055476e839"
      },
      "outputs": [
        {
          "data": {
            "text/plain": [
              "2    23852\n",
              "1    19333\n",
              "0    16758\n",
              "Name: signSerious, dtype: int64"
            ]
          },
          "execution_count": 43,
          "metadata": {},
          "output_type": "execute_result"
        }
      ],
      "source": [
        "dating_df['signSerious'] = dating_df.sign.copy().astype(str).apply(lambda x: sign_serious(x))\n",
        "dating_df['signSerious'].value_counts()"
      ]
    },
    {
      "cell_type": "code",
      "execution_count": null,
      "metadata": {
        "colab": {
          "base_uri": "https://localhost:8080/",
          "height": 990
        },
        "id": "b0nrubmPyZx0",
        "outputId": "581233d2-3159-46e8-dceb-2c11426b75e1"
      },
      "outputs": [
        {
          "data": {
            "text/html": [
              "\n",
              "  <div id=\"df-43e2d572-b129-4cea-b1d4-1ad800cda0f5\">\n",
              "    <div class=\"colab-df-container\">\n",
              "      <div>\n",
              "<style scoped>\n",
              "    .dataframe tbody tr th:only-of-type {\n",
              "        vertical-align: middle;\n",
              "    }\n",
              "\n",
              "    .dataframe tbody tr th {\n",
              "        vertical-align: top;\n",
              "    }\n",
              "\n",
              "    .dataframe thead th {\n",
              "        text-align: right;\n",
              "    }\n",
              "</style>\n",
              "<table border=\"1\" class=\"dataframe\">\n",
              "  <thead>\n",
              "    <tr style=\"text-align: right;\">\n",
              "      <th></th>\n",
              "      <th>signSerious</th>\n",
              "      <th>sign</th>\n",
              "    </tr>\n",
              "  </thead>\n",
              "  <tbody>\n",
              "    <tr>\n",
              "      <th>28183</th>\n",
              "      <td>1</td>\n",
              "      <td>leo and it&amp;rsquo;s fun to think about</td>\n",
              "    </tr>\n",
              "    <tr>\n",
              "      <th>39248</th>\n",
              "      <td>1</td>\n",
              "      <td>virgo and it&amp;rsquo;s fun to think about</td>\n",
              "    </tr>\n",
              "    <tr>\n",
              "      <th>16223</th>\n",
              "      <td>0</td>\n",
              "      <td>leo but it doesn&amp;rsquo;t matter</td>\n",
              "    </tr>\n",
              "    <tr>\n",
              "      <th>3741</th>\n",
              "      <td>0</td>\n",
              "      <td>aries but it doesn&amp;rsquo;t matter</td>\n",
              "    </tr>\n",
              "    <tr>\n",
              "      <th>21840</th>\n",
              "      <td>2</td>\n",
              "      <td>cancer</td>\n",
              "    </tr>\n",
              "    <tr>\n",
              "      <th>10908</th>\n",
              "      <td>2</td>\n",
              "      <td>Uninterested</td>\n",
              "    </tr>\n",
              "    <tr>\n",
              "      <th>37875</th>\n",
              "      <td>0</td>\n",
              "      <td>leo but it doesn&amp;rsquo;t matter</td>\n",
              "    </tr>\n",
              "    <tr>\n",
              "      <th>40957</th>\n",
              "      <td>1</td>\n",
              "      <td>virgo and it&amp;rsquo;s fun to think about</td>\n",
              "    </tr>\n",
              "    <tr>\n",
              "      <th>3723</th>\n",
              "      <td>0</td>\n",
              "      <td>sagittarius but it doesn&amp;rsquo;t matter</td>\n",
              "    </tr>\n",
              "    <tr>\n",
              "      <th>47621</th>\n",
              "      <td>0</td>\n",
              "      <td>aries but it doesn&amp;rsquo;t matter</td>\n",
              "    </tr>\n",
              "    <tr>\n",
              "      <th>47130</th>\n",
              "      <td>0</td>\n",
              "      <td>libra but it doesn&amp;rsquo;t matter</td>\n",
              "    </tr>\n",
              "    <tr>\n",
              "      <th>26867</th>\n",
              "      <td>1</td>\n",
              "      <td>aquarius and it&amp;rsquo;s fun to think about</td>\n",
              "    </tr>\n",
              "    <tr>\n",
              "      <th>48088</th>\n",
              "      <td>2</td>\n",
              "      <td>virgo</td>\n",
              "    </tr>\n",
              "    <tr>\n",
              "      <th>29194</th>\n",
              "      <td>2</td>\n",
              "      <td>scorpio</td>\n",
              "    </tr>\n",
              "    <tr>\n",
              "      <th>26049</th>\n",
              "      <td>1</td>\n",
              "      <td>cancer and it&amp;rsquo;s fun to think about</td>\n",
              "    </tr>\n",
              "    <tr>\n",
              "      <th>53063</th>\n",
              "      <td>0</td>\n",
              "      <td>libra but it doesn&amp;rsquo;t matter</td>\n",
              "    </tr>\n",
              "    <tr>\n",
              "      <th>13214</th>\n",
              "      <td>0</td>\n",
              "      <td>sagittarius but it doesn&amp;rsquo;t matter</td>\n",
              "    </tr>\n",
              "    <tr>\n",
              "      <th>39196</th>\n",
              "      <td>0</td>\n",
              "      <td>pisces but it doesn&amp;rsquo;t matter</td>\n",
              "    </tr>\n",
              "    <tr>\n",
              "      <th>11308</th>\n",
              "      <td>2</td>\n",
              "      <td>cancer</td>\n",
              "    </tr>\n",
              "    <tr>\n",
              "      <th>23980</th>\n",
              "      <td>0</td>\n",
              "      <td>taurus but it doesn&amp;rsquo;t matter</td>\n",
              "    </tr>\n",
              "    <tr>\n",
              "      <th>52423</th>\n",
              "      <td>1</td>\n",
              "      <td>leo and it&amp;rsquo;s fun to think about</td>\n",
              "    </tr>\n",
              "    <tr>\n",
              "      <th>1966</th>\n",
              "      <td>2</td>\n",
              "      <td>scorpio</td>\n",
              "    </tr>\n",
              "    <tr>\n",
              "      <th>16662</th>\n",
              "      <td>2</td>\n",
              "      <td>cancer</td>\n",
              "    </tr>\n",
              "    <tr>\n",
              "      <th>44850</th>\n",
              "      <td>2</td>\n",
              "      <td>Uninterested</td>\n",
              "    </tr>\n",
              "    <tr>\n",
              "      <th>49660</th>\n",
              "      <td>1</td>\n",
              "      <td>capricorn and it&amp;rsquo;s fun to think about</td>\n",
              "    </tr>\n",
              "    <tr>\n",
              "      <th>26992</th>\n",
              "      <td>2</td>\n",
              "      <td>libra</td>\n",
              "    </tr>\n",
              "    <tr>\n",
              "      <th>33082</th>\n",
              "      <td>1</td>\n",
              "      <td>gemini and it&amp;rsquo;s fun to think about</td>\n",
              "    </tr>\n",
              "    <tr>\n",
              "      <th>18640</th>\n",
              "      <td>2</td>\n",
              "      <td>Uninterested</td>\n",
              "    </tr>\n",
              "    <tr>\n",
              "      <th>32063</th>\n",
              "      <td>2</td>\n",
              "      <td>gemini</td>\n",
              "    </tr>\n",
              "    <tr>\n",
              "      <th>6008</th>\n",
              "      <td>0</td>\n",
              "      <td>libra but it doesn&amp;rsquo;t matter</td>\n",
              "    </tr>\n",
              "  </tbody>\n",
              "</table>\n",
              "</div>\n",
              "      <button class=\"colab-df-convert\" onclick=\"convertToInteractive('df-43e2d572-b129-4cea-b1d4-1ad800cda0f5')\"\n",
              "              title=\"Convert this dataframe to an interactive table.\"\n",
              "              style=\"display:none;\">\n",
              "        \n",
              "  <svg xmlns=\"http://www.w3.org/2000/svg\" height=\"24px\"viewBox=\"0 0 24 24\"\n",
              "       width=\"24px\">\n",
              "    <path d=\"M0 0h24v24H0V0z\" fill=\"none\"/>\n",
              "    <path d=\"M18.56 5.44l.94 2.06.94-2.06 2.06-.94-2.06-.94-.94-2.06-.94 2.06-2.06.94zm-11 1L8.5 8.5l.94-2.06 2.06-.94-2.06-.94L8.5 2.5l-.94 2.06-2.06.94zm10 10l.94 2.06.94-2.06 2.06-.94-2.06-.94-.94-2.06-.94 2.06-2.06.94z\"/><path d=\"M17.41 7.96l-1.37-1.37c-.4-.4-.92-.59-1.43-.59-.52 0-1.04.2-1.43.59L10.3 9.45l-7.72 7.72c-.78.78-.78 2.05 0 2.83L4 21.41c.39.39.9.59 1.41.59.51 0 1.02-.2 1.41-.59l7.78-7.78 2.81-2.81c.8-.78.8-2.07 0-2.86zM5.41 20L4 18.59l7.72-7.72 1.47 1.35L5.41 20z\"/>\n",
              "  </svg>\n",
              "      </button>\n",
              "      \n",
              "  <style>\n",
              "    .colab-df-container {\n",
              "      display:flex;\n",
              "      flex-wrap:wrap;\n",
              "      gap: 12px;\n",
              "    }\n",
              "\n",
              "    .colab-df-convert {\n",
              "      background-color: #E8F0FE;\n",
              "      border: none;\n",
              "      border-radius: 50%;\n",
              "      cursor: pointer;\n",
              "      display: none;\n",
              "      fill: #1967D2;\n",
              "      height: 32px;\n",
              "      padding: 0 0 0 0;\n",
              "      width: 32px;\n",
              "    }\n",
              "\n",
              "    .colab-df-convert:hover {\n",
              "      background-color: #E2EBFA;\n",
              "      box-shadow: 0px 1px 2px rgba(60, 64, 67, 0.3), 0px 1px 3px 1px rgba(60, 64, 67, 0.15);\n",
              "      fill: #174EA6;\n",
              "    }\n",
              "\n",
              "    [theme=dark] .colab-df-convert {\n",
              "      background-color: #3B4455;\n",
              "      fill: #D2E3FC;\n",
              "    }\n",
              "\n",
              "    [theme=dark] .colab-df-convert:hover {\n",
              "      background-color: #434B5C;\n",
              "      box-shadow: 0px 1px 3px 1px rgba(0, 0, 0, 0.15);\n",
              "      filter: drop-shadow(0px 1px 2px rgba(0, 0, 0, 0.3));\n",
              "      fill: #FFFFFF;\n",
              "    }\n",
              "  </style>\n",
              "\n",
              "      <script>\n",
              "        const buttonEl =\n",
              "          document.querySelector('#df-43e2d572-b129-4cea-b1d4-1ad800cda0f5 button.colab-df-convert');\n",
              "        buttonEl.style.display =\n",
              "          google.colab.kernel.accessAllowed ? 'block' : 'none';\n",
              "\n",
              "        async function convertToInteractive(key) {\n",
              "          const element = document.querySelector('#df-43e2d572-b129-4cea-b1d4-1ad800cda0f5');\n",
              "          const dataTable =\n",
              "            await google.colab.kernel.invokeFunction('convertToInteractive',\n",
              "                                                     [key], {});\n",
              "          if (!dataTable) return;\n",
              "\n",
              "          const docLinkHtml = 'Like what you see? Visit the ' +\n",
              "            '<a target=\"_blank\" href=https://colab.research.google.com/notebooks/data_table.ipynb>data table notebook</a>'\n",
              "            + ' to learn more about interactive tables.';\n",
              "          element.innerHTML = '';\n",
              "          dataTable['output_type'] = 'display_data';\n",
              "          await google.colab.output.renderOutput(dataTable, element);\n",
              "          const docLink = document.createElement('div');\n",
              "          docLink.innerHTML = docLinkHtml;\n",
              "          element.appendChild(docLink);\n",
              "        }\n",
              "      </script>\n",
              "    </div>\n",
              "  </div>\n",
              "  "
            ],
            "text/plain": [
              "       signSerious                                         sign\n",
              "28183            1        leo and it&rsquo;s fun to think about\n",
              "39248            1      virgo and it&rsquo;s fun to think about\n",
              "16223            0              leo but it doesn&rsquo;t matter\n",
              "3741             0            aries but it doesn&rsquo;t matter\n",
              "21840            2                                       cancer\n",
              "10908            2                                 Uninterested\n",
              "37875            0              leo but it doesn&rsquo;t matter\n",
              "40957            1      virgo and it&rsquo;s fun to think about\n",
              "3723             0      sagittarius but it doesn&rsquo;t matter\n",
              "47621            0            aries but it doesn&rsquo;t matter\n",
              "47130            0            libra but it doesn&rsquo;t matter\n",
              "26867            1   aquarius and it&rsquo;s fun to think about\n",
              "48088            2                                        virgo\n",
              "29194            2                                      scorpio\n",
              "26049            1     cancer and it&rsquo;s fun to think about\n",
              "53063            0            libra but it doesn&rsquo;t matter\n",
              "13214            0      sagittarius but it doesn&rsquo;t matter\n",
              "39196            0           pisces but it doesn&rsquo;t matter\n",
              "11308            2                                       cancer\n",
              "23980            0           taurus but it doesn&rsquo;t matter\n",
              "52423            1        leo and it&rsquo;s fun to think about\n",
              "1966             2                                      scorpio\n",
              "16662            2                                       cancer\n",
              "44850            2                                 Uninterested\n",
              "49660            1  capricorn and it&rsquo;s fun to think about\n",
              "26992            2                                        libra\n",
              "33082            1     gemini and it&rsquo;s fun to think about\n",
              "18640            2                                 Uninterested\n",
              "32063            2                                       gemini\n",
              "6008             0            libra but it doesn&rsquo;t matter"
            ]
          },
          "execution_count": 44,
          "metadata": {},
          "output_type": "execute_result"
        }
      ],
      "source": [
        "# checking if the religion_serious function worked\n",
        "dating_df[['signSerious','sign']].sample(30)"
      ]
    },
    {
      "cell_type": "markdown",
      "metadata": {
        "id": "1OjlBbNGzyVl"
      },
      "source": [
        "**Creating a zodiac only column**"
      ]
    },
    {
      "cell_type": "code",
      "execution_count": null,
      "metadata": {
        "id": "jO5yR-oo-hxr"
      },
      "outputs": [],
      "source": [
        "# doing the same thing as in the religion function\n",
        "def zodiac_sign(value):\n",
        "    zodiac = value.split(' ')[0]\n",
        "    return zodiac"
      ]
    },
    {
      "cell_type": "code",
      "execution_count": null,
      "metadata": {
        "colab": {
          "base_uri": "https://localhost:8080/"
        },
        "id": "1krtZ2ntK9PK",
        "outputId": "ce4a96a2-ce85-4de3-e158-1285ec967a5a"
      },
      "outputs": [
        {
          "data": {
            "text/plain": [
              "0         gemini\n",
              "1         cancer\n",
              "2         pisces\n",
              "3         pisces\n",
              "4       aquarius\n",
              "5         taurus\n",
              "6          virgo\n",
              "7    sagittarius\n",
              "8         gemini\n",
              "9         cancer\n",
              "Name: sign, dtype: object"
            ]
          },
          "execution_count": 46,
          "metadata": {},
          "output_type": "execute_result"
        }
      ],
      "source": [
        "dating_df.sign = dating_df.sign.astype(str).apply(lambda x: zodiac_sign(x))\n",
        "dating_df.sign[:10]"
      ]
    },
    {
      "cell_type": "markdown",
      "metadata": {
        "id": "qxfbCLw4z3Ul"
      },
      "source": [
        "###1.6.11 The Smokes Column"
      ]
    },
    {
      "cell_type": "code",
      "execution_count": null,
      "metadata": {
        "colab": {
          "base_uri": "https://localhost:8080/"
        },
        "id": "e9q_Ti4Sna_o",
        "outputId": "8fd205fd-f3b2-4a2d-ddb0-8e88fddc463f"
      },
      "outputs": [
        {
          "data": {
            "text/plain": [
              "no                43895\n",
              "sometimes          3787\n",
              "when drinking      3040\n",
              "yes                2231\n",
              "trying to quit     1480\n",
              "Name: smokes, dtype: int64"
            ]
          },
          "execution_count": 47,
          "metadata": {},
          "output_type": "execute_result"
        }
      ],
      "source": [
        "# checking the value counts\n",
        "dating_df['smokes'].value_counts()"
      ]
    },
    {
      "cell_type": "code",
      "execution_count": null,
      "metadata": {
        "id": "CPzlWP7JnhPD"
      },
      "outputs": [],
      "source": [
        "# Fill null values with unspecified\n",
        "dating_df['smokes'].fillna('Unspecified',inplace=True)"
      ]
    },
    {
      "cell_type": "markdown",
      "metadata": {
        "id": "v6RiDv7E1nBg"
      },
      "source": [
        "###1.6.12 The Speaks Column"
      ]
    },
    {
      "cell_type": "code",
      "execution_count": null,
      "metadata": {
        "colab": {
          "base_uri": "https://localhost:8080/"
        },
        "id": "-nA1m2EToblw",
        "outputId": "b5cd17e6-b770-4274-ea06-0c6cd1cc0ab8"
      },
      "outputs": [
        {
          "data": {
            "text/plain": [
              "english                                                                21827\n",
              "english (fluently)                                                      6627\n",
              "english (fluently), spanish (poorly)                                    2059\n",
              "english (fluently), spanish (okay)                                      1917\n",
              "english (fluently), spanish (fluently)                                  1288\n",
              "                                                                       ...  \n",
              "english (fluently), urdu (poorly), japanese (poorly), french (okay)        1\n",
              "english, spanish, hindi, c++                                               1\n",
              "english (fluently), japanese (okay), thai (okay), chinese (poorly)         1\n",
              "english (fluently), french (okay), italian (okay), hebrew (okay)           1\n",
              "english (fluently), french, farsi                                          1\n",
              "Name: speaks, Length: 7647, dtype: int64"
            ]
          },
          "execution_count": 49,
          "metadata": {},
          "output_type": "execute_result"
        }
      ],
      "source": [
        "# Checking the value counts \n",
        "dating_df['speaks'].value_counts()"
      ]
    },
    {
      "cell_type": "code",
      "execution_count": null,
      "metadata": {
        "id": "qTa0Mfk4ofrV"
      },
      "outputs": [],
      "source": [
        "# filling null values with unspecified\n",
        "dating_df['speaks'].fillna('Unspecified',inplace=True)"
      ]
    },
    {
      "cell_type": "markdown",
      "metadata": {
        "id": "pUA5mWZNq641"
      },
      "source": [
        "Since we are considering an emotional match recommender system we won't consider height,job and income to prevent the recommender system from being biased"
      ]
    },
    {
      "cell_type": "markdown",
      "metadata": {
        "id": "Z7Au6uoalcur"
      },
      "source": [
        "###1.6.13 Dropping columns"
      ]
    },
    {
      "cell_type": "code",
      "execution_count": null,
      "metadata": {
        "id": "EMNO2W_Eoe8z"
      },
      "outputs": [],
      "source": [
        "# Dropping features not to be utilized by the recommendation engine\n",
        "dating_df = dating_df.drop(columns=['ethnicity', 'height', 'income', 'job', 'offspring', 'speaks', 'last_online'])"
      ]
    },
    {
      "cell_type": "markdown",
      "metadata": {
        "id": "UV-h4Dx3lmG3"
      },
      "source": [
        "###1.6.14 Filtering out the data"
      ]
    },
    {
      "cell_type": "code",
      "execution_count": null,
      "metadata": {
        "id": "pmAnHAZbodzx"
      },
      "outputs": [],
      "source": [
        "# keep only available people in the recommendation database \n",
        "dating_df = dating_df[dating_df.status.isin(['single', 'available'])].drop(columns='status')"
      ]
    },
    {
      "cell_type": "markdown",
      "metadata": {
        "id": "UJuzL3PCluvh"
      },
      "source": [
        "###1.6.15 The Location Column"
      ]
    },
    {
      "cell_type": "code",
      "execution_count": null,
      "metadata": {
        "colab": {
          "base_uri": "https://localhost:8080/"
        },
        "id": "00tXD7Pyr-rc",
        "outputId": "128ce40b-53ef-4c93-8832-93d2cc428a9a"
      },
      "outputs": [
        {
          "data": {
            "text/plain": [
              "san francisco, california    29919\n",
              "oakland, california           6886\n",
              "berkeley, california          3977\n",
              "san mateo, california         1291\n",
              "palo alto, california         1013\n",
              "                             ...  \n",
              "sunnyvale, california            1\n",
              "islip terrace, new york          1\n",
              "boise, idaho                     1\n",
              "peoria, illinois                 1\n",
              "rochester, michigan              1\n",
              "Name: location, Length: 193, dtype: int64"
            ]
          },
          "execution_count": 53,
          "metadata": {},
          "output_type": "execute_result"
        }
      ],
      "source": [
        "dating_df['location'].value_counts()"
      ]
    },
    {
      "cell_type": "code",
      "execution_count": null,
      "metadata": {
        "colab": {
          "base_uri": "https://localhost:8080/"
        },
        "id": "ed_XAmMHnoBQ",
        "outputId": "44cfa35d-3499-40b5-ceed-1db1c743bcfd"
      },
      "outputs": [
        {
          "name": "stdout",
          "output_type": "stream",
          "text": [
            "Number of states: 38\n"
          ]
        },
        {
          "data": {
            "text/plain": [
              " california              57473\n",
              " new york                   16\n",
              " illinois                    8\n",
              " texas                       4\n",
              " oregon                      4\n",
              " massachusetts               4\n",
              " michigan                    4\n",
              " arizona                     3\n",
              " florida                     3\n",
              " district of columbia        2\n",
              "Name: state, dtype: int64"
            ]
          },
          "execution_count": 54,
          "metadata": {},
          "output_type": "execute_result"
        }
      ],
      "source": [
        "# taking the state only from the location column\n",
        "def state_getter(string):\n",
        "    return string.split(',')[1]\n",
        "\n",
        "dating_df['state'] = dating_df.location.apply(lambda x: state_getter(x))\n",
        "# printing total states\n",
        "print('Number of states:', len(dating_df['state'].unique()))\n",
        "dating_df.state.value_counts()[:10]"
      ]
    },
    {
      "cell_type": "code",
      "execution_count": null,
      "metadata": {
        "id": "o0be2hcdsPkR"
      },
      "outputs": [],
      "source": [
        "# droppping the location column\n",
        "dating_df.drop('location', axis=1, inplace=True)"
      ]
    },
    {
      "cell_type": "markdown",
      "metadata": {
        "id": "UuHsx90Tm0Ge"
      },
      "source": [
        "### 1.6.16 The Pets Column"
      ]
    },
    {
      "cell_type": "code",
      "execution_count": null,
      "metadata": {
        "colab": {
          "base_uri": "https://localhost:8080/"
        },
        "id": "EZQfFymusiSN",
        "outputId": "bb77520b-0a9a-42ea-bc5f-e1339c84c2bc"
      },
      "outputs": [
        {
          "data": {
            "text/plain": [
              "19382"
            ]
          },
          "execution_count": 56,
          "metadata": {},
          "output_type": "execute_result"
        }
      ],
      "source": [
        "# checking the sum of null values\n",
        "dating_df.pets.isna().sum()"
      ]
    },
    {
      "cell_type": "code",
      "execution_count": null,
      "metadata": {
        "colab": {
          "base_uri": "https://localhost:8080/"
        },
        "id": "-GxOJcaPs2us",
        "outputId": "2f1a2e2f-51fa-4d7f-c6a8-7287e85ccb12"
      },
      "outputs": [
        {
          "data": {
            "text/plain": [
              "0"
            ]
          },
          "execution_count": 57,
          "metadata": {},
          "output_type": "execute_result"
        }
      ],
      "source": [
        "# filling null values with unspecified\n",
        "dating_df.pets.fillna('Unspecified', inplace=True)\n",
        "dating_df.pets.isna().sum()"
      ]
    },
    {
      "cell_type": "code",
      "execution_count": null,
      "metadata": {
        "colab": {
          "base_uri": "https://localhost:8080/"
        },
        "id": "pNBcUxrktENN",
        "outputId": "b9b2f548-d0f2-4b87-c46a-062e3490b0a5"
      },
      "outputs": [
        {
          "data": {
            "text/plain": [
              "Unspecified                        19382\n",
              "likes dogs and likes cats          14100\n",
              "likes dogs                          7026\n",
              "has dogs                            4022\n",
              "likes dogs and has cats             4000\n",
              "has dogs and likes cats             2223\n",
              "likes dogs and dislikes cats        1960\n",
              "has dogs and has cats               1373\n",
              "has cats                            1328\n",
              "likes cats                           973\n",
              "has dogs and dislikes cats           534\n",
              "dislikes dogs and likes cats         215\n",
              "dislikes dogs and dislikes cats      188\n",
              "dislikes cats                        121\n",
              "dislikes dogs and has cats            72\n",
              "dislikes dogs                         42\n",
              "Name: pets, dtype: int64"
            ]
          },
          "execution_count": 58,
          "metadata": {},
          "output_type": "execute_result"
        }
      ],
      "source": [
        "dating_df['pets'].value_counts()"
      ]
    },
    {
      "cell_type": "code",
      "execution_count": null,
      "metadata": {
        "id": "zqoz61a-tPqL"
      },
      "outputs": [],
      "source": [
        "# replacing has with likes\n",
        "# 1. The code checks if the value is a string\n",
        "# 2. If it is a string, it replaces the word 'has' with 'likes'\n",
        "# 3. If it is not a string, it returns the value as it is\n",
        "\n",
        "dating_df.pets = dating_df.pets.apply(lambda x: x.replace('has', 'likes') if isinstance(x, str) else x)"
      ]
    },
    {
      "cell_type": "code",
      "execution_count": null,
      "metadata": {
        "colab": {
          "base_uri": "https://localhost:8080/"
        },
        "id": "i44-Rsc6ugF8",
        "outputId": "49114684-ed04-40c4-aaf4-b246993d8e86"
      },
      "outputs": [
        {
          "data": {
            "text/plain": [
              "likes dogs and likes cats          21696\n",
              "Unspecified                        19382\n",
              "likes dogs                         11048\n",
              "likes dogs and dislikes cats        2494\n",
              "likes cats                          2301\n",
              "dislikes dogs and likes cats         287\n",
              "dislikes dogs and dislikes cats      188\n",
              "dislikes cats                        121\n",
              "dislikes dogs                         42\n",
              "Name: pets, dtype: int64"
            ]
          },
          "execution_count": 60,
          "metadata": {},
          "output_type": "execute_result"
        }
      ],
      "source": [
        "dating_df['pets'].value_counts()"
      ]
    },
    {
      "cell_type": "code",
      "execution_count": null,
      "metadata": {
        "colab": {
          "base_uri": "https://localhost:8080/"
        },
        "id": "YzQde2EIrAQ4",
        "outputId": "ba9b97d3-4497-4519-a114-c6695555e6af"
      },
      "outputs": [
        {
          "data": {
            "text/plain": [
              "8    21696\n",
              "0    19382\n",
              "6    11048\n",
              "7     2494\n",
              "5     2301\n",
              "4      287\n",
              "3      188\n",
              "1      121\n",
              "2       42\n",
              "Name: pets, dtype: int64"
            ]
          },
          "execution_count": 61,
          "metadata": {},
          "output_type": "execute_result"
        }
      ],
      "source": [
        "# using label encoder\n",
        "le = LabelEncoder()\n",
        "dating_df.pets = le.fit_transform(dating_df.pets)\n",
        "dating_df.pets.value_counts()"
      ]
    },
    {
      "cell_type": "code",
      "execution_count": null,
      "metadata": {
        "colab": {
          "base_uri": "https://localhost:8080/"
        },
        "id": "myjv5R9DsgPi",
        "outputId": "b73d7385-5ae8-48e5-c4a5-8f9cd3328f75"
      },
      "outputs": [
        {
          "data": {
            "text/plain": [
              "array(['likes dogs and likes cats', 'likes dogs and likes cats',\n",
              "       'likes cats', ..., 'Unspecified', 'likes dogs and likes cats',\n",
              "       'likes dogs and likes cats'], dtype=object)"
            ]
          },
          "execution_count": 62,
          "metadata": {},
          "output_type": "execute_result"
        }
      ],
      "source": [
        "# inversing\n",
        "le.inverse_transform(dating_df.pets)"
      ]
    },
    {
      "cell_type": "code",
      "execution_count": null,
      "metadata": {
        "colab": {
          "base_uri": "https://localhost:8080/"
        },
        "id": "rrsSJjuzvjYg",
        "outputId": "828893f5-f87f-4676-bf16-b9716e5a2aaf"
      },
      "outputs": [
        {
          "data": {
            "text/plain": [
              "Index(['age', 'sex', 'orientation', 'body_type', 'diet', 'drinks', 'drugs',\n",
              "       'education', 'pets', 'religion', 'sign', 'smokes', 'essay0', 'essay1',\n",
              "       'essay2', 'essay3', 'essay4', 'essay5', 'essay6', 'essay7', 'essay8',\n",
              "       'essay9', 'religionSerious', 'signSerious', 'state'],\n",
              "      dtype='object')"
            ]
          },
          "execution_count": 63,
          "metadata": {},
          "output_type": "execute_result"
        }
      ],
      "source": [
        "dating_df.columns"
      ]
    },
    {
      "cell_type": "markdown",
      "metadata": {
        "id": "Y-o990J4XnTx"
      },
      "source": [
        "### 1.6.17 The Age Column"
      ]
    },
    {
      "cell_type": "code",
      "execution_count": null,
      "metadata": {
        "colab": {
          "base_uri": "https://localhost:8080/"
        },
        "id": "1de-iNDLXsha",
        "outputId": "34f2bf50-5e96-47b1-b1f9-5820bb8806d3"
      },
      "outputs": [
        {
          "data": {
            "text/plain": [
              "count    57559.000000\n",
              "mean        32.419604\n",
              "std          9.510161\n",
              "min         18.000000\n",
              "25%         26.000000\n",
              "50%         30.000000\n",
              "75%         37.000000\n",
              "max        110.000000\n",
              "Name: age, dtype: float64"
            ]
          },
          "execution_count": 64,
          "metadata": {},
          "output_type": "execute_result"
        }
      ],
      "source": [
        "dating_df.age.describe().T"
      ]
    },
    {
      "cell_type": "markdown",
      "metadata": {
        "id": "IMFRk0B8X8Oj"
      },
      "source": [
        "There seems to be prescence of outliers in the age column"
      ]
    },
    {
      "cell_type": "code",
      "execution_count": null,
      "metadata": {
        "colab": {
          "base_uri": "https://localhost:8080/"
        },
        "id": "FiGWcUQrYhPU",
        "outputId": "bbf46011-715f-43d5-8f4a-11cc62441e29"
      },
      "outputs": [
        {
          "data": {
            "image/png": "[encoded data removed]",
            "text/plain": [
              "<Figure size 1080x504 with 1 Axes>"
            ]
          },
          "metadata": {},
          "output_type": "display_data"
        }
      ],
      "source": [
        "# plotting the outliers\n",
        "fig, ax = plt.subplots(figsize=(15,7))\n",
        "sns.boxplot(x=dating_df.age, ax=ax, color='orange')\n",
        "plt.show()"
      ]
    },
    {
      "cell_type": "code",
      "execution_count": null,
      "metadata": {
        "colab": {
          "base_uri": "https://localhost:8080/"
        },
        "id": "wex7r1UWbcOf",
        "outputId": "a89c1456-f01f-433a-9950-8302d6152d21"
      },
      "outputs": [
        {
          "data": {
            "text/plain": [
              "52.0"
            ]
          },
          "execution_count": 66,
          "metadata": {},
          "output_type": "execute_result"
        }
      ],
      "source": [
        "# checking the 95% quantile range\n",
        "dating_df.age.quantile(.95)"
      ]
    },
    {
      "cell_type": "code",
      "execution_count": null,
      "metadata": {
        "id": "6lDnIiHGb2e-"
      },
      "outputs": [],
      "source": [
        "# capping of ages above the 95% quantile to be the same value as the 95% quantile\n",
        "def age_capoff(value, cap_off_age=52):\n",
        "  if value > cap_off_age:\n",
        "        return cap_off_age\n",
        "\n",
        "  return value"
      ]
    },
    {
      "cell_type": "code",
      "execution_count": null,
      "metadata": {
        "colab": {
          "base_uri": "https://localhost:8080/"
        },
        "id": "jqx-ZEalcemJ",
        "outputId": "680c9716-71a8-449a-cd35-c1cf9beedf4d"
      },
      "outputs": [
        {
          "data": {
            "image/png": "[encoded data removed]",
            "text/plain": [
              "<Figure size 1080x504 with 1 Axes>"
            ]
          },
          "metadata": {},
          "output_type": "display_data"
        }
      ],
      "source": [
        "# plotting after dealing with the outliers\n",
        "fig, ax = plt.subplots(figsize=(15,7))\n",
        "sns.boxplot(x=dating_df.age.apply(lambda x: age_capoff(x)), ax=ax, color='orange')\n",
        "plt.show()"
      ]
    },
    {
      "cell_type": "code",
      "execution_count": null,
      "metadata": {
        "id": "cCGVXBC0dcGy"
      },
      "outputs": [],
      "source": [
        "# replacing the values in the age column\n",
        "dating_df.age = dating_df.age.apply(lambda x: age_capoff(x))"
      ]
    },
    {
      "cell_type": "markdown",
      "metadata": {
        "id": "aciCVKdXCkp3"
      },
      "source": [
        "## 1.7 Exploratory Data Analysis\n",
        "In the EDA section we will create a number of visualizations to have a better understanding of our data and its attributes."
      ]
    },
    {
      "cell_type": "code",
      "execution_count": null,
      "metadata": {
        "id": "EJSuJHYYO34Z"
      },
      "outputs": [],
      "source": [
        "#Function that will help in allocating percentages to different features in our plots.\n",
        "def feature_percentage(plot, variable):\n",
        "    total = len(variable)\n",
        "    for p in ax.patches:\n",
        "        percentage = '{:.1f}%'.format(100 * p.get_height()/total)\n",
        "        x = p.get_x()+p.get_width()/2-0.1\n",
        "        y = p.get_y()+p.get_height()\n",
        "        ax.annotate(percentage, (x, y), size=10)"
      ]
    },
    {
      "cell_type": "markdown",
      "metadata": {
        "id": "oi6PiUIODGB7"
      },
      "source": [
        "### 1.7.1 Gender Analysis."
      ]
    },
    {
      "cell_type": "code",
      "execution_count": null,
      "metadata": {
        "colab": {
          "base_uri": "https://localhost:8080/",
          "height": 289
        },
        "id": "gmugGfIqOTl_",
        "outputId": "a84c8517-3b21-4878-cc2c-5057992ba1f4"
      },
      "outputs": [
        {
          "data": {
            "image/png": "[encoded data removed]",
            "text/plain": [
              "<Figure size 432x288 with 1 Axes>"
            ]
          },
          "metadata": {},
          "output_type": "display_data"
        }
      ],
      "source": [
        "gender = dating_df['sex'].value_counts()\n",
        "ax=sns.barplot(x=gender.index, y=gender.values)\n",
        "plt.title('Gender Distribution')\n",
        "\n",
        "plt.style.use('seaborn')\n",
        "feature_percentage(ax,dating_df)\n",
        "plt.show()"
      ]
    },
    {
      "cell_type": "markdown",
      "metadata": {
        "id": "b2F_zlUGDhwa"
      },
      "source": [
        "From the above plot majority of the users are male at 59.8% and female follow closely at 40.2%\n",
        "\n",
        "### 1.7.2 Age Analysis"
      ]
    },
    {
      "cell_type": "code",
      "execution_count": null,
      "metadata": {
        "colab": {
          "base_uri": "https://localhost:8080/",
          "height": 515
        },
        "id": "N1W0St2Q7tbj",
        "outputId": "8b26dc35-783f-4975-a574-300d947c048b"
      },
      "outputs": [
        {
          "data": {
            "image/png": "[encoded data removed]",
            "text/plain": [
              "<Figure size 1080x576 with 1 Axes>"
            ]
          },
          "metadata": {},
          "output_type": "display_data"
        }
      ],
      "source": [
        "#Plot showing age distribution\n",
        "#plt.hist(x=dating_df.age)\n",
        "age= dating_df['age'].value_counts()\n",
        "plt.figure(figsize=(15,8))\n",
        "sns.barplot(x=age.index, y=age.values)\n",
        "plt.title('Age distribution')\n",
        "plt.xlabel('Age')\n",
        "plt.ylabel('Age Count')\n",
        "plt.style.use('seaborn')\n",
        "plt.xticks(rotation=75)\n",
        "plt.show()"
      ]
    },
    {
      "cell_type": "markdown",
      "metadata": {
        "id": "bEQByMccEFKG"
      },
      "source": [
        "Majority of the users are between 22 and 35. However there seems to be odd ages on the dating site such as 109."
      ]
    },
    {
      "cell_type": "code",
      "execution_count": null,
      "metadata": {
        "colab": {
          "base_uri": "https://localhost:8080/"
        },
        "id": "-GEHi1PT4O6s",
        "outputId": "c4638dd3-a9f3-437a-9937-c72423f9b000"
      },
      "outputs": [
        {
          "name": "stdout",
          "output_type": "stream",
          "text": [
            "min age: 18\n",
            "max age: 52\n"
          ]
        }
      ],
      "source": [
        "#Checking for the minimum age and maximum age\n",
        "print(\"min age:\", dating_df['age'].min())\n",
        "print(\"max age:\", dating_df['age'].max())"
      ]
    },
    {
      "cell_type": "code",
      "execution_count": null,
      "metadata": {
        "id": "8j_8eAjj5DvI"
      },
      "outputs": [],
      "source": [
        "# Binning the ages to allow for better visualization\n",
        "dating_df['age_bin']=pd.cut(x=dating_df['age'],bins=list(range(18,52,5)))"
      ]
    },
    {
      "cell_type": "code",
      "execution_count": null,
      "metadata": {
        "colab": {
          "base_uri": "https://localhost:8080/",
          "height": 414
        },
        "id": "cmeOFe9Fz64j",
        "outputId": "1e89bd6a-3901-414f-f88a-773ebd4375d3"
      },
      "outputs": [
        {
          "data": {
            "text/plain": [
              "<Figure size 1440x720 with 0 Axes>"
            ]
          },
          "metadata": {},
          "output_type": "display_data"
        },
        {
          "data": {
            "image/png": "[encoded data removed]",
            "text/plain": [
              "<Figure size 404.25x360 with 1 Axes>"
            ]
          },
          "metadata": {},
          "output_type": "display_data"
        }
      ],
      "source": [
        "#Plotting the age distribution\n",
        "plt.figure(figsize=(20,10))\n",
        "sns.catplot(x='age_bin', data= dating_df, kind='count',palette='magma',hue='sex')\n",
        "plt.xticks(rotation=75)\n",
        "plt.title('Age distribution according to gender')\n",
        "plt.show()"
      ]
    },
    {
      "cell_type": "markdown",
      "metadata": {
        "id": "_je05_iN-tf-"
      },
      "source": [
        "\n",
        "Majority of the users of this app are male. Most of them are aged 23 to 28. That same age bracket holds the highest number of female users.\n",
        "\n",
        "### 1.7.3 Investiging orientation count\n",
        "In this section we will investigate orientation count based on each gender."
      ]
    },
    {
      "cell_type": "code",
      "execution_count": null,
      "metadata": {
        "colab": {
          "base_uri": "https://localhost:8080/",
          "height": 349
        },
        "id": "eiHUTwLD_rGY",
        "outputId": "8e791884-89ab-4df0-f7c0-b4664347e3df"
      },
      "outputs": [
        {
          "data": {
            "image/png": "[encoded data removed]",
            "text/plain": [
              "<Figure size 576x360 with 1 Axes>"
            ]
          },
          "metadata": {},
          "output_type": "display_data"
        }
      ],
      "source": [
        "#Plotting orinetation according to gender\n",
        "plt.figure(figsize=(8, 5))\n",
        "ax = sns.countplot(x='orientation', data=dating_df, hue='sex', palette='magma',order=dating_df['orientation'].value_counts().iloc[:10].index) \n",
        "total = float(len(dating_df))\n",
        "plt.title('Orientation according to gender.')\n",
        "feature_percentage(ax,dating_df)\n",
        "plt.show()"
      ]
    },
    {
      "cell_type": "markdown",
      "metadata": {
        "id": "Ikj7W6sFBWlI"
      },
      "source": [
        "\n",
        "Majority of the users are of the orientation straight. Most of the straight users are male. This is the same case for the gay orientation For the bisexual orientation, majority are female.\n",
        "\n"
      ]
    },
    {
      "cell_type": "markdown",
      "metadata": {
        "id": "7SHL0C-PGJ0j"
      },
      "source": [
        "###1.7.4 Investigating drug usage\n",
        "In this section we investigate 3 columns i.e `drugs`, `drinks` and `smokes`\n"
      ]
    },
    {
      "cell_type": "code",
      "execution_count": null,
      "metadata": {
        "colab": {
          "base_uri": "https://localhost:8080/"
        },
        "id": "JaP2htXhyGdJ",
        "outputId": "fe93f65d-e215-49ea-d96a-af61ae36c805"
      },
      "outputs": [
        {
          "data": {
            "text/plain": [
              "never          36428\n",
              "Unspecified    13506\n",
              "sometimes       7235\n",
              "often            390\n",
              "Name: drugs, dtype: int64"
            ]
          },
          "execution_count": 77,
          "metadata": {},
          "output_type": "execute_result"
        }
      ],
      "source": [
        "#Drugs column\n",
        "dating_df['drugs'].value_counts()"
      ]
    },
    {
      "cell_type": "markdown",
      "metadata": {
        "id": "4UF0NgAJGosc"
      },
      "source": [
        "From the above information majority of the users do not drink while the minority drink often. We will visualize this in the plot below"
      ]
    },
    {
      "cell_type": "code",
      "execution_count": null,
      "metadata": {
        "colab": {
          "base_uri": "https://localhost:8080/",
          "height": 349
        },
        "id": "KZRUdXa_JXNa",
        "outputId": "d1168bdc-2271-4bc3-d2fa-bcbbe83a7b41"
      },
      "outputs": [
        {
          "data": {
            "image/png": "[encoded data removed]",
            "text/plain": [
              "<Figure size 576x360 with 1 Axes>"
            ]
          },
          "metadata": {},
          "output_type": "display_data"
        }
      ],
      "source": [
        "\n",
        "plt.figure(figsize=(8, 5))\n",
        "ax = sns.countplot(x='drugs', data=dating_df,  palette='magma',order=dating_df['drugs'].value_counts().iloc[:10].index) \n",
        "total = float(len(dating_df))\n",
        "plt.title('Drug usage.')\n",
        "feature_percentage(ax,dating_df)\n",
        "plt.show()"
      ]
    },
    {
      "cell_type": "markdown",
      "metadata": {
        "id": "mD06d32RKHyX"
      },
      "source": [
        "It is evident that majority of the users(62.9%) do not do drugs.\n",
        "\n",
        "###1.7.5 Investigating smoking frequency"
      ]
    },
    {
      "cell_type": "code",
      "execution_count": null,
      "metadata": {
        "colab": {
          "base_uri": "https://localhost:8080/",
          "height": 349
        },
        "id": "p7qgjmCSNkX7",
        "outputId": "b60af614-ce68-4d74-c9d5-f64995e92df4"
      },
      "outputs": [
        {
          "data": {
            "image/png": "[encoded data removed]",
            "text/plain": [
              "<Figure size 576x360 with 1 Axes>"
            ]
          },
          "metadata": {},
          "output_type": "display_data"
        }
      ],
      "source": [
        "#Visualization to show the count of users per smoking frequency.\n",
        "plt.figure(figsize=(8, 5))\n",
        "ax = sns.countplot(x='smokes', data=dating_df,  palette='magma',order=dating_df['smokes'].value_counts().iloc[:10].index) \n",
        "total = float(len(dating_df))\n",
        "plt.title('Smoking Frequency.')\n",
        "feature_percentage(ax,dating_df)\n",
        "plt.show()"
      ]
    },
    {
      "cell_type": "markdown",
      "metadata": {
        "id": "XtPwNm2iJJwT"
      },
      "source": [
        "73.2% of the dating app users do not smoke while those trying to quit take the lowest percentage at 2.5%"
      ]
    },
    {
      "cell_type": "markdown",
      "metadata": {
        "id": "K9HsYTPoRjEi"
      },
      "source": [
        "### 1.7.6 Alcohol Consumption"
      ]
    },
    {
      "cell_type": "code",
      "execution_count": null,
      "metadata": {
        "colab": {
          "base_uri": "https://localhost:8080/",
          "height": 349
        },
        "id": "ekJa_t_1H_KS",
        "outputId": "c1e4b83d-0bd5-4d45-8fac-edd29b84b3a1"
      },
      "outputs": [
        {
          "data": {
            "image/png": "[encoded data removed]",
            "text/plain": [
              "<Figure size 576x360 with 1 Axes>"
            ]
          },
          "metadata": {},
          "output_type": "display_data"
        }
      ],
      "source": [
        "#Visualizing the frequency of alcohol consumption among the users\n",
        "plt.figure(figsize=(8, 5))\n",
        "ax = sns.countplot(x='drinks', data=dating_df,  palette='magma',order=dating_df['drinks'].value_counts().iloc[:10].index) \n",
        "total = float(len(dating_df))\n",
        "plt.title('Alcohol consumption.')\n",
        "feature_percentage(ax,dating_df)\n",
        "plt.show()"
      ]
    },
    {
      "cell_type": "markdown",
      "metadata": {
        "id": "4AEMJQVZMfs9"
      },
      "source": [
        "During the cleaning, it will be very prudent to deal with the `-1` value.\n",
        "\n",
        "###1.7.7 Diet preferences\n"
      ]
    },
    {
      "cell_type": "code",
      "execution_count": null,
      "metadata": {
        "colab": {
          "base_uri": "https://localhost:8080/",
          "height": 349
        },
        "id": "XG1yyB3XKs5T",
        "outputId": "bb9cbe08-dd99-4a18-99ef-dfbbdf79b944"
      },
      "outputs": [
        {
          "data": {
            "image/png": "[encoded data removed]",
            "text/plain": [
              "<Figure size 576x360 with 1 Axes>"
            ]
          },
          "metadata": {},
          "output_type": "display_data"
        }
      ],
      "source": [
        "#Checking the distribution of diet preferences among the users.\n",
        "plt.figure(figsize=(8, 5))\n",
        "ax = sns.countplot(y='diet', data=dating_df,order=dating_df['diet'].value_counts().iloc[:10].index) \n",
        "total = float(len(dating_df))\n",
        "plt.title('User Diet.')\n",
        "\n",
        "plt.show()"
      ]
    },
    {
      "cell_type": "markdown",
      "metadata": {
        "id": "D0p_IW9TibeL"
      },
      "source": [
        "###1.7.7 Pets preferences"
      ]
    },
    {
      "cell_type": "code",
      "execution_count": null,
      "metadata": {
        "colab": {
          "base_uri": "https://localhost:8080/"
        },
        "id": "clSeUlIxieMG",
        "outputId": "a1d68865-0e2c-495a-c39b-34d6c8aba933"
      },
      "outputs": [
        {
          "data": {
            "text/plain": [
              "8    21696\n",
              "0    19382\n",
              "6    11048\n",
              "7     2494\n",
              "5     2301\n",
              "4      287\n",
              "3      188\n",
              "1      121\n",
              "2       42\n",
              "Name: pets, dtype: int64"
            ]
          },
          "execution_count": 82,
          "metadata": {},
          "output_type": "execute_result"
        }
      ],
      "source": [
        "dating_df.pets.value_counts()"
      ]
    },
    {
      "cell_type": "code",
      "execution_count": null,
      "metadata": {
        "colab": {
          "base_uri": "https://localhost:8080/"
        },
        "id": "kzLmXyoIu7dE",
        "outputId": "65b728a0-f653-4581-8383-8dec70d484d0"
      },
      "outputs": [
        {
          "data": {
            "text/plain": [
              "array(['likes dogs and likes cats', 'Unspecified', 'likes dogs',\n",
              "       'likes dogs and dislikes cats', 'likes cats',\n",
              "       'dislikes dogs and likes cats', 'dislikes dogs and dislikes cats',\n",
              "       'dislikes cats', 'dislikes dogs'], dtype=object)"
            ]
          },
          "execution_count": 83,
          "metadata": {},
          "output_type": "execute_result"
        }
      ],
      "source": [
        "le.inverse_transform(dating_df.pets.value_counts().index)"
      ]
    },
    {
      "cell_type": "code",
      "execution_count": null,
      "metadata": {
        "colab": {
          "base_uri": "https://localhost:8080/",
          "height": 206
        },
        "id": "aeURex88wxgP",
        "outputId": "91b4dbb4-88f8-47ad-b555-6f22351b8e19"
      },
      "outputs": [
        {
          "data": {
            "text/html": [
              "\n",
              "  <div id=\"df-26713305-7abc-4daf-b710-45f7db01f50f\">\n",
              "    <div class=\"colab-df-container\">\n",
              "      <div>\n",
              "<style scoped>\n",
              "    .dataframe tbody tr th:only-of-type {\n",
              "        vertical-align: middle;\n",
              "    }\n",
              "\n",
              "    .dataframe tbody tr th {\n",
              "        vertical-align: top;\n",
              "    }\n",
              "\n",
              "    .dataframe thead th {\n",
              "        text-align: right;\n",
              "    }\n",
              "</style>\n",
              "<table border=\"1\" class=\"dataframe\">\n",
              "  <thead>\n",
              "    <tr style=\"text-align: right;\">\n",
              "      <th></th>\n",
              "      <th>counts</th>\n",
              "      <th>relationship</th>\n",
              "    </tr>\n",
              "  </thead>\n",
              "  <tbody>\n",
              "    <tr>\n",
              "      <th>8</th>\n",
              "      <td>21696</td>\n",
              "      <td>likes dogs and likes cats</td>\n",
              "    </tr>\n",
              "    <tr>\n",
              "      <th>0</th>\n",
              "      <td>19382</td>\n",
              "      <td>Unspecified</td>\n",
              "    </tr>\n",
              "    <tr>\n",
              "      <th>6</th>\n",
              "      <td>11048</td>\n",
              "      <td>likes dogs</td>\n",
              "    </tr>\n",
              "    <tr>\n",
              "      <th>7</th>\n",
              "      <td>2494</td>\n",
              "      <td>likes dogs and dislikes cats</td>\n",
              "    </tr>\n",
              "    <tr>\n",
              "      <th>5</th>\n",
              "      <td>2301</td>\n",
              "      <td>likes cats</td>\n",
              "    </tr>\n",
              "  </tbody>\n",
              "</table>\n",
              "</div>\n",
              "      <button class=\"colab-df-convert\" onclick=\"convertToInteractive('df-26713305-7abc-4daf-b710-45f7db01f50f')\"\n",
              "              title=\"Convert this dataframe to an interactive table.\"\n",
              "              style=\"display:none;\">\n",
              "        \n",
              "  <svg xmlns=\"http://www.w3.org/2000/svg\" height=\"24px\"viewBox=\"0 0 24 24\"\n",
              "       width=\"24px\">\n",
              "    <path d=\"M0 0h24v24H0V0z\" fill=\"none\"/>\n",
              "    <path d=\"M18.56 5.44l.94 2.06.94-2.06 2.06-.94-2.06-.94-.94-2.06-.94 2.06-2.06.94zm-11 1L8.5 8.5l.94-2.06 2.06-.94-2.06-.94L8.5 2.5l-.94 2.06-2.06.94zm10 10l.94 2.06.94-2.06 2.06-.94-2.06-.94-.94-2.06-.94 2.06-2.06.94z\"/><path d=\"M17.41 7.96l-1.37-1.37c-.4-.4-.92-.59-1.43-.59-.52 0-1.04.2-1.43.59L10.3 9.45l-7.72 7.72c-.78.78-.78 2.05 0 2.83L4 21.41c.39.39.9.59 1.41.59.51 0 1.02-.2 1.41-.59l7.78-7.78 2.81-2.81c.8-.78.8-2.07 0-2.86zM5.41 20L4 18.59l7.72-7.72 1.47 1.35L5.41 20z\"/>\n",
              "  </svg>\n",
              "      </button>\n",
              "      \n",
              "  <style>\n",
              "    .colab-df-container {\n",
              "      display:flex;\n",
              "      flex-wrap:wrap;\n",
              "      gap: 12px;\n",
              "    }\n",
              "\n",
              "    .colab-df-convert {\n",
              "      background-color: #E8F0FE;\n",
              "      border: none;\n",
              "      border-radius: 50%;\n",
              "      cursor: pointer;\n",
              "      display: none;\n",
              "      fill: #1967D2;\n",
              "      height: 32px;\n",
              "      padding: 0 0 0 0;\n",
              "      width: 32px;\n",
              "    }\n",
              "\n",
              "    .colab-df-convert:hover {\n",
              "      background-color: #E2EBFA;\n",
              "      box-shadow: 0px 1px 2px rgba(60, 64, 67, 0.3), 0px 1px 3px 1px rgba(60, 64, 67, 0.15);\n",
              "      fill: #174EA6;\n",
              "    }\n",
              "\n",
              "    [theme=dark] .colab-df-convert {\n",
              "      background-color: #3B4455;\n",
              "      fill: #D2E3FC;\n",
              "    }\n",
              "\n",
              "    [theme=dark] .colab-df-convert:hover {\n",
              "      background-color: #434B5C;\n",
              "      box-shadow: 0px 1px 3px 1px rgba(0, 0, 0, 0.15);\n",
              "      filter: drop-shadow(0px 1px 2px rgba(0, 0, 0, 0.3));\n",
              "      fill: #FFFFFF;\n",
              "    }\n",
              "  </style>\n",
              "\n",
              "      <script>\n",
              "        const buttonEl =\n",
              "          document.querySelector('#df-26713305-7abc-4daf-b710-45f7db01f50f button.colab-df-convert');\n",
              "        buttonEl.style.display =\n",
              "          google.colab.kernel.accessAllowed ? 'block' : 'none';\n",
              "\n",
              "        async function convertToInteractive(key) {\n",
              "          const element = document.querySelector('#df-26713305-7abc-4daf-b710-45f7db01f50f');\n",
              "          const dataTable =\n",
              "            await google.colab.kernel.invokeFunction('convertToInteractive',\n",
              "                                                     [key], {});\n",
              "          if (!dataTable) return;\n",
              "\n",
              "          const docLinkHtml = 'Like what you see? Visit the ' +\n",
              "            '<a target=\"_blank\" href=https://colab.research.google.com/notebooks/data_table.ipynb>data table notebook</a>'\n",
              "            + ' to learn more about interactive tables.';\n",
              "          element.innerHTML = '';\n",
              "          dataTable['output_type'] = 'display_data';\n",
              "          await google.colab.output.renderOutput(dataTable, element);\n",
              "          const docLink = document.createElement('div');\n",
              "          docLink.innerHTML = docLinkHtml;\n",
              "          element.appendChild(docLink);\n",
              "        }\n",
              "      </script>\n",
              "    </div>\n",
              "  </div>\n",
              "  "
            ],
            "text/plain": [
              "   counts                  relationship\n",
              "8   21696     likes dogs and likes cats\n",
              "0   19382                   Unspecified\n",
              "6   11048                    likes dogs\n",
              "7    2494  likes dogs and dislikes cats\n",
              "5    2301                    likes cats"
            ]
          },
          "execution_count": 84,
          "metadata": {},
          "output_type": "execute_result"
        }
      ],
      "source": [
        "# creating a pets df\n",
        "pets_df = pd.DataFrame(data=dating_df.pets.value_counts().values, index=dating_df.pets.value_counts().index, columns=['counts'])\n",
        "pets_df['relationship'] = le.inverse_transform(dating_df.pets.value_counts().index)\n",
        "pets_df.head()"
      ]
    },
    {
      "cell_type": "code",
      "execution_count": null,
      "metadata": {
        "colab": {
          "base_uri": "https://localhost:8080/",
          "height": 718
        },
        "id": "PU2I4NIIvURj",
        "outputId": "e37fa0a4-6111-4963-fdc6-b11d1df605ee"
      },
      "outputs": [
        {
          "data": {
            "image/png": "[encoded data removed]",
            "text/plain": [
              "<Figure size 1080x576 with 1 Axes>"
            ]
          },
          "metadata": {},
          "output_type": "display_data"
        }
      ],
      "source": [
        "#Plot showing age distribution\n",
        "#plt.hist(x=dating_df.age)\n",
        "plt.figure(figsize=(15,8))\n",
        "sns.barplot(x=pets_df.relationship, y=pets_df.counts)\n",
        "plt.title('Relationship to a pet', fontsize=16)\n",
        "plt.xlabel('Relationship')\n",
        "plt.ylabel('Counts')\n",
        "plt.style.use('seaborn')\n",
        "plt.xticks(rotation=80, fontsize=16)\n",
        "plt.yticks(fontsize=16)\n",
        "plt.show()"
      ]
    },
    {
      "cell_type": "markdown",
      "metadata": {
        "id": "YV33W8wybAX1"
      },
      "source": [
        "## 2.0 Text Cleaning & Preprocessing & More Exploration\n",
        "\n",
        "Notice the essay columns are untouched upto now. This section eill deal with the text data that makes up the essay columns. proper labeling of the columns too.\n",
        "\n",
        "Then some visualizations before building the model later on."
      ]
    },
    {
      "cell_type": "markdown",
      "metadata": {
        "id": "jhEm7xcrbAIZ"
      },
      "source": [
        "For starters the following will be performed:\n",
        "- Remove punctuation and numbers\n",
        "- Lowercase everything\n",
        "- Remove stopwords\n",
        "- Create a document term matrix grouped by essay \n",
        "    - count vectorization\n",
        "    - tf-idf vectorization\n",
        "    - bi-grams\n",
        "- Visualize most frequent words\n",
        "    - word clouds\n",
        "    - bar plot/histogram\n",
        "\n",
        "Check the dataframe before proceeding; change the essay column titles to something more meaningful\n",
        "\n",
        "essay meanings:\n",
        " - essay\n",
        "    - 0: My self summary\n",
        "    - 1: What I’m doing with my life\n",
        "    - 2: I’m really good at...\n",
        "    - 3: The first thing people usually notice about me...\n",
        "    - 4: Favourite books, movies, show, music, and food\n",
        "    - 5: The six things I could never do without\n",
        "    - 6: I spend a lot of time thinking about...\n",
        "    - 7: On a typical Friday night I am...\n",
        "    - 8: The most private thing I am willing to admit...\n",
        "    - 9: You should message me if...\n"
      ]
    },
    {
      "cell_type": "code",
      "execution_count": null,
      "metadata": {
        "id": "FHlxYkP2e3WT"
      },
      "outputs": [],
      "source": [
        "# change the names of essay columns to meaningful words\n",
        "\n",
        "dating_df.rename(columns = {'essay0':'selfSummary', 'essay1':'currentLife', 'essay2':'goodAt',\n",
        "                     'essay3':'noticeFirst', 'essay4':'Favourites', 'essay5':'preciousThings',\n",
        "                     'essay6':'thinkAbout', 'essay7':'typicalFriday', 'essay8':'privateAdmission',\n",
        "                     'essay9':'messageIf'}, inplace = True)"
      ]
    },
    {
      "cell_type": "code",
      "execution_count": null,
      "metadata": {
        "colab": {
          "base_uri": "https://localhost:8080/"
        },
        "id": "WkK3I9vZmEQN",
        "outputId": "8e02638e-cb38-4260-e0f5-8d9f3c286d92"
      },
      "outputs": [
        {
          "name": "stdout",
          "output_type": "stream",
          "text": [
            "<class 'pandas.core.frame.DataFrame'>\n",
            "Int64Index: 57559 entries, 0 to 59945\n",
            "Data columns (total 26 columns):\n",
            " #   Column            Non-Null Count  Dtype   \n",
            "---  ------            --------------  -----   \n",
            " 0   age               57559 non-null  int64   \n",
            " 1   sex               57559 non-null  object  \n",
            " 2   orientation       57559 non-null  object  \n",
            " 3   body_type         57559 non-null  object  \n",
            " 4   diet              57559 non-null  object  \n",
            " 5   drinks            57559 non-null  object  \n",
            " 6   drugs             57559 non-null  object  \n",
            " 7   education         57559 non-null  object  \n",
            " 8   pets              57559 non-null  int64   \n",
            " 9   religion          57559 non-null  object  \n",
            " 10  sign              57559 non-null  object  \n",
            " 11  smokes            57559 non-null  object  \n",
            " 12  selfSummary       52227 non-null  object  \n",
            " 13  currentLife       50248 non-null  object  \n",
            " 14  goodAt            48243 non-null  object  \n",
            " 15  noticeFirst       46496 non-null  object  \n",
            " 16  Favourites        47390 non-null  object  \n",
            " 17  preciousThings    47116 non-null  object  \n",
            " 18  thinkAbout        44242 non-null  object  \n",
            " 19  typicalFriday     45556 non-null  object  \n",
            " 20  privateAdmission  38932 non-null  object  \n",
            " 21  messageIf         45339 non-null  object  \n",
            " 22  religionSerious   57559 non-null  int64   \n",
            " 23  signSerious       57559 non-null  int64   \n",
            " 24  state             57559 non-null  object  \n",
            " 25  age_bin           52871 non-null  category\n",
            "dtypes: category(1), int64(4), object(21)\n",
            "memory usage: 13.5+ MB\n"
          ]
        }
      ],
      "source": [
        "# check the new column names\n",
        "dating_df.info()"
      ]
    },
    {
      "cell_type": "code",
      "execution_count": null,
      "metadata": {
        "colab": {
          "base_uri": "https://localhost:8080/"
        },
        "id": "vkw62MJ4bDo3",
        "outputId": "21bc26f4-9bb3-4004-a481-898935e5c4cd"
      },
      "outputs": [
        {
          "name": "stderr",
          "output_type": "stream",
          "text": [
            "[nltk_data] Downloading package stopwords to /home/space/nltk_data...\n",
            "[nltk_data]   Package stopwords is already up-to-date!\n",
            "[nltk_data] Downloading package punkt to /home/space/nltk_data...\n",
            "[nltk_data]   Package punkt is already up-to-date!\n"
          ]
        }
      ],
      "source": [
        "# Import Statements\n",
        "\n",
        "import pandas as pd\n",
        "import numpy as np\n",
        "\n",
        "import matplotlib.pyplot as plt\n",
        "import seaborn as sns\n",
        "\n",
        "try:\n",
        "    import plotly.express as px\n",
        "except:\n",
        "    !pip install plotly\n",
        "    import plotly.express as px\n",
        "\n",
        "import nltk\n",
        "import string\n",
        "import regex as re\n",
        "try:\n",
        "    import spacy\n",
        "except:\n",
        "    !pip install spacy\n",
        "    import spacy\n",
        "\n",
        "from nltk.corpus import stopwords\n",
        "nltk.download('stopwords')\n",
        "nltk.download('punkt')\n",
        "from nltk import word_tokenize\n",
        "from nltk import FreqDist\n",
        "\n",
        "import warnings\n",
        "warnings.filterwarnings('ignore')\n",
        "\n",
        "from sklearn.feature_extraction.text import CountVectorizer, TfidfVectorizer\n",
        "from sklearn.model_selection import train_test_split, GridSearchCV\n",
        "from sklearn.naive_bayes import MultinomialNB, GaussianNB\n",
        "from sklearn.ensemble import RandomForestClassifier\n",
        "from sklearn.metrics import recall_score, accuracy_score, f1_score, confusion_matrix, classification_report\n",
        "from sklearn.utils import class_weight\n",
        "from sklearn.pipeline import Pipeline\n",
        "from sklearn.base import TransformerMixin\n",
        "from sklearn import set_config\n",
        "\n",
        "from PIL import Image\n",
        "try:\n",
        "    from wordcloud import WordCloud\n",
        "except:\n",
        "    !pip install wordcloud\n",
        "    from wordcloud import WordCloud\n",
        "from textwrap import wrap\n",
        "\n",
        "import joblib"
      ]
    },
    {
      "cell_type": "code",
      "execution_count": null,
      "metadata": {
        "id": "5gLTwX7LcNte"
      },
      "outputs": [],
      "source": [
        "# Create a list of stopwords\n",
        "stopwords_list = stopwords.words('english')\n",
        "stopwords_list += list(string.punctuation)"
      ]
    },
    {
      "cell_type": "code",
      "execution_count": null,
      "metadata": {
        "colab": {
          "base_uri": "https://localhost:8080/"
        },
        "id": "2JNNQuCRcNqu",
        "outputId": "41de7c44-9870-44c6-954a-951ad62bdec3"
      },
      "outputs": [
        {
          "data": {
            "text/plain": [
              "['i', 'me', 'my', 'myself', 'we', 'our', 'ours', 'ourselves', 'you', \"you're\"]"
            ]
          },
          "execution_count": 3,
          "metadata": {},
          "output_type": "execute_result"
        }
      ],
      "source": [
        "# Preview the list\n",
        "stopwords_list[:10]"
      ]
    },
    {
      "cell_type": "markdown",
      "metadata": {
        "id": "yigXj62GdfBX"
      },
      "source": [
        "Down here the stopword list will be stored for use on the deployment stage for the app."
      ]
    },
    {
      "cell_type": "code",
      "execution_count": null,
      "metadata": {
        "id": "QDa5NS5VcNoH"
      },
      "outputs": [],
      "source": [
        "# Save stopwords list for app\n",
        "#joblib.dump(stopwords_list, 'link to the folder')"
      ]
    },
    {
      "cell_type": "code",
      "execution_count": null,
      "metadata": {
        "colab": {
          "base_uri": "https://localhost:8080/"
        },
        "id": "83-x-JH5d-2c",
        "outputId": "0aabf673-e7ab-4676-ddf9-2c007b90fad0"
      },
      "outputs": [
        {
          "name": "stdout",
          "output_type": "stream",
          "text": [
            "age\n",
            "sex\n",
            "orientation\n",
            "body_type\n",
            "diet\n",
            "drinks\n",
            "drugs\n",
            "education\n",
            "pets\n",
            "religion\n",
            "sign\n",
            "smokes\n",
            "selfSummary\n",
            "currentLife\n",
            "goodAt\n",
            "noticeFirst\n",
            "Favourites\n",
            "preciousThings\n",
            "thinkAbout\n",
            "typicalFriday\n",
            "privateAdmission\n",
            "messageIf\n",
            "religionSerious\n",
            "signSerious\n",
            "state\n",
            "age_bin\n"
          ]
        }
      ],
      "source": [
        "#print column names\n",
        "\n",
        "for col in dating_df.columns:\n",
        "    print(col)"
      ]
    },
    {
      "cell_type": "code",
      "execution_count": null,
      "metadata": {
        "colab": {
          "base_uri": "https://localhost:8080/"
        },
        "id": "hEhAcrxso22F",
        "outputId": "1587441f-ba72-4071-fb89-11e71c6c2ffb"
      },
      "outputs": [
        {
          "name": "stdout",
          "output_type": "stream",
          "text": [
            "object\n"
          ]
        }
      ],
      "source": [
        "# ensure all data in the essay section is treated as a string\n",
        "\n",
        "dating_df['selfSummary'] = dating_df[['selfSummary']].astype(str)\n",
        "dating_df['currentLife'] = dating_df[['currentLife']].astype(str)\n",
        "dating_df['goodAt'] = dating_df[['goodAt']].astype(str)\n",
        "dating_df['noticeFirst'] = dating_df[['noticeFirst']].astype(str)\n",
        "dating_df['Favourites'] = dating_df[['Favourites']].astype(str)\n",
        "dating_df['preciousThings'] = dating_df[['preciousThings']].astype(str)\n",
        "dating_df['typicalFriday'] = dating_df[['typicalFriday']].astype(str)\n",
        "dating_df['privateAdmission'] = dating_df[['messageIf']].astype(str)\n",
        "dating_df['messageIf'] = dating_df[['selfSummary']].astype(str)\n",
        "dating_df['thinkAbout'] = dating_df[[ 'thinkAbout']].astype(str)\n",
        "print(dating_df['selfSummary'].dtypes)"
      ]
    },
    {
      "cell_type": "code",
      "execution_count": null,
      "metadata": {
        "colab": {
          "base_uri": "https://localhost:8080/"
        },
        "id": "uh6qi-FCcNk6",
        "outputId": "547ffd40-3016-4ef4-ae5b-236ca9cba0bd"
      },
      "outputs": [
        {
          "data": {
            "text/plain": [
              "0        about me:  i would love to think that i was so...\n",
              "1        i am a chef: this is what that means. 1. i am ...\n",
              "2        i'm not ashamed of much, but writing public te...\n",
              "3                i work in a library and go to school. . .\n",
              "4        hey how's it going? currently vague on the pro...\n",
              "                               ...                        \n",
              "59941    vibrant, expressive, caring optimist. i love b...\n",
              "59942    i'm nick. i never know what to write about mys...\n",
              "59943    hello! i enjoy traveling, watching movies, and...\n",
              "59944    \"all i have in this world are my balls and my ...\n",
              "59945    is it odd that having a little \"enemy\" status ...\n",
              "Name: messageIf, Length: 57559, dtype: object"
            ]
          },
          "execution_count": 94,
          "metadata": {},
          "output_type": "execute_result"
        }
      ],
      "source": [
        "# Lowercase all words in each corpus\n",
        "\n",
        "dating_df['selfSummary'].apply(lambda x: x.lower())\n",
        "dating_df['currentLife'].apply(lambda x: x.lower())\n",
        "dating_df['goodAt'].apply(lambda x: x.lower())\n",
        "dating_df['noticeFirst'].apply(lambda x: x.lower())\n",
        "dating_df['Favourites'].apply(lambda x: x.lower())\n",
        "dating_df['preciousThings'].apply(lambda x: x.lower())\n",
        "dating_df['thinkAbout'].apply(lambda x: x.lower())\n",
        "dating_df['typicalFriday'].apply(lambda x: x.lower())\n",
        "dating_df['privateAdmission'].apply(lambda x: x.lower())\n",
        "dating_df['messageIf'].apply(lambda x: x.lower())\n",
        "#dating_df.head()"
      ]
    },
    {
      "cell_type": "code",
      "execution_count": null,
      "metadata": {
        "id": "yWMRaX-zcNiI"
      },
      "outputs": [],
      "source": [
        "# Remove commas, hyphens, colons, and other punctuation\n",
        "\n",
        "dating_df['selfSummary'] = dating_df['selfSummary'].apply(lambda x: re.sub('[%s]' % re.escape(string.punctuation), '', x))\n",
        "dating_df['currentLife'] = dating_df['currentLife'].apply(lambda x: re.sub('[%s]' % re.escape(string.punctuation), '', x))\n",
        "dating_df['goodAt'] = dating_df['goodAt'].apply(lambda x: re.sub('[%s]' % re.escape(string.punctuation), '', x))\n",
        "dating_df['noticeFirst'] = dating_df['noticeFirst'].apply(lambda x: re.sub('[%s]' % re.escape(string.punctuation), '', x))\n",
        "dating_df['Favourites'] = dating_df['Favourites'].apply(lambda x: re.sub('[%s]' % re.escape(string.punctuation), '', x))\n",
        "dating_df['preciousThings'] = dating_df['preciousThings'].apply(lambda x: re.sub('[%s]' % re.escape(string.punctuation), '', x))\n",
        "dating_df['thinkAbout'] = dating_df['thinkAbout'].apply(lambda x: re.sub('[%s]' % re.escape(string.punctuation), '', x))\n",
        "dating_df['typicalFriday'] = dating_df['typicalFriday'].apply(lambda x: re.sub('[%s]' % re.escape(string.punctuation), '', x))\n",
        "dating_df['privateAdmission'] = dating_df['privateAdmission'].apply(lambda x: re.sub('[%s]' % re.escape(string.punctuation), '', x))\n",
        "dating_df['messageIf'] = dating_df['messageIf'].apply(lambda x: re.sub('[%s]' % re.escape(string.punctuation), '', x))\n",
        "\n",
        "#dating_df.head()"
      ]
    },
    {
      "cell_type": "code",
      "execution_count": null,
      "metadata": {
        "id": "aKjyMlWacNfN"
      },
      "outputs": [],
      "source": [
        "# Use regex to get rid of numbers \n",
        "\n",
        "dating_df['selfSummary'] = dating_df['selfSummary'].apply(lambda x: re.sub('\\w*\\d\\w*','', x))\n",
        "dating_df['currentLife'] = dating_df['currentLife'].apply(lambda x: re.sub('\\w*\\d\\w*','', x))\n",
        "dating_df['goodAt'] = dating_df['goodAt'].apply(lambda x: re.sub('\\w*\\d\\w*','', x))\n",
        "dating_df['noticeFirst'] = dating_df['noticeFirst'].apply(lambda x: re.sub('\\w*\\d\\w*','', x))\n",
        "dating_df['Favourites'] = dating_df['Favourites'].apply(lambda x: re.sub('\\w*\\d\\w*','', x))\n",
        "dating_df['preciousThings'] = dating_df['preciousThings'].apply(lambda x: re.sub('\\w*\\d\\w*','', x))\n",
        "dating_df['thinkAbout'] = dating_df['thinkAbout'].apply(lambda x: re.sub('\\w*\\d\\w*','', x))\n",
        "dating_df['typicalFriday'] = dating_df['typicalFriday'].apply(lambda x: re.sub('\\w*\\d\\w*','', x))\n",
        "dating_df['privateAdmission'] = dating_df['privateAdmission'].apply(lambda x: re.sub('\\w*\\d\\w*','', x))\n",
        "dating_df['messageIf'] = dating_df['messageIf'].apply(lambda x: re.sub('\\w*\\d\\w*','', x))\n",
        "#dating_df.head()"
      ]
    },
    {
      "cell_type": "markdown",
      "metadata": {
        "id": "emb2ZthrwnSA"
      },
      "source": [
        "We are going to install spaCy to help with NLP.\n",
        "\n",
        "SpaCy is a Python library for Natural Language Processing (NLP) such as tokenization, named entity recognition with pre-trained models for several languages."
      ]
    },
    {
      "cell_type": "code",
      "execution_count": null,
      "metadata": {
        "id": "uAlc8ODZwmdo"
      },
      "outputs": [],
      "source": [
        "# install spaCy\n",
        "\n",
        "#!python -m spacy download en"
      ]
    },
    {
      "cell_type": "code",
      "execution_count": null,
      "metadata": {
        "id": "op1guPNbcNce"
      },
      "outputs": [],
      "source": [
        "# Lemmatize the text using spacy\n",
        "\n",
        "nlp = spacy.load('en_core_web_sm')\n",
        "\n",
        "dating_df['selfSummary'] = dating_df['selfSummary'].apply(lambda x: ' '.join(\n",
        "                                    [token.lemma_ for token in list(nlp(x)) if (token.is_stop==False)]))\n",
        "dating_df['currentLife'] = dating_df['currentLife'].apply(lambda x: ' '.join(\n",
        "                                    [token.lemma_ for token in list(nlp(x)) if (token.is_stop==False)]))\n",
        "dating_df['goodAt'] = dating_df['goodAt'].apply(lambda x: ' '.join(\n",
        "                                    [token.lemma_ for token in list(nlp(x)) if (token.is_stop==False)]))\n",
        "dating_df['noticeFirst'] = dating_df['noticeFirst'].apply(lambda x: ' '.join(\n",
        "                                    [token.lemma_ for token in list(nlp(x)) if (token.is_stop==False)]))\n",
        "dating_df['Favourites'] = dating_df['Favourites'].apply(lambda x: ' '.join(\n",
        "                                    [token.lemma_ for token in list(nlp(x)) if (token.is_stop==False)]))\n",
        "dating_df['preciousThings'] = dating_df['preciousThings'].apply(lambda x: ' '.join(\n",
        "                                    [token.lemma_ for token in list(nlp(x)) if (token.is_stop==False)]))\n",
        "dating_df['thinkAbout'] = dating_df['thinkAbout'].apply(lambda x: ' '.join(\n",
        "                                    [token.lemma_ for token in list(nlp(x)) if (token.is_stop==False)]))\n",
        "dating_df['typicalFriday'] = dating_df['typicalFriday'].apply(lambda x: ' '.join(\n",
        "                                    [token.lemma_ for token in list(nlp(x)) if (token.is_stop==False)]))\n",
        "dating_df['privateAdmission'] = dating_df['privateAdmission'].apply(lambda x: ' '.join(\n",
        "                                    [token.lemma_ for token in list(nlp(x)) if (token.is_stop==False)]))\n",
        "dating_df['messageIf'] = dating_df['messageIf'].apply(lambda x: ' '.join(\n",
        "                                    [token.lemma_ for token in list(nlp(x)) if (token.is_stop==False)]))\n",
        "\n",
        "dating_df.head()"
      ]
    },
    {
      "cell_type": "code",
      "execution_count": null,
      "metadata": {
        "id": "FfysYuxABsOz"
      },
      "outputs": [],
      "source": []
    },
    {
      "cell_type": "markdown",
      "metadata": {
        "id": "9SOLHZ37Br0J"
      },
      "source": [
        "###  New Lemmatized Dataframe\n",
        "\n",
        "Lemmatization took a lot of time so it is better to store the lemmatized data locally as a csv file. The following operations will be done before vectorization:\n",
        "   - Creation of a new dataframe with essays and gender only `essay_df`.\n",
        "   - Replace `nan` with meaningful values.\n",
        "   - Split the dataframe into two, one for each gender `female_df` and `male_df`.\n",
        "   - Store all these dataframes as csv files.\n",
        "\n",
        "   *This was done on a different notebook*"
      ]
    },
    {
      "cell_type": "markdown",
      "metadata": {
        "id": "lDN0i4i70QUO"
      },
      "source": [
        "### Look at different vectorization strategies\n",
        "- Try different vectorization strategies and visualize them with word clouds\n",
        "    - count vectorization\n",
        "    - tf-idf vectorization\n",
        "    - bi-grams\n",
        "\n",
        "First create a dataframe with only essay columns for efficiency."
      ]
    },
    {
      "cell_type": "code",
      "execution_count": null,
      "metadata": {
        "id": "cLhbohm2Qk6r"
      },
      "outputs": [],
      "source": []
    },
    {
      "cell_type": "code",
      "execution_count": null,
      "metadata": {
        "colab": {
          "base_uri": "https://localhost:8080/"
        },
        "id": "-ARKjIms-_Ft",
        "outputId": "5652b160-c405-42cd-d8c2-97511159cd4f"
      },
      "outputs": [
        {
          "name": "stdout",
          "output_type": "stream",
          "text": [
            "Drive already mounted at /content/drive; to attempt to forcibly remount, call drive.mount(\"/content/drive\", force_remount=True).\n"
          ]
        }
      ],
      "source": [
        "from google.colab import drive\n",
        "drive.mount('/content/drive')"
      ]
    },
    {
      "cell_type": "markdown",
      "metadata": {
        "id": "TlYB037s3GOB"
      },
      "source": [
        "### Count Vectorizer\n",
        "#### The selfSummary Column"
      ]
    },
    {
      "cell_type": "code",
      "execution_count": null,
      "metadata": {
        "id": "zwIVph1HJy2f"
      },
      "outputs": [],
      "source": [
        "def count_vectorizer_func(column):\n",
        "    # getting all words\n",
        "    words = nltk.word_tokenize(' '.join(column.values))\n",
        "    # sampling the words\n",
        "    sampled_words = pd.Series(words).sample(28000, random_state=21).values\n",
        "\n",
        "    # vectoring\n",
        "    cv = CountVectorizer(analyzer='word', stop_words=stopwords_list)\n",
        "    data = cv.fit_transform(sampled_words)\n",
        "    # creating a df\n",
        "    df = pd.DataFrame(data.toarray(), columns=cv.get_feature_names())\n",
        "\n",
        "    return df"
      ]
    },
    {
      "cell_type": "markdown",
      "metadata": {
        "id": "mtlJ0egYOlM1"
      },
      "source": [
        "**The female essay df**"
      ]
    },
    {
      "cell_type": "code",
      "execution_count": null,
      "metadata": {
        "id": "SgQY0EDU2gJm"
      },
      "outputs": [],
      "source": [
        "female_essay_df = pd.read_csv('data/femaleessay.csv')"
      ]
    },
    {
      "cell_type": "code",
      "execution_count": null,
      "metadata": {
        "id": "O6y_CoFrJy2g",
        "outputId": "212e3782-f05f-4bc3-abf7-64956c6f5a04"
      },
      "outputs": [
        {
          "data": {
            "text/html": [
              "<div>\n",
              "<style scoped>\n",
              "    .dataframe tbody tr th:only-of-type {\n",
              "        vertical-align: middle;\n",
              "    }\n",
              "\n",
              "    .dataframe tbody tr th {\n",
              "        vertical-align: top;\n",
              "    }\n",
              "\n",
              "    .dataframe thead th {\n",
              "        text-align: right;\n",
              "    }\n",
              "</style>\n",
              "<table border=\"1\" class=\"dataframe\">\n",
              "  <thead>\n",
              "    <tr style=\"text-align: right;\">\n",
              "      <th></th>\n",
              "      <th>abacus</th>\n",
              "      <th>abbess</th>\n",
              "      <th>aberrant</th>\n",
              "      <th>abhore</th>\n",
              "      <th>abide</th>\n",
              "      <th>ability</th>\n",
              "      <th>able</th>\n",
              "      <th>abrasively</th>\n",
              "      <th>abroad</th>\n",
              "      <th>absofuckinglutely</th>\n",
              "      <th>...</th>\n",
              "      <th>zealand</th>\n",
              "      <th>zest</th>\n",
              "      <th>zhezir</th>\n",
              "      <th>zine</th>\n",
              "      <th>zion</th>\n",
              "      <th>zodiac</th>\n",
              "      <th>zombie</th>\n",
              "      <th>zone</th>\n",
              "      <th>zoo</th>\n",
              "      <th>zumba</th>\n",
              "    </tr>\n",
              "  </thead>\n",
              "  <tbody>\n",
              "    <tr>\n",
              "      <th>0</th>\n",
              "      <td>0</td>\n",
              "      <td>0</td>\n",
              "      <td>0</td>\n",
              "      <td>0</td>\n",
              "      <td>0</td>\n",
              "      <td>0</td>\n",
              "      <td>0</td>\n",
              "      <td>0</td>\n",
              "      <td>0</td>\n",
              "      <td>0</td>\n",
              "      <td>...</td>\n",
              "      <td>0</td>\n",
              "      <td>0</td>\n",
              "      <td>0</td>\n",
              "      <td>0</td>\n",
              "      <td>0</td>\n",
              "      <td>0</td>\n",
              "      <td>0</td>\n",
              "      <td>0</td>\n",
              "      <td>0</td>\n",
              "      <td>0</td>\n",
              "    </tr>\n",
              "    <tr>\n",
              "      <th>1</th>\n",
              "      <td>0</td>\n",
              "      <td>0</td>\n",
              "      <td>0</td>\n",
              "      <td>0</td>\n",
              "      <td>0</td>\n",
              "      <td>0</td>\n",
              "      <td>0</td>\n",
              "      <td>0</td>\n",
              "      <td>0</td>\n",
              "      <td>0</td>\n",
              "      <td>...</td>\n",
              "      <td>0</td>\n",
              "      <td>0</td>\n",
              "      <td>0</td>\n",
              "      <td>0</td>\n",
              "      <td>0</td>\n",
              "      <td>0</td>\n",
              "      <td>0</td>\n",
              "      <td>0</td>\n",
              "      <td>0</td>\n",
              "      <td>0</td>\n",
              "    </tr>\n",
              "    <tr>\n",
              "      <th>2</th>\n",
              "      <td>0</td>\n",
              "      <td>0</td>\n",
              "      <td>0</td>\n",
              "      <td>0</td>\n",
              "      <td>0</td>\n",
              "      <td>0</td>\n",
              "      <td>0</td>\n",
              "      <td>0</td>\n",
              "      <td>0</td>\n",
              "      <td>0</td>\n",
              "      <td>...</td>\n",
              "      <td>0</td>\n",
              "      <td>0</td>\n",
              "      <td>0</td>\n",
              "      <td>0</td>\n",
              "      <td>0</td>\n",
              "      <td>0</td>\n",
              "      <td>0</td>\n",
              "      <td>0</td>\n",
              "      <td>0</td>\n",
              "      <td>0</td>\n",
              "    </tr>\n",
              "    <tr>\n",
              "      <th>3</th>\n",
              "      <td>0</td>\n",
              "      <td>0</td>\n",
              "      <td>0</td>\n",
              "      <td>0</td>\n",
              "      <td>0</td>\n",
              "      <td>0</td>\n",
              "      <td>0</td>\n",
              "      <td>0</td>\n",
              "      <td>0</td>\n",
              "      <td>0</td>\n",
              "      <td>...</td>\n",
              "      <td>0</td>\n",
              "      <td>0</td>\n",
              "      <td>0</td>\n",
              "      <td>0</td>\n",
              "      <td>0</td>\n",
              "      <td>0</td>\n",
              "      <td>0</td>\n",
              "      <td>0</td>\n",
              "      <td>0</td>\n",
              "      <td>0</td>\n",
              "    </tr>\n",
              "    <tr>\n",
              "      <th>4</th>\n",
              "      <td>0</td>\n",
              "      <td>0</td>\n",
              "      <td>0</td>\n",
              "      <td>0</td>\n",
              "      <td>0</td>\n",
              "      <td>0</td>\n",
              "      <td>0</td>\n",
              "      <td>0</td>\n",
              "      <td>0</td>\n",
              "      <td>0</td>\n",
              "      <td>...</td>\n",
              "      <td>0</td>\n",
              "      <td>0</td>\n",
              "      <td>0</td>\n",
              "      <td>0</td>\n",
              "      <td>0</td>\n",
              "      <td>0</td>\n",
              "      <td>0</td>\n",
              "      <td>0</td>\n",
              "      <td>0</td>\n",
              "      <td>0</td>\n",
              "    </tr>\n",
              "    <tr>\n",
              "      <th>5</th>\n",
              "      <td>0</td>\n",
              "      <td>0</td>\n",
              "      <td>0</td>\n",
              "      <td>0</td>\n",
              "      <td>0</td>\n",
              "      <td>0</td>\n",
              "      <td>0</td>\n",
              "      <td>0</td>\n",
              "      <td>0</td>\n",
              "      <td>0</td>\n",
              "      <td>...</td>\n",
              "      <td>0</td>\n",
              "      <td>0</td>\n",
              "      <td>0</td>\n",
              "      <td>0</td>\n",
              "      <td>0</td>\n",
              "      <td>0</td>\n",
              "      <td>0</td>\n",
              "      <td>0</td>\n",
              "      <td>0</td>\n",
              "      <td>0</td>\n",
              "    </tr>\n",
              "    <tr>\n",
              "      <th>6</th>\n",
              "      <td>0</td>\n",
              "      <td>0</td>\n",
              "      <td>0</td>\n",
              "      <td>0</td>\n",
              "      <td>0</td>\n",
              "      <td>0</td>\n",
              "      <td>0</td>\n",
              "      <td>0</td>\n",
              "      <td>0</td>\n",
              "      <td>0</td>\n",
              "      <td>...</td>\n",
              "      <td>0</td>\n",
              "      <td>0</td>\n",
              "      <td>0</td>\n",
              "      <td>0</td>\n",
              "      <td>0</td>\n",
              "      <td>0</td>\n",
              "      <td>0</td>\n",
              "      <td>0</td>\n",
              "      <td>0</td>\n",
              "      <td>0</td>\n",
              "    </tr>\n",
              "    <tr>\n",
              "      <th>7</th>\n",
              "      <td>0</td>\n",
              "      <td>0</td>\n",
              "      <td>0</td>\n",
              "      <td>0</td>\n",
              "      <td>0</td>\n",
              "      <td>0</td>\n",
              "      <td>0</td>\n",
              "      <td>0</td>\n",
              "      <td>0</td>\n",
              "      <td>0</td>\n",
              "      <td>...</td>\n",
              "      <td>0</td>\n",
              "      <td>0</td>\n",
              "      <td>0</td>\n",
              "      <td>0</td>\n",
              "      <td>0</td>\n",
              "      <td>0</td>\n",
              "      <td>0</td>\n",
              "      <td>0</td>\n",
              "      <td>0</td>\n",
              "      <td>0</td>\n",
              "    </tr>\n",
              "    <tr>\n",
              "      <th>8</th>\n",
              "      <td>0</td>\n",
              "      <td>0</td>\n",
              "      <td>0</td>\n",
              "      <td>0</td>\n",
              "      <td>0</td>\n",
              "      <td>0</td>\n",
              "      <td>0</td>\n",
              "      <td>0</td>\n",
              "      <td>0</td>\n",
              "      <td>0</td>\n",
              "      <td>...</td>\n",
              "      <td>0</td>\n",
              "      <td>0</td>\n",
              "      <td>0</td>\n",
              "      <td>0</td>\n",
              "      <td>0</td>\n",
              "      <td>0</td>\n",
              "      <td>0</td>\n",
              "      <td>0</td>\n",
              "      <td>0</td>\n",
              "      <td>0</td>\n",
              "    </tr>\n",
              "    <tr>\n",
              "      <th>9</th>\n",
              "      <td>0</td>\n",
              "      <td>0</td>\n",
              "      <td>0</td>\n",
              "      <td>0</td>\n",
              "      <td>0</td>\n",
              "      <td>0</td>\n",
              "      <td>0</td>\n",
              "      <td>0</td>\n",
              "      <td>0</td>\n",
              "      <td>0</td>\n",
              "      <td>...</td>\n",
              "      <td>0</td>\n",
              "      <td>0</td>\n",
              "      <td>0</td>\n",
              "      <td>0</td>\n",
              "      <td>0</td>\n",
              "      <td>0</td>\n",
              "      <td>0</td>\n",
              "      <td>0</td>\n",
              "      <td>0</td>\n",
              "      <td>0</td>\n",
              "    </tr>\n",
              "  </tbody>\n",
              "</table>\n",
              "<p>10 rows × 5653 columns</p>\n",
              "</div>"
            ],
            "text/plain": [
              "   abacus  abbess  aberrant  abhore  abide  ability  able  abrasively  abroad  \\\n",
              "0       0       0         0       0      0        0     0           0       0   \n",
              "1       0       0         0       0      0        0     0           0       0   \n",
              "2       0       0         0       0      0        0     0           0       0   \n",
              "3       0       0         0       0      0        0     0           0       0   \n",
              "4       0       0         0       0      0        0     0           0       0   \n",
              "5       0       0         0       0      0        0     0           0       0   \n",
              "6       0       0         0       0      0        0     0           0       0   \n",
              "7       0       0         0       0      0        0     0           0       0   \n",
              "8       0       0         0       0      0        0     0           0       0   \n",
              "9       0       0         0       0      0        0     0           0       0   \n",
              "\n",
              "   absofuckinglutely  ...  zealand  zest  zhezir  zine  zion  zodiac  zombie  \\\n",
              "0                  0  ...        0     0       0     0     0       0       0   \n",
              "1                  0  ...        0     0       0     0     0       0       0   \n",
              "2                  0  ...        0     0       0     0     0       0       0   \n",
              "3                  0  ...        0     0       0     0     0       0       0   \n",
              "4                  0  ...        0     0       0     0     0       0       0   \n",
              "5                  0  ...        0     0       0     0     0       0       0   \n",
              "6                  0  ...        0     0       0     0     0       0       0   \n",
              "7                  0  ...        0     0       0     0     0       0       0   \n",
              "8                  0  ...        0     0       0     0     0       0       0   \n",
              "9                  0  ...        0     0       0     0     0       0       0   \n",
              "\n",
              "   zone  zoo  zumba  \n",
              "0     0    0      0  \n",
              "1     0    0      0  \n",
              "2     0    0      0  \n",
              "3     0    0      0  \n",
              "4     0    0      0  \n",
              "5     0    0      0  \n",
              "6     0    0      0  \n",
              "7     0    0      0  \n",
              "8     0    0      0  \n",
              "9     0    0      0  \n",
              "\n",
              "[10 rows x 5653 columns]"
            ]
          },
          "execution_count": 6,
          "metadata": {},
          "output_type": "execute_result"
        }
      ],
      "source": [
        "# count vectorizing the selfSummary column in thd female_essay_df\n",
        "df_selfSummary_female = count_vectorizer_func(female_essay_df.selfSummary)\n",
        "df_selfSummary_female.head(10)"
      ]
    },
    {
      "cell_type": "markdown",
      "metadata": {
        "id": "xVrj7Hy4Jy2h"
      },
      "source": [
        "**The male essay df**"
      ]
    },
    {
      "cell_type": "code",
      "execution_count": null,
      "metadata": {
        "id": "seP5CkeYJy2h"
      },
      "outputs": [],
      "source": [
        "male_essay_df = pd.read_csv('data/femaleessay.csv')"
      ]
    },
    {
      "cell_type": "code",
      "execution_count": null,
      "metadata": {
        "id": "zAfACP7WJy2h",
        "outputId": "536a5551-e580-4452-b29b-833afdedabbe"
      },
      "outputs": [
        {
          "data": {
            "text/html": [
              "<div>\n",
              "<style scoped>\n",
              "    .dataframe tbody tr th:only-of-type {\n",
              "        vertical-align: middle;\n",
              "    }\n",
              "\n",
              "    .dataframe tbody tr th {\n",
              "        vertical-align: top;\n",
              "    }\n",
              "\n",
              "    .dataframe thead th {\n",
              "        text-align: right;\n",
              "    }\n",
              "</style>\n",
              "<table border=\"1\" class=\"dataframe\">\n",
              "  <thead>\n",
              "    <tr style=\"text-align: right;\">\n",
              "      <th></th>\n",
              "      <th>abacus</th>\n",
              "      <th>abbess</th>\n",
              "      <th>aberrant</th>\n",
              "      <th>abhore</th>\n",
              "      <th>abide</th>\n",
              "      <th>ability</th>\n",
              "      <th>able</th>\n",
              "      <th>abrasively</th>\n",
              "      <th>abroad</th>\n",
              "      <th>absofuckinglutely</th>\n",
              "      <th>...</th>\n",
              "      <th>zealand</th>\n",
              "      <th>zest</th>\n",
              "      <th>zhezir</th>\n",
              "      <th>zine</th>\n",
              "      <th>zion</th>\n",
              "      <th>zodiac</th>\n",
              "      <th>zombie</th>\n",
              "      <th>zone</th>\n",
              "      <th>zoo</th>\n",
              "      <th>zumba</th>\n",
              "    </tr>\n",
              "  </thead>\n",
              "  <tbody>\n",
              "    <tr>\n",
              "      <th>0</th>\n",
              "      <td>0</td>\n",
              "      <td>0</td>\n",
              "      <td>0</td>\n",
              "      <td>0</td>\n",
              "      <td>0</td>\n",
              "      <td>0</td>\n",
              "      <td>0</td>\n",
              "      <td>0</td>\n",
              "      <td>0</td>\n",
              "      <td>0</td>\n",
              "      <td>...</td>\n",
              "      <td>0</td>\n",
              "      <td>0</td>\n",
              "      <td>0</td>\n",
              "      <td>0</td>\n",
              "      <td>0</td>\n",
              "      <td>0</td>\n",
              "      <td>0</td>\n",
              "      <td>0</td>\n",
              "      <td>0</td>\n",
              "      <td>0</td>\n",
              "    </tr>\n",
              "    <tr>\n",
              "      <th>1</th>\n",
              "      <td>0</td>\n",
              "      <td>0</td>\n",
              "      <td>0</td>\n",
              "      <td>0</td>\n",
              "      <td>0</td>\n",
              "      <td>0</td>\n",
              "      <td>0</td>\n",
              "      <td>0</td>\n",
              "      <td>0</td>\n",
              "      <td>0</td>\n",
              "      <td>...</td>\n",
              "      <td>0</td>\n",
              "      <td>0</td>\n",
              "      <td>0</td>\n",
              "      <td>0</td>\n",
              "      <td>0</td>\n",
              "      <td>0</td>\n",
              "      <td>0</td>\n",
              "      <td>0</td>\n",
              "      <td>0</td>\n",
              "      <td>0</td>\n",
              "    </tr>\n",
              "    <tr>\n",
              "      <th>2</th>\n",
              "      <td>0</td>\n",
              "      <td>0</td>\n",
              "      <td>0</td>\n",
              "      <td>0</td>\n",
              "      <td>0</td>\n",
              "      <td>0</td>\n",
              "      <td>0</td>\n",
              "      <td>0</td>\n",
              "      <td>0</td>\n",
              "      <td>0</td>\n",
              "      <td>...</td>\n",
              "      <td>0</td>\n",
              "      <td>0</td>\n",
              "      <td>0</td>\n",
              "      <td>0</td>\n",
              "      <td>0</td>\n",
              "      <td>0</td>\n",
              "      <td>0</td>\n",
              "      <td>0</td>\n",
              "      <td>0</td>\n",
              "      <td>0</td>\n",
              "    </tr>\n",
              "    <tr>\n",
              "      <th>3</th>\n",
              "      <td>0</td>\n",
              "      <td>0</td>\n",
              "      <td>0</td>\n",
              "      <td>0</td>\n",
              "      <td>0</td>\n",
              "      <td>0</td>\n",
              "      <td>0</td>\n",
              "      <td>0</td>\n",
              "      <td>0</td>\n",
              "      <td>0</td>\n",
              "      <td>...</td>\n",
              "      <td>0</td>\n",
              "      <td>0</td>\n",
              "      <td>0</td>\n",
              "      <td>0</td>\n",
              "      <td>0</td>\n",
              "      <td>0</td>\n",
              "      <td>0</td>\n",
              "      <td>0</td>\n",
              "      <td>0</td>\n",
              "      <td>0</td>\n",
              "    </tr>\n",
              "    <tr>\n",
              "      <th>4</th>\n",
              "      <td>0</td>\n",
              "      <td>0</td>\n",
              "      <td>0</td>\n",
              "      <td>0</td>\n",
              "      <td>0</td>\n",
              "      <td>0</td>\n",
              "      <td>0</td>\n",
              "      <td>0</td>\n",
              "      <td>0</td>\n",
              "      <td>0</td>\n",
              "      <td>...</td>\n",
              "      <td>0</td>\n",
              "      <td>0</td>\n",
              "      <td>0</td>\n",
              "      <td>0</td>\n",
              "      <td>0</td>\n",
              "      <td>0</td>\n",
              "      <td>0</td>\n",
              "      <td>0</td>\n",
              "      <td>0</td>\n",
              "      <td>0</td>\n",
              "    </tr>\n",
              "    <tr>\n",
              "      <th>5</th>\n",
              "      <td>0</td>\n",
              "      <td>0</td>\n",
              "      <td>0</td>\n",
              "      <td>0</td>\n",
              "      <td>0</td>\n",
              "      <td>0</td>\n",
              "      <td>0</td>\n",
              "      <td>0</td>\n",
              "      <td>0</td>\n",
              "      <td>0</td>\n",
              "      <td>...</td>\n",
              "      <td>0</td>\n",
              "      <td>0</td>\n",
              "      <td>0</td>\n",
              "      <td>0</td>\n",
              "      <td>0</td>\n",
              "      <td>0</td>\n",
              "      <td>0</td>\n",
              "      <td>0</td>\n",
              "      <td>0</td>\n",
              "      <td>0</td>\n",
              "    </tr>\n",
              "    <tr>\n",
              "      <th>6</th>\n",
              "      <td>0</td>\n",
              "      <td>0</td>\n",
              "      <td>0</td>\n",
              "      <td>0</td>\n",
              "      <td>0</td>\n",
              "      <td>0</td>\n",
              "      <td>0</td>\n",
              "      <td>0</td>\n",
              "      <td>0</td>\n",
              "      <td>0</td>\n",
              "      <td>...</td>\n",
              "      <td>0</td>\n",
              "      <td>0</td>\n",
              "      <td>0</td>\n",
              "      <td>0</td>\n",
              "      <td>0</td>\n",
              "      <td>0</td>\n",
              "      <td>0</td>\n",
              "      <td>0</td>\n",
              "      <td>0</td>\n",
              "      <td>0</td>\n",
              "    </tr>\n",
              "    <tr>\n",
              "      <th>7</th>\n",
              "      <td>0</td>\n",
              "      <td>0</td>\n",
              "      <td>0</td>\n",
              "      <td>0</td>\n",
              "      <td>0</td>\n",
              "      <td>0</td>\n",
              "      <td>0</td>\n",
              "      <td>0</td>\n",
              "      <td>0</td>\n",
              "      <td>0</td>\n",
              "      <td>...</td>\n",
              "      <td>0</td>\n",
              "      <td>0</td>\n",
              "      <td>0</td>\n",
              "      <td>0</td>\n",
              "      <td>0</td>\n",
              "      <td>0</td>\n",
              "      <td>0</td>\n",
              "      <td>0</td>\n",
              "      <td>0</td>\n",
              "      <td>0</td>\n",
              "    </tr>\n",
              "    <tr>\n",
              "      <th>8</th>\n",
              "      <td>0</td>\n",
              "      <td>0</td>\n",
              "      <td>0</td>\n",
              "      <td>0</td>\n",
              "      <td>0</td>\n",
              "      <td>0</td>\n",
              "      <td>0</td>\n",
              "      <td>0</td>\n",
              "      <td>0</td>\n",
              "      <td>0</td>\n",
              "      <td>...</td>\n",
              "      <td>0</td>\n",
              "      <td>0</td>\n",
              "      <td>0</td>\n",
              "      <td>0</td>\n",
              "      <td>0</td>\n",
              "      <td>0</td>\n",
              "      <td>0</td>\n",
              "      <td>0</td>\n",
              "      <td>0</td>\n",
              "      <td>0</td>\n",
              "    </tr>\n",
              "    <tr>\n",
              "      <th>9</th>\n",
              "      <td>0</td>\n",
              "      <td>0</td>\n",
              "      <td>0</td>\n",
              "      <td>0</td>\n",
              "      <td>0</td>\n",
              "      <td>0</td>\n",
              "      <td>0</td>\n",
              "      <td>0</td>\n",
              "      <td>0</td>\n",
              "      <td>0</td>\n",
              "      <td>...</td>\n",
              "      <td>0</td>\n",
              "      <td>0</td>\n",
              "      <td>0</td>\n",
              "      <td>0</td>\n",
              "      <td>0</td>\n",
              "      <td>0</td>\n",
              "      <td>0</td>\n",
              "      <td>0</td>\n",
              "      <td>0</td>\n",
              "      <td>0</td>\n",
              "    </tr>\n",
              "  </tbody>\n",
              "</table>\n",
              "<p>10 rows × 5653 columns</p>\n",
              "</div>"
            ],
            "text/plain": [
              "   abacus  abbess  aberrant  abhore  abide  ability  able  abrasively  abroad  \\\n",
              "0       0       0         0       0      0        0     0           0       0   \n",
              "1       0       0         0       0      0        0     0           0       0   \n",
              "2       0       0         0       0      0        0     0           0       0   \n",
              "3       0       0         0       0      0        0     0           0       0   \n",
              "4       0       0         0       0      0        0     0           0       0   \n",
              "5       0       0         0       0      0        0     0           0       0   \n",
              "6       0       0         0       0      0        0     0           0       0   \n",
              "7       0       0         0       0      0        0     0           0       0   \n",
              "8       0       0         0       0      0        0     0           0       0   \n",
              "9       0       0         0       0      0        0     0           0       0   \n",
              "\n",
              "   absofuckinglutely  ...  zealand  zest  zhezir  zine  zion  zodiac  zombie  \\\n",
              "0                  0  ...        0     0       0     0     0       0       0   \n",
              "1                  0  ...        0     0       0     0     0       0       0   \n",
              "2                  0  ...        0     0       0     0     0       0       0   \n",
              "3                  0  ...        0     0       0     0     0       0       0   \n",
              "4                  0  ...        0     0       0     0     0       0       0   \n",
              "5                  0  ...        0     0       0     0     0       0       0   \n",
              "6                  0  ...        0     0       0     0     0       0       0   \n",
              "7                  0  ...        0     0       0     0     0       0       0   \n",
              "8                  0  ...        0     0       0     0     0       0       0   \n",
              "9                  0  ...        0     0       0     0     0       0       0   \n",
              "\n",
              "   zone  zoo  zumba  \n",
              "0     0    0      0  \n",
              "1     0    0      0  \n",
              "2     0    0      0  \n",
              "3     0    0      0  \n",
              "4     0    0      0  \n",
              "5     0    0      0  \n",
              "6     0    0      0  \n",
              "7     0    0      0  \n",
              "8     0    0      0  \n",
              "9     0    0      0  \n",
              "\n",
              "[10 rows x 5653 columns]"
            ]
          },
          "execution_count": 73,
          "metadata": {},
          "output_type": "execute_result"
        }
      ],
      "source": [
        "# count vectorizing the selfSummary column in thd male_essay_df\n",
        "df_selfSummary_male = count_vectorizer_func(male_essay_df.selfSummary)\n",
        "df_selfSummary_male.head(10)"
      ]
    },
    {
      "cell_type": "markdown",
      "metadata": {
        "id": "dDe12SO6Lq-3"
      },
      "source": [
        "Next create its wordcloud (PS: this will be applied to all the essay column)."
      ]
    },
    {
      "cell_type": "code",
      "execution_count": null,
      "metadata": {
        "id": "HzKWqq3BL33y"
      },
      "outputs": [],
      "source": [
        "# a function to generate the wordcloud\n",
        "\n",
        "def generate_wordcloud(data, title):\n",
        "    cloud = WordCloud(width=400, height=330, max_words=150, colormap='tab20c').generate_from_frequencies(data)\n",
        "    plt.figure(figsize=(10,8))\n",
        "    plt.imshow(cloud, interpolation='bilinear')\n",
        "    plt.axis('off')\n",
        "    plt.title('\\n'.join(wrap(title,60)), fontsize=13)\n",
        "    plt.show()"
      ]
    },
    {
      "cell_type": "markdown",
      "metadata": {
        "id": "VWlK_kveNWqv"
      },
      "source": [
        "All these steps will be repeated for all essay columns"
      ]
    },
    {
      "cell_type": "code",
      "execution_count": null,
      "metadata": {
        "id": "w8M3BJdLJy2i"
      },
      "outputs": [],
      "source": [
        "columns = ['currentLife', 'goodAt', 'noticeFirst', 'Favourites', 'preciousThings', 'thinkAbout', 'typicalFriday', 'privateAdmission', 'messageIf']\n",
        "dfs=[f\"df_{x}_male\" for x in columns]\n",
        "\n",
        "# staring wiht males\n",
        "for ind, column in enumerate(columns):\n",
        "    dfs[ind] = count_vectorizer_func(male_essay_df[column])"
      ]
    },
    {
      "cell_type": "code",
      "execution_count": null,
      "metadata": {
        "id": "XZnr-hIxJy2i"
      },
      "outputs": [],
      "source": [
        "# creating dfs\n",
        "df_currentLife_male=dfs[0]\n",
        "df_goodAt_male=dfs[1]\n",
        "df_noticeFirst_male=dfs[2]\n",
        "df_Favourites_male=dfs[3]\n",
        "df_preciousThings_male=dfs[4]\n",
        "df_thinkAbout_male=dfs[5]\n",
        "df_typicalFriday_male=dfs[6]\n",
        "df_privateAdmissions_male=dfs[7]\n",
        "df_messaIf_male=dfs[8]"
      ]
    },
    {
      "cell_type": "code",
      "execution_count": null,
      "metadata": {
        "id": "_pVNFHlsJy2i",
        "outputId": "82ece285-936e-431b-f739-6f53636bfdfe"
      },
      "outputs": [
        {
          "data": {
            "text/html": [
              "<div>\n",
              "<style scoped>\n",
              "    .dataframe tbody tr th:only-of-type {\n",
              "        vertical-align: middle;\n",
              "    }\n",
              "\n",
              "    .dataframe tbody tr th {\n",
              "        vertical-align: top;\n",
              "    }\n",
              "\n",
              "    .dataframe thead th {\n",
              "        text-align: right;\n",
              "    }\n",
              "</style>\n",
              "<table border=\"1\" class=\"dataframe\">\n",
              "  <thead>\n",
              "    <tr style=\"text-align: right;\">\n",
              "      <th></th>\n",
              "      <th>aa</th>\n",
              "      <th>aau</th>\n",
              "      <th>ab</th>\n",
              "      <th>abide</th>\n",
              "      <th>ability</th>\n",
              "      <th>abilitydesire</th>\n",
              "      <th>able</th>\n",
              "      <th>abortion</th>\n",
              "      <th>abroad</th>\n",
              "      <th>absolute</th>\n",
              "      <th>...</th>\n",
              "      <th>zen</th>\n",
              "      <th>zero</th>\n",
              "      <th>zimmerman</th>\n",
              "      <th>zipcar</th>\n",
              "      <th>zivity</th>\n",
              "      <th>zombie</th>\n",
              "      <th>zone</th>\n",
              "      <th>zoo</th>\n",
              "      <th>zoology</th>\n",
              "      <th>zumba</th>\n",
              "    </tr>\n",
              "  </thead>\n",
              "  <tbody>\n",
              "    <tr>\n",
              "      <th>0</th>\n",
              "      <td>0</td>\n",
              "      <td>0</td>\n",
              "      <td>0</td>\n",
              "      <td>0</td>\n",
              "      <td>0</td>\n",
              "      <td>0</td>\n",
              "      <td>0</td>\n",
              "      <td>0</td>\n",
              "      <td>0</td>\n",
              "      <td>0</td>\n",
              "      <td>...</td>\n",
              "      <td>0</td>\n",
              "      <td>0</td>\n",
              "      <td>0</td>\n",
              "      <td>0</td>\n",
              "      <td>0</td>\n",
              "      <td>0</td>\n",
              "      <td>0</td>\n",
              "      <td>0</td>\n",
              "      <td>0</td>\n",
              "      <td>0</td>\n",
              "    </tr>\n",
              "    <tr>\n",
              "      <th>1</th>\n",
              "      <td>0</td>\n",
              "      <td>0</td>\n",
              "      <td>0</td>\n",
              "      <td>0</td>\n",
              "      <td>0</td>\n",
              "      <td>0</td>\n",
              "      <td>0</td>\n",
              "      <td>0</td>\n",
              "      <td>0</td>\n",
              "      <td>0</td>\n",
              "      <td>...</td>\n",
              "      <td>0</td>\n",
              "      <td>0</td>\n",
              "      <td>0</td>\n",
              "      <td>0</td>\n",
              "      <td>0</td>\n",
              "      <td>0</td>\n",
              "      <td>0</td>\n",
              "      <td>0</td>\n",
              "      <td>0</td>\n",
              "      <td>0</td>\n",
              "    </tr>\n",
              "    <tr>\n",
              "      <th>2</th>\n",
              "      <td>0</td>\n",
              "      <td>0</td>\n",
              "      <td>0</td>\n",
              "      <td>0</td>\n",
              "      <td>0</td>\n",
              "      <td>0</td>\n",
              "      <td>0</td>\n",
              "      <td>0</td>\n",
              "      <td>0</td>\n",
              "      <td>0</td>\n",
              "      <td>...</td>\n",
              "      <td>0</td>\n",
              "      <td>0</td>\n",
              "      <td>0</td>\n",
              "      <td>0</td>\n",
              "      <td>0</td>\n",
              "      <td>0</td>\n",
              "      <td>0</td>\n",
              "      <td>0</td>\n",
              "      <td>0</td>\n",
              "      <td>0</td>\n",
              "    </tr>\n",
              "    <tr>\n",
              "      <th>3</th>\n",
              "      <td>0</td>\n",
              "      <td>0</td>\n",
              "      <td>0</td>\n",
              "      <td>0</td>\n",
              "      <td>0</td>\n",
              "      <td>0</td>\n",
              "      <td>0</td>\n",
              "      <td>0</td>\n",
              "      <td>0</td>\n",
              "      <td>0</td>\n",
              "      <td>...</td>\n",
              "      <td>0</td>\n",
              "      <td>0</td>\n",
              "      <td>0</td>\n",
              "      <td>0</td>\n",
              "      <td>0</td>\n",
              "      <td>0</td>\n",
              "      <td>0</td>\n",
              "      <td>0</td>\n",
              "      <td>0</td>\n",
              "      <td>0</td>\n",
              "    </tr>\n",
              "    <tr>\n",
              "      <th>4</th>\n",
              "      <td>0</td>\n",
              "      <td>0</td>\n",
              "      <td>0</td>\n",
              "      <td>0</td>\n",
              "      <td>0</td>\n",
              "      <td>0</td>\n",
              "      <td>0</td>\n",
              "      <td>0</td>\n",
              "      <td>0</td>\n",
              "      <td>0</td>\n",
              "      <td>...</td>\n",
              "      <td>0</td>\n",
              "      <td>0</td>\n",
              "      <td>0</td>\n",
              "      <td>0</td>\n",
              "      <td>0</td>\n",
              "      <td>0</td>\n",
              "      <td>0</td>\n",
              "      <td>0</td>\n",
              "      <td>0</td>\n",
              "      <td>0</td>\n",
              "    </tr>\n",
              "  </tbody>\n",
              "</table>\n",
              "<p>5 rows × 5191 columns</p>\n",
              "</div>"
            ],
            "text/plain": [
              "   aa  aau  ab  abide  ability  abilitydesire  able  abortion  abroad  \\\n",
              "0   0    0   0      0        0              0     0         0       0   \n",
              "1   0    0   0      0        0              0     0         0       0   \n",
              "2   0    0   0      0        0              0     0         0       0   \n",
              "3   0    0   0      0        0              0     0         0       0   \n",
              "4   0    0   0      0        0              0     0         0       0   \n",
              "\n",
              "   absolute  ...  zen  zero  zimmerman  zipcar  zivity  zombie  zone  zoo  \\\n",
              "0         0  ...    0     0          0       0       0       0     0    0   \n",
              "1         0  ...    0     0          0       0       0       0     0    0   \n",
              "2         0  ...    0     0          0       0       0       0     0    0   \n",
              "3         0  ...    0     0          0       0       0       0     0    0   \n",
              "4         0  ...    0     0          0       0       0       0     0    0   \n",
              "\n",
              "   zoology  zumba  \n",
              "0        0      0  \n",
              "1        0      0  \n",
              "2        0      0  \n",
              "3        0      0  \n",
              "4        0      0  \n",
              "\n",
              "[5 rows x 5191 columns]"
            ]
          },
          "execution_count": 13,
          "metadata": {},
          "output_type": "execute_result"
        }
      ],
      "source": [
        "df_currentLife_male.head()"
      ]
    },
    {
      "cell_type": "code",
      "execution_count": null,
      "metadata": {
        "id": "k4M48OVQJy2i"
      },
      "outputs": [],
      "source": [
        "# doing the same with the females column\n",
        "dfs2=[f\"df_{x}_female\" for x in columns]\n",
        "for ind, column in enumerate(columns):\n",
        "    dfs2[ind] = count_vectorizer_func(female_essay_df[column])"
      ]
    },
    {
      "cell_type": "code",
      "execution_count": null,
      "metadata": {
        "id": "VIxLnncPJy2j"
      },
      "outputs": [],
      "source": [
        "# creating dfs\n",
        "df_currentLife_female=dfs2[0]\n",
        "df_goodAt_female=dfs2[1]\n",
        "df_noticeFirst_female=dfs2[2]\n",
        "df_Favourites_female=dfs2[3]\n",
        "df_preciousThings_female=dfs2[4]\n",
        "df_thinkAbout_female=dfs2[5]\n",
        "df_typicalFriday_female=dfs2[6]\n",
        "df_privateAdmissions_female=dfs2[7]\n",
        "df_messaIf_female=dfs2[8]"
      ]
    },
    {
      "cell_type": "code",
      "execution_count": null,
      "metadata": {
        "id": "iXLjchXGJy2j",
        "outputId": "084ed808-7bbb-4e44-f86f-0899411a6a36"
      },
      "outputs": [
        {
          "data": {
            "text/html": [
              "<div>\n",
              "<style scoped>\n",
              "    .dataframe tbody tr th:only-of-type {\n",
              "        vertical-align: middle;\n",
              "    }\n",
              "\n",
              "    .dataframe tbody tr th {\n",
              "        vertical-align: top;\n",
              "    }\n",
              "\n",
              "    .dataframe thead th {\n",
              "        text-align: right;\n",
              "    }\n",
              "</style>\n",
              "<table border=\"1\" class=\"dataframe\">\n",
              "  <thead>\n",
              "    <tr style=\"text-align: right;\">\n",
              "      <th></th>\n",
              "      <th>aa</th>\n",
              "      <th>aau</th>\n",
              "      <th>ab</th>\n",
              "      <th>abide</th>\n",
              "      <th>ability</th>\n",
              "      <th>abilitydesire</th>\n",
              "      <th>able</th>\n",
              "      <th>abortion</th>\n",
              "      <th>abroad</th>\n",
              "      <th>absolute</th>\n",
              "      <th>...</th>\n",
              "      <th>zen</th>\n",
              "      <th>zero</th>\n",
              "      <th>zimmerman</th>\n",
              "      <th>zipcar</th>\n",
              "      <th>zivity</th>\n",
              "      <th>zombie</th>\n",
              "      <th>zone</th>\n",
              "      <th>zoo</th>\n",
              "      <th>zoology</th>\n",
              "      <th>zumba</th>\n",
              "    </tr>\n",
              "  </thead>\n",
              "  <tbody>\n",
              "    <tr>\n",
              "      <th>0</th>\n",
              "      <td>0</td>\n",
              "      <td>0</td>\n",
              "      <td>0</td>\n",
              "      <td>0</td>\n",
              "      <td>0</td>\n",
              "      <td>0</td>\n",
              "      <td>0</td>\n",
              "      <td>0</td>\n",
              "      <td>0</td>\n",
              "      <td>0</td>\n",
              "      <td>...</td>\n",
              "      <td>0</td>\n",
              "      <td>0</td>\n",
              "      <td>0</td>\n",
              "      <td>0</td>\n",
              "      <td>0</td>\n",
              "      <td>0</td>\n",
              "      <td>0</td>\n",
              "      <td>0</td>\n",
              "      <td>0</td>\n",
              "      <td>0</td>\n",
              "    </tr>\n",
              "    <tr>\n",
              "      <th>1</th>\n",
              "      <td>0</td>\n",
              "      <td>0</td>\n",
              "      <td>0</td>\n",
              "      <td>0</td>\n",
              "      <td>0</td>\n",
              "      <td>0</td>\n",
              "      <td>0</td>\n",
              "      <td>0</td>\n",
              "      <td>0</td>\n",
              "      <td>0</td>\n",
              "      <td>...</td>\n",
              "      <td>0</td>\n",
              "      <td>0</td>\n",
              "      <td>0</td>\n",
              "      <td>0</td>\n",
              "      <td>0</td>\n",
              "      <td>0</td>\n",
              "      <td>0</td>\n",
              "      <td>0</td>\n",
              "      <td>0</td>\n",
              "      <td>0</td>\n",
              "    </tr>\n",
              "    <tr>\n",
              "      <th>2</th>\n",
              "      <td>0</td>\n",
              "      <td>0</td>\n",
              "      <td>0</td>\n",
              "      <td>0</td>\n",
              "      <td>0</td>\n",
              "      <td>0</td>\n",
              "      <td>0</td>\n",
              "      <td>0</td>\n",
              "      <td>0</td>\n",
              "      <td>0</td>\n",
              "      <td>...</td>\n",
              "      <td>0</td>\n",
              "      <td>0</td>\n",
              "      <td>0</td>\n",
              "      <td>0</td>\n",
              "      <td>0</td>\n",
              "      <td>0</td>\n",
              "      <td>0</td>\n",
              "      <td>0</td>\n",
              "      <td>0</td>\n",
              "      <td>0</td>\n",
              "    </tr>\n",
              "    <tr>\n",
              "      <th>3</th>\n",
              "      <td>0</td>\n",
              "      <td>0</td>\n",
              "      <td>0</td>\n",
              "      <td>0</td>\n",
              "      <td>0</td>\n",
              "      <td>0</td>\n",
              "      <td>0</td>\n",
              "      <td>0</td>\n",
              "      <td>0</td>\n",
              "      <td>0</td>\n",
              "      <td>...</td>\n",
              "      <td>0</td>\n",
              "      <td>0</td>\n",
              "      <td>0</td>\n",
              "      <td>0</td>\n",
              "      <td>0</td>\n",
              "      <td>0</td>\n",
              "      <td>0</td>\n",
              "      <td>0</td>\n",
              "      <td>0</td>\n",
              "      <td>0</td>\n",
              "    </tr>\n",
              "    <tr>\n",
              "      <th>4</th>\n",
              "      <td>0</td>\n",
              "      <td>0</td>\n",
              "      <td>0</td>\n",
              "      <td>0</td>\n",
              "      <td>0</td>\n",
              "      <td>0</td>\n",
              "      <td>0</td>\n",
              "      <td>0</td>\n",
              "      <td>0</td>\n",
              "      <td>0</td>\n",
              "      <td>...</td>\n",
              "      <td>0</td>\n",
              "      <td>0</td>\n",
              "      <td>0</td>\n",
              "      <td>0</td>\n",
              "      <td>0</td>\n",
              "      <td>0</td>\n",
              "      <td>0</td>\n",
              "      <td>0</td>\n",
              "      <td>0</td>\n",
              "      <td>0</td>\n",
              "    </tr>\n",
              "  </tbody>\n",
              "</table>\n",
              "<p>5 rows × 5191 columns</p>\n",
              "</div>"
            ],
            "text/plain": [
              "   aa  aau  ab  abide  ability  abilitydesire  able  abortion  abroad  \\\n",
              "0   0    0   0      0        0              0     0         0       0   \n",
              "1   0    0   0      0        0              0     0         0       0   \n",
              "2   0    0   0      0        0              0     0         0       0   \n",
              "3   0    0   0      0        0              0     0         0       0   \n",
              "4   0    0   0      0        0              0     0         0       0   \n",
              "\n",
              "   absolute  ...  zen  zero  zimmerman  zipcar  zivity  zombie  zone  zoo  \\\n",
              "0         0  ...    0     0          0       0       0       0     0    0   \n",
              "1         0  ...    0     0          0       0       0       0     0    0   \n",
              "2         0  ...    0     0          0       0       0       0     0    0   \n",
              "3         0  ...    0     0          0       0       0       0     0    0   \n",
              "4         0  ...    0     0          0       0       0       0     0    0   \n",
              "\n",
              "   zoology  zumba  \n",
              "0        0      0  \n",
              "1        0      0  \n",
              "2        0      0  \n",
              "3        0      0  \n",
              "4        0      0  \n",
              "\n",
              "[5 rows x 5191 columns]"
            ]
          },
          "execution_count": 12,
          "metadata": {},
          "output_type": "execute_result"
        }
      ],
      "source": [
        "df_currentLife_female.head()"
      ]
    },
    {
      "cell_type": "code",
      "execution_count": null,
      "metadata": {
        "id": "op-NVKp-MGfN"
      },
      "outputs": [],
      "source": [
        "# Look at top words with count vectorizer\n",
        "sum_words0 = data0.sum(axis=0)\n",
        "words_freq0 = [(word, sum_words0[0, idx]) for word, idx in cv.vocabulary_.items()]\n",
        "words_freq0 = sorted(words_freq0, key=lambda x: x[1], reverse=True)\n",
        "words_freq0"
      ]
    },
    {
      "cell_type": "markdown",
      "metadata": {
        "id": "laPZEr5m7Pn9"
      },
      "source": [
        "### TF-IDF VECTORIZER\n",
        "#### The selfSummary Column"
      ]
    },
    {
      "cell_type": "code",
      "execution_count": null,
      "metadata": {
        "id": "GEG8WRRk4rym"
      },
      "outputs": [],
      "source": [
        "# Create a document term matrix using TF-IDF vectorization\n",
        "# Might be good for classifying cities\n",
        "tfidf = TfidfVectorizer(analyzer='word', stop_words=stopwords_list)\n",
        "tf0 = tfidf.fit_transform(essay_df['selfSummary'])\n",
        "df_tf0 = pd.DataFrame(tf0.toarray(), columns=tfidf.get_feature_names())\n",
        "df_tf0.index = essay_df.index\n",
        "df_tf0"
      ]
    },
    {
      "cell_type": "code",
      "execution_count": null,
      "metadata": {
        "id": "uEW1FQq3TP4V"
      },
      "outputs": [],
      "source": [
        "# Transposing document term matrix\n",
        "\n",
        "df_tf0 = df_tf0.transpose()\n",
        "\n",
        "# Plotting word cloud for this column\n",
        "\n",
        "for index, wrd in enumerate(df_tf0.columns):\n",
        "    generate_wordcloud(df_tf0[wrd].sort_values(ascending=False), wrd)"
      ]
    },
    {
      "cell_type": "code",
      "execution_count": null,
      "metadata": {
        "id": "9TvJokC4TPu-"
      },
      "outputs": [],
      "source": [
        "# Look at top words with count vectorize\n",
        "\n",
        "sum_wrds0 = tf0.sum(axis=0)\n",
        "\n",
        "wrds_frq0 = [(word, sum_wrds0[0, idx]) for word, idx in cv.vocabulary_.items()]\n",
        "wrds_frq0 = sorted(wrds_frq0, key=lambda x: x[1], reverse=True)\n",
        "wrds_frq0"
      ]
    },
    {
      "cell_type": "markdown",
      "metadata": {
        "id": "at-zZksAGzV3"
      },
      "source": [
        "#### The currentLife Column"
      ]
    },
    {
      "cell_type": "code",
      "execution_count": null,
      "metadata": {
        "id": "e62ToJg84rt9"
      },
      "outputs": [],
      "source": [
        "# Create a document term matrix using TF-IDF vectorization\n",
        "# Might be good for classifying cities\n",
        "\n",
        "tf1 = tfidf.fit_transform(essay_df['currentLife'])\n",
        "df_tf1 = pd.DataFrame(tf1.toarray(), columns=tfidf.get_feature_names())\n",
        "df_tf1.index = essay_df.index\n",
        "df_tf1"
      ]
    },
    {
      "cell_type": "code",
      "execution_count": null,
      "metadata": {
        "id": "JTeMgKo5TQuu"
      },
      "outputs": [],
      "source": [
        "# Transposing document term matrix\n",
        "\n",
        "df_tf1 = df_tf1.transpose()\n",
        "\n",
        "# Plotting word cloud for this column\n",
        "\n",
        "for index, wrd in enumerate(df_tf1.columns):\n",
        "    generate_wordcloud(df_tf1[wrd].sort_values(ascending=False), wrd)"
      ]
    },
    {
      "cell_type": "code",
      "execution_count": null,
      "metadata": {
        "id": "VZ7FiSKkTQot"
      },
      "outputs": [],
      "source": [
        "# Look at top words with count vectorize\n",
        "\n",
        "sum_wrds1 = tf1.sum(axis=0)\n",
        "\n",
        "wrds_frq1 = [(word, sum_wrds1[0, idx]) for word, idx in cv.vocabulary_.items()]\n",
        "wrds_frq1 = sorted(wrds_frq1, key=lambda x: x[1], reverse=True)\n",
        "wrds_frq1"
      ]
    },
    {
      "cell_type": "markdown",
      "metadata": {
        "id": "IB0FvF83G-eV"
      },
      "source": [
        "#### The goodAt Column"
      ]
    },
    {
      "cell_type": "code",
      "execution_count": null,
      "metadata": {
        "id": "y_RkWoKf4rqY"
      },
      "outputs": [],
      "source": [
        "# Create a document term matrix using TF-IDF vectorization\n",
        "# Might be good for classifying cities\n",
        "\n",
        "tf2 = tfidf.fit_transform(essay_df['goodAt'])\n",
        "df_tf2 = pd.DataFrame(tf2.toarray(), columns=tfidf.get_feature_names())\n",
        "df_tf2.index = essay_df.index\n",
        "df_tf2"
      ]
    },
    {
      "cell_type": "code",
      "execution_count": null,
      "metadata": {
        "id": "5yPmgy-PTRm4"
      },
      "outputs": [],
      "source": [
        "# Transposing document term matrix\n",
        "\n",
        "df_tf2 = df_tf2.transpose()\n",
        "\n",
        "# Plotting word cloud for this column\n",
        "\n",
        "for index, wrd in enumerate(df_tf2.columns):\n",
        "    generate_wordcloud(df_tf2[wrd].sort_values(ascending=False), wrd)"
      ]
    },
    {
      "cell_type": "code",
      "execution_count": null,
      "metadata": {
        "id": "H51WKMhWTRfm"
      },
      "outputs": [],
      "source": [
        "# Look at top words with count vectorize\n",
        "\n",
        "sum_wrds2 = tf2.sum(axis=0)\n",
        "\n",
        "wrds_frq2 = [(word, sum_wrds2[0, idx]) for word, idx in cv.vocabulary_.items()]\n",
        "wrds_frq2 = sorted(wrds_frq2, key=lambda x: x[1], reverse=True)\n",
        "wrds_frq2"
      ]
    },
    {
      "cell_type": "markdown",
      "metadata": {
        "id": "HwvoUveCHDZV"
      },
      "source": [
        "#### The noticeFirst Column"
      ]
    },
    {
      "cell_type": "code",
      "execution_count": null,
      "metadata": {
        "id": "PANDapEi4rm8"
      },
      "outputs": [],
      "source": [
        "# Create a document term matrix using TF-IDF vectorization\n",
        "# Might be good for classifying cities\n",
        "\n",
        "tf3 = tfidf.fit_transform(essay_df['noticeFirst'])\n",
        "df_tf3 = pd.DataFrame(tf3.toarray(), columns=tfidf.get_feature_names())\n",
        "df_tf3.index = essay_df.index\n",
        "df_tf3"
      ]
    },
    {
      "cell_type": "code",
      "execution_count": null,
      "metadata": {
        "id": "KgZc_z4WTSYw"
      },
      "outputs": [],
      "source": [
        "# Transposing document term matrix\n",
        "\n",
        "df_tf3 = df_tf3.transpose()\n",
        "\n",
        "# Plotting word cloud for this column\n",
        "\n",
        "for index, wrd in enumerate(df_tf3.columns):\n",
        "    generate_wordcloud(df_tf3[wrd].sort_values(ascending=False), wrd)"
      ]
    },
    {
      "cell_type": "code",
      "execution_count": null,
      "metadata": {
        "id": "KGisM74WTSQO"
      },
      "outputs": [],
      "source": [
        "# Look at top words with count vectorize\n",
        "\n",
        "sum_wrds3 = tf3.sum(axis=0)\n",
        "\n",
        "wrds_frq3 = [(word, sum_wrds3[0, idx]) for word, idx in cv.vocabulary_.items()]\n",
        "wrds_frq3 = sorted(wrds_frq3, key=lambda x: x[1], reverse=True)\n",
        "wrds_frq3"
      ]
    },
    {
      "cell_type": "markdown",
      "metadata": {
        "id": "TxJmMkq6HNde"
      },
      "source": [
        "#### The Favourites Column"
      ]
    },
    {
      "cell_type": "code",
      "execution_count": null,
      "metadata": {
        "id": "Y03Mm5cg4rjE"
      },
      "outputs": [],
      "source": [
        "# Create a document term matrix using TF-IDF vectorization\n",
        "# Might be good for classifying cities\n",
        "\n",
        "tf4 = tfidf.fit_transform(essay_df['Favourites'])\n",
        "df_tf4 = pd.DataFrame(tf4.toarray(), columns=tfidf.get_feature_names())\n",
        "df_tf4.index = essay_df.index\n",
        "df_tf4"
      ]
    },
    {
      "cell_type": "code",
      "execution_count": null,
      "metadata": {
        "id": "mw30MorCTTUJ"
      },
      "outputs": [],
      "source": [
        "# Transposing document term matrix\n",
        "\n",
        "df_tf4 = df_tf4.transpose()\n",
        "\n",
        "# Plotting word cloud for this column\n",
        "\n",
        "for index, wrd in enumerate(df_tf4.columns):\n",
        "    generate_wordcloud(df_tf4[wrd].sort_values(ascending=False), wrd)"
      ]
    },
    {
      "cell_type": "code",
      "execution_count": null,
      "metadata": {
        "id": "111XiHnvTTM1"
      },
      "outputs": [],
      "source": [
        "# Look at top words with count vectorize\n",
        "\n",
        "sum_wrds4 = tf4.sum(axis=0)\n",
        "\n",
        "wrds_frq4 = [(word, sum_wrds4[0, idx]) for word, idx in cv.vocabulary_.items()]\n",
        "wrds_frq4 = sorted(wrds_frq4, key=lambda x: x[1], reverse=True)\n",
        "wrds_frq4"
      ]
    },
    {
      "cell_type": "markdown",
      "metadata": {
        "id": "TV3vXAzNHVTw"
      },
      "source": [
        "#### The preciousThings column"
      ]
    },
    {
      "cell_type": "code",
      "execution_count": null,
      "metadata": {
        "id": "NdYP1v934rfK"
      },
      "outputs": [],
      "source": [
        "# Create a document term matrix using TF-IDF vectorization\n",
        "# Might be good for classifying cities\n",
        "\n",
        "tf5 = tfidf.fit_transform(essay_df[ 'preciousThings'])\n",
        "df_tf5 = pd.DataFrame(tf5.toarray(), columns=tfidf.get_feature_names())\n",
        "df_tf5.index = essay_df.index\n",
        "df_tf5"
      ]
    },
    {
      "cell_type": "code",
      "execution_count": null,
      "metadata": {
        "id": "k0Q_P0MXTUWN"
      },
      "outputs": [],
      "source": [
        "# Transposing document term matrix\n",
        "\n",
        "df_tf5 = df_tf5.transpose()\n",
        "\n",
        "# Plotting word cloud for this column\n",
        "\n",
        "for index, wrd in enumerate(df_tf5.columns):\n",
        "    generate_wordcloud(df_tf5[wrd].sort_values(ascending=False), wrd)"
      ]
    },
    {
      "cell_type": "code",
      "execution_count": null,
      "metadata": {
        "id": "rnmFEfPCTUOM"
      },
      "outputs": [],
      "source": [
        "# Look at top words with count vectorize\n",
        "\n",
        "sum_wrds5 = tf5.sum(axis=0)\n",
        "\n",
        "wrds_frq5 = [(word, sum_wrds5[0, idx]) for word, idx in cv.vocabulary_.items()]\n",
        "wrds_frq5 = sorted(wrds_frq5, key=lambda x: x[1], reverse=True)\n",
        "wrds_frq5"
      ]
    },
    {
      "cell_type": "markdown",
      "metadata": {
        "id": "9O3nCnPlH23R"
      },
      "source": [
        "#### The thinkAbout Column"
      ]
    },
    {
      "cell_type": "code",
      "execution_count": null,
      "metadata": {
        "id": "tMnLAi8o4rbR"
      },
      "outputs": [],
      "source": [
        "# Create a document term matrix using TF-IDF vectorization\n",
        "# Might be good for classifying cities\n",
        "\n",
        "tf6 = tfidf.fit_transform(essay_df['thinkAbout'])\n",
        "df_tf6 = pd.DataFrame(tf6.toarray(), columns=tfidf.get_feature_names())\n",
        "df_tf6.index = essay_df.index\n",
        "df_tf6"
      ]
    },
    {
      "cell_type": "code",
      "execution_count": null,
      "metadata": {
        "id": "GI39nyb9TVGm"
      },
      "outputs": [],
      "source": [
        "# Transposing document term matrix\n",
        "\n",
        "df_tf6 = df_tf6.transpose()\n",
        "\n",
        "# Plotting word cloud for this column\n",
        "\n",
        "for index, wrd in enumerate(df_tf6.columns):\n",
        "    generate_wordcloud(df_tf6[wrd].sort_values(ascending=False), wrd)"
      ]
    },
    {
      "cell_type": "code",
      "execution_count": null,
      "metadata": {
        "id": "GICxVFvsTU_C"
      },
      "outputs": [],
      "source": [
        "# Look at top words with count vectorize\n",
        "\n",
        "sum_wrds6 = tf6.sum(axis=0)\n",
        "\n",
        "wrds_frq6 = [(word, sum_wrds6[0, idx]) for word, idx in cv.vocabulary_.items()]\n",
        "wrds_frq6 = sorted(wrds_frq6, key=lambda x: x[1], reverse=True)\n",
        "wrds_frq6"
      ]
    },
    {
      "cell_type": "markdown",
      "metadata": {
        "id": "iScblxGDHxnH"
      },
      "source": [
        "#### The typicalFriday Column"
      ]
    },
    {
      "cell_type": "code",
      "execution_count": null,
      "metadata": {
        "id": "6H8MlJ1t4rXJ"
      },
      "outputs": [],
      "source": [
        "# Create a document term matrix using TF-IDF vectorization\n",
        "# Might be good for classifying cities\n",
        "\n",
        "tf7 = tfidf.fit_transform(essay_df['typicalFriday'])\n",
        "df_tf7 = pd.DataFrame(tf7.toarray(), columns=tfidf.get_feature_names())\n",
        "df_tf7.index = essay_df.index\n",
        "df_tf7"
      ]
    },
    {
      "cell_type": "code",
      "execution_count": null,
      "metadata": {
        "id": "ifvNB330TV5L"
      },
      "outputs": [],
      "source": [
        "# Transposing document term matrix\n",
        "\n",
        "df_tf7 = df_tf7.transpose()\n",
        "\n",
        "# Plotting word cloud for this column\n",
        "\n",
        "for index, wrd in enumerate(df_tf7.columns):\n",
        "    generate_wordcloud(df_tf7[wrd].sort_values(ascending=False), wrd)"
      ]
    },
    {
      "cell_type": "code",
      "execution_count": null,
      "metadata": {
        "id": "o8SMRdCcTVwk"
      },
      "outputs": [],
      "source": [
        "# Look at top words with count vectorize\n",
        "\n",
        "sum_wrds7 = tf7.sum(axis=0)\n",
        "\n",
        "wrds_frq7 = [(word, sum_wrds7[0, idx]) for word, idx in cv.vocabulary_.items()]\n",
        "wrds_frq7 = sorted(wrds_frq7, key=lambda x: x[1], reverse=True)\n",
        "wrds_frq7"
      ]
    },
    {
      "cell_type": "markdown",
      "metadata": {
        "id": "cd3KGQzCHr1i"
      },
      "source": [
        "#### The privateAdmission Column"
      ]
    },
    {
      "cell_type": "code",
      "execution_count": null,
      "metadata": {
        "id": "MiP3XT0M4rPQ"
      },
      "outputs": [],
      "source": [
        "# Create a document term matrix using TF-IDF vectorization\n",
        "# Might be good for classifying cities\n",
        "\n",
        "tf8 = tfidf.fit_transform(essay_df['privateAdmission'])\n",
        "df_tf8 = pd.DataFrame(tf8.toarray(), columns=tfidf.get_feature_names())\n",
        "df_tf8.index = essay_df.index\n",
        "df_tf8"
      ]
    },
    {
      "cell_type": "code",
      "execution_count": null,
      "metadata": {
        "id": "AD5y-qw8TW2M"
      },
      "outputs": [],
      "source": [
        "# Transposing document term matrix\n",
        "\n",
        "df_tf8 = df_tf8.transpose()\n",
        "\n",
        "# Plotting word cloud for this column\n",
        "\n",
        "for index, wrd in enumerate(df_tf8.columns):\n",
        "    generate_wordcloud(df_tf8[wrd].sort_values(ascending=False), wrd)"
      ]
    },
    {
      "cell_type": "code",
      "execution_count": null,
      "metadata": {
        "id": "_F6WdmJITWuN"
      },
      "outputs": [],
      "source": [
        "# Look at top words with count vectorize\n",
        "\n",
        "sum_wrds8 = tf8.sum(axis=0)\n",
        "\n",
        "wrds_frq8 = [(word, sum_wrds8[0, idx]) for word, idx in cv.vocabulary_.items()]\n",
        "wrds_frq8 = sorted(wrds_frq8, key=lambda x: x[1], reverse=True)\n",
        "wrds_frq8"
      ]
    },
    {
      "cell_type": "markdown",
      "metadata": {
        "id": "QvNrwYiKGQfq"
      },
      "source": [
        "#### The messageIf Column"
      ]
    },
    {
      "cell_type": "code",
      "execution_count": null,
      "metadata": {
        "id": "YsX1ss5wEL9z"
      },
      "outputs": [],
      "source": [
        "# Create a document term matrix using TF-IDF vectorization\n",
        "# Might be good for classifying cities\n",
        "\n",
        "tf9 = tfidf.fit_transform(essay_df['messageIf'])\n",
        "df_tf9 = pd.DataFrame(tf9.toarray(), columns=tfidf.get_feature_names())\n",
        "df_tf9.index = essay_df.index\n",
        "df_tf9"
      ]
    },
    {
      "cell_type": "code",
      "execution_count": null,
      "metadata": {
        "id": "gepkTGhhTXv_"
      },
      "outputs": [],
      "source": [
        "# Transposing document term matrix\n",
        "\n",
        "df_tf9 = df_tf9.transpose()\n",
        "\n",
        "# Plotting word cloud for this column\n",
        "\n",
        "for index, wrd in enumerate(df_tf9.columns):\n",
        "    generate_wordcloud(df_tf9[wrd].sort_values(ascending=False), wrd)"
      ]
    },
    {
      "cell_type": "code",
      "execution_count": null,
      "metadata": {
        "id": "JhUv7-hwTXoi"
      },
      "outputs": [],
      "source": [
        "# Look at top words with count vectorize\n",
        "\n",
        "sum_wrds9 = tf9.sum(axis=0)\n",
        "\n",
        "wrds_frq9 = [(word, sum_wrds9[0, idx]) for word, idx in cv.vocabulary_.items()]\n",
        "wrds_frq9 = sorted(wrds_frq9, key=lambda x: x[1], reverse=True)\n",
        "wrds_frq9"
      ]
    },
    {
      "cell_type": "markdown",
      "metadata": {
        "id": "ALiQj2OR4qzy"
      },
      "source": [
        "### Wordclouds with Bi Gram\n",
        "#### The selfSummary Column"
      ]
    },
    {
      "cell_type": "code",
      "execution_count": null,
      "metadata": {
        "id": "eenqf59S75Er"
      },
      "outputs": [],
      "source": [
        "# use n_gram value of 3\n",
        "\n",
        "cv2 = CountVectorizer(analyzer='word', stop_words=stopwords_list, ngram_range=(3,3))\n",
        "\n",
        "b_grm0 = cv2.fit_transform(essay_df['selfSummary'])\n",
        "df_grm0 = pd.DataFrame(b_grm0.toarray(), columns=cv2.get_feature_names())\n",
        "df_grm0.index = essay_df.index\n",
        "df_grm0"
      ]
    },
    {
      "cell_type": "code",
      "execution_count": null,
      "metadata": {
        "id": "KKIKzyZ974o2"
      },
      "outputs": [],
      "source": [
        "# Transposing document term matrix\n",
        "df_grm0 = df_grm0.transpose()\n",
        "\n",
        "# Plotting word cloud for each gender\n",
        "for index, bgrm in enumerate(df_grm0.columns):\n",
        "    generate_wordcloud(df_grm0[bgrm].sort_values(ascending=False), bgrm)"
      ]
    },
    {
      "cell_type": "code",
      "execution_count": null,
      "metadata": {
        "id": "9dqk3zia74fJ"
      },
      "outputs": [],
      "source": [
        "# Look at top bi-grams (in total, not per city)\n",
        "sum_wds0 = b_grm0.sum(axis=0)\n",
        "wds_freq0 = [(word, sum_wds0[0, idx]) for word, idx in cv2.vocabulary_.items()]\n",
        "wds_freq0 = sorted(wds_freq0, key=lambda x: x[1], reverse=True)\n",
        "wds_freq0"
      ]
    },
    {
      "cell_type": "markdown",
      "metadata": {
        "id": "bNKDkFfX7wa7"
      },
      "source": [
        "#### The currentLife Column"
      ]
    },
    {
      "cell_type": "code",
      "execution_count": null,
      "metadata": {
        "id": "3E921a7V8VWv"
      },
      "outputs": [],
      "source": [
        "# use n_gram value of 3\n",
        "\n",
        "b_grm1 = cv2.fit_transform(essay_df['currentLife'])\n",
        "df_grm1 = pd.DataFrame(b_grm1.toarray(), columns=cv2.get_feature_names())\n",
        "df_grm1.index = essay_df.index\n",
        "df_grm1"
      ]
    },
    {
      "cell_type": "code",
      "execution_count": null,
      "metadata": {
        "id": "1n94RvrE8VN9"
      },
      "outputs": [],
      "source": [
        "# Transposing document term matrix\n",
        "df_grm1 = df_grm1.transpose()\n",
        "\n",
        "# Plotting word cloud for each gender\n",
        "for index, bgrm in enumerate(df_grm1.columns):\n",
        "    generate_wordcloud(df_grm1[bgrm].sort_values(ascending=False), bgrm)"
      ]
    },
    {
      "cell_type": "code",
      "execution_count": null,
      "metadata": {
        "id": "mLatkIZK8VEk"
      },
      "outputs": [],
      "source": [
        "# Look at top bi-grams (in total, not per city)\n",
        "sum_wds1 = b_grm1.sum(axis=0)\n",
        "wds_freq1 = [(word, sum_wds1[0, idx]) for word, idx in cv2.vocabulary_.items()]\n",
        "wds_freq1 = sorted(wds_freq1, key=lambda x: x[1], reverse=True)\n",
        "wds_freq1"
      ]
    },
    {
      "cell_type": "markdown",
      "metadata": {
        "id": "KrDcoDq67wUT"
      },
      "source": [
        "#### The goodAt Column"
      ]
    },
    {
      "cell_type": "code",
      "execution_count": null,
      "metadata": {
        "id": "ZF22Rhpx8WUM"
      },
      "outputs": [],
      "source": [
        "# use n_gram value of 3\n",
        "\n",
        "b_grm2 = cv2.fit_transform(essay_df['currentLife'])\n",
        "df_grm2 = pd.DataFrame(b_grm2.toarray(), columns=cv2.get_feature_names())\n",
        "df_grm2.index = essay_df.index\n",
        "df_grm2"
      ]
    },
    {
      "cell_type": "code",
      "execution_count": null,
      "metadata": {
        "id": "qjfHypTW8WLU"
      },
      "outputs": [],
      "source": [
        "# Transposing document term matrix\n",
        "df_grm2 = df_grm2.transpose()\n",
        "\n",
        "# Plotting word cloud for each gender\n",
        "for index, bgrm in enumerate(df_grm2.columns):\n",
        "    generate_wordcloud(df_grm2[bgrm].sort_values(ascending=False), bgrm)"
      ]
    },
    {
      "cell_type": "code",
      "execution_count": null,
      "metadata": {
        "id": "MeUIlW6y8WBB"
      },
      "outputs": [],
      "source": [
        "# Look at top bi-grams (in total, not per city)\n",
        "sum_wds2 = b_grm2.sum(axis=0)\n",
        "wds_freq2 = [(word, sum_wds2[0, idx]) for word, idx in cv2.vocabulary_.items()]\n",
        "wds_freq2 = sorted(wds_freq2, key=lambda x: x[1], reverse=True)\n",
        "wds_freq2"
      ]
    },
    {
      "cell_type": "markdown",
      "metadata": {
        "id": "Cvp4B_247wNC"
      },
      "source": [
        "#### The noticeFirst Column"
      ]
    },
    {
      "cell_type": "code",
      "execution_count": null,
      "metadata": {
        "id": "U2OVp3939Iz4"
      },
      "outputs": [],
      "source": [
        "# use n_gram value of 3\n",
        "\n",
        "b_grm3 = cv2.fit_transform(essay_df['noticeFirst'])\n",
        "df_grm3 = pd.DataFrame(b_grm3.toarray(), columns=cv2.get_feature_names())\n",
        "df_grm3.index = essay_df.index\n",
        "df_grm3"
      ]
    },
    {
      "cell_type": "code",
      "execution_count": null,
      "metadata": {
        "id": "K_Gnxgym9Iql"
      },
      "outputs": [],
      "source": [
        "# Transposing document term matrix\n",
        "df_grm3 = df_grm3.transpose()\n",
        "\n",
        "# Plotting word cloud for each gender\n",
        "for index, bgrm in enumerate(df_grm3.columns):\n",
        "    generate_wordcloud(df_grm3[bgrm].sort_values(ascending=False), bgrm)"
      ]
    },
    {
      "cell_type": "code",
      "execution_count": null,
      "metadata": {
        "id": "JO3LyxOy9IhD"
      },
      "outputs": [],
      "source": [
        "# Look at top bi-grams (in total, not per city)\n",
        "sum_wds3 = b_grm3.sum(axis=0)\n",
        "wds_freq3 = [(word, sum_wds3[0, idx]) for word, idx in cv2.vocabulary_.items()]\n",
        "wds_freq3 = sorted(wds_freq3, key=lambda x: x[1], reverse=True)\n",
        "wds_freq3"
      ]
    },
    {
      "cell_type": "markdown",
      "metadata": {
        "id": "gjm2ZXb97wGx"
      },
      "source": [
        "#### The Favourites Column"
      ]
    },
    {
      "cell_type": "code",
      "execution_count": null,
      "metadata": {
        "id": "3LQ5Dqhm9IK6"
      },
      "outputs": [],
      "source": [
        "# use n_gram value of 3\n",
        "\n",
        "b_grm4 = cv2.fit_transform(essay_df['Favourites'])\n",
        "df_grm4 = pd.DataFrame(b_grm4.toarray(), columns=cv2.get_feature_names())\n",
        "df_grm4.index = essay_df.index\n",
        "df_grm4"
      ]
    },
    {
      "cell_type": "code",
      "execution_count": null,
      "metadata": {
        "id": "Z34FRq0-9ICL"
      },
      "outputs": [],
      "source": [
        "# Transposing document term matrix\n",
        "df_grm4 = df_grm4.transpose()\n",
        "\n",
        "# Plotting word cloud for each gender\n",
        "for index, bgrm in enumerate(df_grm4.columns):\n",
        "    generate_wordcloud(df_grm4[bgrm].sort_values(ascending=False), bgrm)"
      ]
    },
    {
      "cell_type": "code",
      "execution_count": null,
      "metadata": {
        "id": "GlNweHWL9H4f"
      },
      "outputs": [],
      "source": [
        "# Look at top bi-grams (in total, not per city)\n",
        "sum_wds4 = b_grm4.sum(axis=0)\n",
        "wds_freq4 = [(word, sum_wds4[0, idx]) for word, idx in cv2.vocabulary_.items()]\n",
        "wds_freq4 = sorted(wds_freq4, key=lambda x: x[1], reverse=True)\n",
        "wds_freq4"
      ]
    },
    {
      "cell_type": "markdown",
      "metadata": {
        "id": "-x5YBEjK7v_4"
      },
      "source": [
        "#### The preciousThings Column"
      ]
    },
    {
      "cell_type": "code",
      "execution_count": null,
      "metadata": {
        "id": "uue2Zltl9G_t"
      },
      "outputs": [],
      "source": [
        "# use n_gram value of 3\n",
        "\n",
        "b_grm5 = cv2.fit_transform(essay_df['preciousThings'])\n",
        "df_grm5 = pd.DataFrame(b_grm5.toarray(), columns=cv2.get_feature_names())\n",
        "df_grm5.index = essay_df.index\n",
        "df_grm5"
      ]
    },
    {
      "cell_type": "code",
      "execution_count": null,
      "metadata": {
        "id": "Rw0bMkMx9G1_"
      },
      "outputs": [],
      "source": [
        "# Transposing document term matrix\n",
        "df_grm5 = df_grm5.transpose()\n",
        "\n",
        "# Plotting word cloud for each gender\n",
        "for index, bgrm in enumerate(df_grm5.columns):\n",
        "    generate_wordcloud(df_grm5[bgrm].sort_values(ascending=False), bgrm)"
      ]
    },
    {
      "cell_type": "code",
      "execution_count": null,
      "metadata": {
        "id": "DUz2si2T9GpZ"
      },
      "outputs": [],
      "source": [
        "# Look at top bi-grams (in total, not per city)\n",
        "sum_wds5 = b_grm5.sum(axis=0)\n",
        "wds_freq5 = [(word, sum_wds5[0, idx]) for word, idx in cv2.vocabulary_.items()]\n",
        "wds_freq5 = sorted(wds_freq5, key=lambda x: x[1], reverse=True)\n",
        "wds_freq5"
      ]
    },
    {
      "cell_type": "markdown",
      "metadata": {
        "id": "yHSBjxkF7v43"
      },
      "source": [
        "#### The thinkAbout Column"
      ]
    },
    {
      "cell_type": "code",
      "execution_count": null,
      "metadata": {
        "id": "vPxBSYAE9GKA"
      },
      "outputs": [],
      "source": [
        "# use n_gram value of 3\n",
        "\n",
        "b_grm6 = cv2.fit_transform(essay_df['thinkAbout'])\n",
        "df_grm6 = pd.DataFrame(b_grm6.toarray(), columns=cv2.get_feature_names())\n",
        "df_grm6.index = essay_df.index\n",
        "df_grm6"
      ]
    },
    {
      "cell_type": "code",
      "execution_count": null,
      "metadata": {
        "id": "_9mAiakz9GA4"
      },
      "outputs": [],
      "source": [
        "# Transposing document term matrix\n",
        "df_grm6 = df_grm6.transpose()\n",
        "\n",
        "# Plotting word cloud for each gender\n",
        "for index, bgrm in enumerate(df_grm6.columns):\n",
        "    generate_wordcloud(df_grm5[bgrm].sort_values(ascending=False), bgrm)"
      ]
    },
    {
      "cell_type": "code",
      "execution_count": null,
      "metadata": {
        "id": "Dm93mKEK9F27"
      },
      "outputs": [],
      "source": [
        "# Look at top bi-grams (in total, not per city)\n",
        "sum_wds6 = b_grm6.sum(axis=0)\n",
        "wds_freq6 = [(word, sum_wds6[0, idx]) for word, idx in cv2.vocabulary_.items()]\n",
        "wds_freq6 = sorted(wds_freq6, key=lambda x: x[1], reverse=True)\n",
        "wds_freq6"
      ]
    },
    {
      "cell_type": "markdown",
      "metadata": {
        "id": "C9ssKCDz7vyJ"
      },
      "source": [
        "#### The typicalFriday Column"
      ]
    },
    {
      "cell_type": "code",
      "execution_count": null,
      "metadata": {
        "id": "_SL5kQXw9FKp"
      },
      "outputs": [],
      "source": [
        "# use n_gram value of 3\n",
        "\n",
        "b_grm7 = cv2.fit_transform(essay_df['thinkAbout'])\n",
        "df_grm7 = pd.DataFrame(b_grm7.toarray(), columns=cv2.get_feature_names())\n",
        "df_grm7.index = essay_df.index\n",
        "df_grm7"
      ]
    },
    {
      "cell_type": "code",
      "execution_count": null,
      "metadata": {
        "id": "oVHz1woy9FBV"
      },
      "outputs": [],
      "source": [
        "# Transposing document term matrix\n",
        "df_grm7 = df_grm7.transpose()\n",
        "\n",
        "# Plotting word cloud for each gender\n",
        "for index, bgrm in enumerate(df_grm7.columns):\n",
        "    generate_wordcloud(df_grm7[bgrm].sort_values(ascending=False), bgrm)"
      ]
    },
    {
      "cell_type": "code",
      "execution_count": null,
      "metadata": {
        "id": "vfASshnf9E2r"
      },
      "outputs": [],
      "source": [
        "# Look at top bi-grams (in total, not per city)\n",
        "sum_wds7 = b_grm7.sum(axis=0)\n",
        "wds_freq7 = [(word, sum_wds7[0, idx]) for word, idx in cv2.vocabulary_.items()]\n",
        "wds_freq7 = sorted(wds_freq7, key=lambda x: x[1], reverse=True)\n",
        "wds_freq7"
      ]
    },
    {
      "cell_type": "markdown",
      "metadata": {
        "id": "SGCON9-O7vtX"
      },
      "source": [
        "#### The privateAdmission Column"
      ]
    },
    {
      "cell_type": "code",
      "execution_count": null,
      "metadata": {
        "id": "IqS4YDd99Edm"
      },
      "outputs": [],
      "source": [
        "# use n_gram value of 3\n",
        "\n",
        "b_grm8 = cv2.fit_transform(essay_df['thinkAbout'])\n",
        "df_grm8 = pd.DataFrame(b_grm8.toarray(), columns=cv2.get_feature_names())\n",
        "df_grm8.index = essay_df.index\n",
        "df_grm8"
      ]
    },
    {
      "cell_type": "code",
      "execution_count": null,
      "metadata": {
        "id": "dHF9U0Qh9EVC"
      },
      "outputs": [],
      "source": [
        "# Transposing document term matrix\n",
        "df_grm8 = df_grm8.transpose()\n",
        "\n",
        "# Plotting word cloud for each gender\n",
        "for index, bgrm in enumerate(df_grm8.columns):\n",
        "    generate_wordcloud(df_grm8[bgrm].sort_values(ascending=False), bgrm)"
      ]
    },
    {
      "cell_type": "code",
      "execution_count": null,
      "metadata": {
        "id": "LfXEgami9ELn"
      },
      "outputs": [],
      "source": [
        "# Look at top bi-grams (in total, not per city)\n",
        "sum_wds8 = b_grm8.sum(axis=0)\n",
        "wds_freq8 = [(word, sum_wds8[0, idx]) for word, idx in cv2.vocabulary_.items()]\n",
        "wds_freq8 = sorted(wds_freq8, key=lambda x: x[1], reverse=True)\n",
        "wds_freq8"
      ]
    },
    {
      "cell_type": "markdown",
      "metadata": {
        "id": "xL0hQ4Kn7vnR"
      },
      "source": [
        "#### The messageIf Column"
      ]
    },
    {
      "cell_type": "code",
      "execution_count": null,
      "metadata": {
        "id": "o9IMpelw9D3u"
      },
      "outputs": [],
      "source": [
        "# use n_gram value of 3\n",
        "\n",
        "b_grm9 = cv2.fit_transform(essay_df['thinkAbout'])\n",
        "df_grm9 = pd.DataFrame(b_grm9.toarray(), columns=cv2.get_feature_names())\n",
        "df_grm9.index = essay_df.index\n",
        "df_grm9"
      ]
    },
    {
      "cell_type": "code",
      "execution_count": null,
      "metadata": {
        "id": "OiQu-BHx9Du2"
      },
      "outputs": [],
      "source": [
        "# Transposing document term matrix\n",
        "df_grm9 = df_grm9.transpose()\n",
        "\n",
        "# Plotting word cloud for each gender\n",
        "for index, bgrm in enumerate(df_grm9.columns):\n",
        "    generate_wordcloud(df_grm7[bgrm].sort_values(ascending=False), bgrm)"
      ]
    },
    {
      "cell_type": "code",
      "execution_count": null,
      "metadata": {
        "id": "K-jkubHv9DnT"
      },
      "outputs": [],
      "source": [
        "# Look at top bi-grams (in total, not per city)\n",
        "sum_wds9 = b_grm9.sum(axis=0)\n",
        "wds_freq9 = [(word, sum_wds9[0, idx]) for word, idx in cv2.vocabulary_.items()]\n",
        "wds_freq9 = sorted(wds_freq9, key=lambda x: x[1], reverse=True)\n",
        "wds_freq9"
      ]
    },
    {
      "cell_type": "markdown",
      "metadata": {
        "id": "whupI5-97vg_"
      },
      "source": [
        "\n",
        "thinkAbout\n",
        "typicalFriday\n",
        "privateAdmission\n",
        "messageIf"
      ]
    },
    {
      "cell_type": "markdown",
      "metadata": {
        "id": "M5S7wbe1XaPj"
      },
      "source": [
        "### Most Frequent Words Visualizations\n",
        "Visualize most frequent words per essay column."
      ]
    },
    {
      "cell_type": "markdown",
      "metadata": {
        "id": "pMQ5BV3vz4ws"
      },
      "source": [
        "## 3.0 Modelling\n",
        "\n"
      ]
    },
    {
      "cell_type": "code",
      "execution_count": null,
      "metadata": {
        "id": "2bCvNAJmz9RE"
      },
      "outputs": [],
      "source": []
    },
    {
      "cell_type": "markdown",
      "metadata": {
        "id": "e2-qVaS7ZsNJ"
      },
      "source": []
    },
    {
      "cell_type": "code",
      "execution_count": null,
      "metadata": {
        "id": "2nFy-VdiZrgZ"
      },
      "outputs": [],
      "source": []
    }
  ],
  "metadata": {
    "accelerator": "GPU",
    "colab": {
      "collapsed_sections": [
        "cz26z2RaPBKp",
        "IXqWq0i1IlCk",
        "Y2FVTxzLKJSZ",
        "KMJMYWAXIekp",
        "GtFRbOfVH-k0",
        "XWQoS6mLIsB6",
        "yvsLM-0KIxDO",
        "LLt6FDd7I1yM",
        "zl78HaFbI5z8",
        "qDESOUYrJEh_",
        "PwtCgCbcI-Gl",
        "uRyYjO2YJKDC",
        "GLdFbsfHJTol",
        "G6KC-z3hDHsd",
        "ixPk9eTwHjfy",
        "qxfbCLw4z3Ul",
        "v6RiDv7E1nBg",
        "Z7Au6uoalcur",
        "UV-h4Dx3lmG3",
        "UJuzL3PCluvh",
        "UuHsx90Tm0Ge",
        "Y-o990J4XnTx",
        "aciCVKdXCkp3",
        "oi6PiUIODGB7",
        "b2F_zlUGDhwa",
        "_je05_iN-tf-",
        "7SHL0C-PGJ0j",
        "mD06d32RKHyX",
        "K9HsYTPoRjEi",
        "4AEMJQVZMfs9",
        "D0p_IW9TibeL",
        "9SOLHZ37Br0J",
        "lDN0i4i70QUO",
        "Xdnh9gfr7KFb",
        "u4ZCLYv07KvQ",
        "OGCnjXt67LSc",
        "o9L06tuV7MgI",
        "G_AXBxId7NTH",
        "VIc4T8_r7N38",
        "vxwSTYr47Og1",
        "muiieYxL7PFl",
        "laPZEr5m7Pn9",
        "at-zZksAGzV3",
        "IB0FvF83G-eV",
        "HwvoUveCHDZV",
        "TxJmMkq6HNde",
        "TV3vXAzNHVTw",
        "9O3nCnPlH23R",
        "iScblxGDHxnH",
        "cd3KGQzCHr1i",
        "QvNrwYiKGQfq",
        "ALiQj2OR4qzy",
        "bNKDkFfX7wa7",
        "KrDcoDq67wUT",
        "Cvp4B_247wNC",
        "gjm2ZXb97wGx",
        "-x5YBEjK7v_4",
        "yHSBjxkF7v43",
        "C9ssKCDz7vyJ",
        "SGCON9-O7vtX",
        "xL0hQ4Kn7vnR",
        "M5S7wbe1XaPj",
        "pMQ5BV3vz4ws"
      ],
      "provenance": [],
      "include_colab_link": true
    },
    "gpuClass": "standard",
    "kernelspec": {
      "display_name": "Python 3.10.4 64-bit",
      "language": "python",
      "name": "python3"
    },
    "language_info": {
      "codemirror_mode": {
        "name": "ipython",
        "version": 3
      },
      "file_extension": ".py",
      "mimetype": "text/x-python",
      "name": "python",
      "nbconvert_exporter": "python",
      "pygments_lexer": "ipython3",
      "version": "3.10.4"
    },
    "vscode": {
      "interpreter": {
        "hash": "916dbcbb3f70747c44a77c7bcd40155683ae19c65e1c03b4aa3499c5328201f1"
      }
    }
  },
  "nbformat": 4,
  "nbformat_minor": 0
}