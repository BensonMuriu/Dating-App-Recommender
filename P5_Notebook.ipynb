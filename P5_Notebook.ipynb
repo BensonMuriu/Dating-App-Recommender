{
  "nbformat": 4,
  "nbformat_minor": 0,
  "metadata": {
    "colab": {
      "provenance": [],
      "toc_visible": true,
      "include_colab_link": true
    },
    "kernelspec": {
      "name": "python3",
      "display_name": "Python 3"
    },
    "language_info": {
      "name": "python"
    },
    "gpuClass": "standard",
    "accelerator": "GPU"
  },
  "cells": [
    {
      "cell_type": "markdown",
      "metadata": {
        "id": "view-in-github",
        "colab_type": "text"
      },
      "source": [
        "<a href=\"https://colab.research.google.com/github/Elsiekiprop/Dating-App-Recommender/blob/main/P5_Notebook.ipynb\" target=\"_parent\"><img src=\"https://colab.research.google.com/assets/colab-badge.svg\" alt=\"Open In Colab\"/></a>"
      ]
    },
    {
      "cell_type": "markdown",
      "source": [
        "## Pata Mchumba Dating App Recommender\n",
        "\n",
        "### Group Members\n",
        "\n",
        "1. Fred Mutuma\n",
        "2. Elsie Kiprop\n",
        "3. Oscar Karuga\n",
        "4. Iain Mosima\n",
        "5. Peter Kigotho\n",
        "6. Benson Muriu\n",
        "\n",
        "\n",
        "## 1.1 Business Understanding.\n",
        "With the current generation embracing technology and its applications, many people have become accustomed to the idea of using dating apps. Therefore, Pata Mchumba,  a dating company, has approached us to create a recommendation system for their users to increase the effectiveness of matches based on their preferences. Moreover our recommender will focus mainly on emotional connection rather than physical appearance. \n",
        "\n",
        "## 1.2 Objectives\n",
        "### Main Objective:\n",
        "To build a dating app recommender system that successfully maximises the matches.\n",
        "### Specific Objectives\n",
        "- To get and outline major factors that make a great match.\n",
        "\n",
        "Answer the following questions:\n",
        "\n",
        "- Which has more importance? Physical attraction or Personality.\n",
        "\n",
        "- Which are the most common traits among users?\n",
        "\n",
        "- To create a simple user interface for demonstration\n",
        "\n",
        "## 1.3 Data Understanding\n",
        "Our data was sourced from [here](https://www.tandfonline.com/doi/abs/10.1080/10691898.2015.11889737). We considered the ethical concerns and no rights were infringed in the collection of this data as OKCupid provided this data for use by the public.\n",
        "The data contained 31 columns and 59964 columns.\n",
        "## 1.4 Metrics for success\n",
        "Our metric of success is Root Mean Squared Error (RMSE). We aim for a value that lies between 0.2 and 0.5 with a preference of the lowest value in this range for better accuracy of the model."
      ],
      "metadata": {
        "id": "WAijg6AD1TB4"
      }
    },
    {
      "cell_type": "markdown",
      "source": [
        "##1.5 Importing Libraries"
      ],
      "metadata": {
        "id": "ilcXfvor15sQ"
      }
    },
    {
      "cell_type": "code",
      "source": [
        "#Importing necessary libraries\n",
        "import pandas as pd\n",
        "import numpy as np\n",
        "\n",
        "\n",
        "try:\n",
        "  from tabulate import tabulate\n",
        "except:\n",
        "  !pip install tabulate\n",
        "  from tabulate import tabulate\n",
        "\n",
        "\n",
        "try:\n",
        "  from pandas_profiling import ProfileReport\n",
        "except:\n",
        "  !pip install pandas-profiling\n",
        "  from pandas_profiling import ProfileReport\n",
        "\n",
        "  \n",
        "\n",
        "from sklearn.preprocessing import LabelEncoder\n",
        "\n",
        "import matplotlib.pyplot as plt\n",
        "import seaborn as sns\n",
        "%matplotlib inline "
      ],
      "metadata": {
        "id": "XohsMnaFCzyg"
      },
      "execution_count": 103,
      "outputs": []
    },
    {
      "cell_type": "code",
      "source": [
        "#Mounting google drive\n",
        "from google.colab import drive\n",
        "drive.mount('/content/drive')"
      ],
      "metadata": {
        "colab": {
          "base_uri": "https://localhost:8080/"
        },
        "id": "DGMNgAJIDfOu",
        "outputId": "cd2f3b90-3882-4a7f-f768-b2f61d36cb4d"
      },
      "execution_count": 104,
      "outputs": [
        {
          "output_type": "stream",
          "name": "stdout",
          "text": [
            "Drive already mounted at /content/drive; to attempt to forcibly remount, call drive.mount(\"/content/drive\", force_remount=True).\n"
          ]
        }
      ]
    },
    {
      "cell_type": "markdown",
      "source": [
        "### 1.5.1 Reading the Data"
      ],
      "metadata": {
        "id": "E9AXqU1nBfxx"
      }
    },
    {
      "cell_type": "code",
      "source": [
        "\n",
        "#Importing dataset\n",
        "\n",
        "dating_df = pd.read_csv('/content/drive/MyDrive/okcupid_profiles.csv')"
      ],
      "metadata": {
        "id": "_Q0PodbODxzL"
      },
      "execution_count": 105,
      "outputs": []
    },
    {
      "cell_type": "code",
      "source": [
        "pd.set_option('display.max_columns',None)"
      ],
      "metadata": {
        "id": "0LYVLayife3w"
      },
      "execution_count": 106,
      "outputs": []
    },
    {
      "cell_type": "code",
      "source": [
        "#First 5 rows of the data set\n",
        "dating_df.head()"
      ],
      "metadata": {
        "colab": {
          "base_uri": "https://localhost:8080/",
          "height": 756
        },
        "id": "oiJFCByPE_fv",
        "outputId": "0d58f30a-814b-466f-a3e0-ed63e6b24553"
      },
      "execution_count": 107,
      "outputs": [
        {
          "output_type": "execute_result",
          "data": {
            "text/plain": [
              "   age     status sex orientation       body_type               diet  \\\n",
              "0   22     single   m    straight  a little extra  strictly anything   \n",
              "1   35     single   m    straight         average       mostly other   \n",
              "2   38  available   m    straight            thin           anything   \n",
              "3   23     single   m    straight            thin         vegetarian   \n",
              "4   29     single   m    straight        athletic                NaN   \n",
              "\n",
              "     drinks      drugs                          education  \\\n",
              "0  socially      never      working on college/university   \n",
              "1     often  sometimes              working on space camp   \n",
              "2  socially        NaN     graduated from masters program   \n",
              "3  socially        NaN      working on college/university   \n",
              "4  socially      never  graduated from college/university   \n",
              "\n",
              "             ethnicity  height  income                          job  \\\n",
              "0         asian, white    75.0      -1               transportation   \n",
              "1                white    70.0   80000         hospitality / travel   \n",
              "2                  NaN    68.0      -1                          NaN   \n",
              "3                white    71.0   20000                      student   \n",
              "4  asian, black, other    66.0      -1  artistic / musical / writer   \n",
              "\n",
              "        last_online                         location  \\\n",
              "0  2012-06-28-20-30  south san francisco, california   \n",
              "1  2012-06-29-21-41              oakland, california   \n",
              "2  2012-06-27-09-10        san francisco, california   \n",
              "3  2012-06-28-14-22             berkeley, california   \n",
              "4  2012-06-27-21-26        san francisco, california   \n",
              "\n",
              "                                offspring                       pets  \\\n",
              "0  doesn't have kids, but might want them  likes dogs and likes cats   \n",
              "1  doesn't have kids, but might want them  likes dogs and likes cats   \n",
              "2                                     NaN                   has cats   \n",
              "3                       doesn't want kids                 likes cats   \n",
              "4                                     NaN  likes dogs and likes cats   \n",
              "\n",
              "                                   religion  \\\n",
              "0     agnosticism and very serious about it   \n",
              "1  agnosticism but not too serious about it   \n",
              "2                                       NaN   \n",
              "3                                       NaN   \n",
              "4                                       NaN   \n",
              "\n",
              "                                 sign     smokes  \\\n",
              "0                              gemini  sometimes   \n",
              "1                              cancer         no   \n",
              "2  pisces but it doesn&rsquo;t matter         no   \n",
              "3                              pisces         no   \n",
              "4                            aquarius         no   \n",
              "\n",
              "                                              speaks  \\\n",
              "0                                            english   \n",
              "1  english (fluently), spanish (poorly), french (...   \n",
              "2                               english, french, c++   \n",
              "3                           english, german (poorly)   \n",
              "4                                            english   \n",
              "\n",
              "                                              essay0  \\\n",
              "0  about me:  i would love to think that i was so...   \n",
              "1  i am a chef: this is what that means. 1. i am ...   \n",
              "2  i'm not ashamed of much, but writing public te...   \n",
              "3          i work in a library and go to school. . .   \n",
              "4  hey how's it going? currently vague on the pro...   \n",
              "\n",
              "                                              essay1  \\\n",
              "0  currently working as an international agent fo...   \n",
              "1  dedicating everyday to being an unbelievable b...   \n",
              "2  i make nerdy software for musicians, artists, ...   \n",
              "3          reading things written by old dead people   \n",
              "4                         work work work work + play   \n",
              "\n",
              "                                              essay2  \\\n",
              "0  making people laugh. ranting about a good salt...   \n",
              "1  being silly. having ridiculous amonts of fun w...   \n",
              "2  improvising in different contexts. alternating...   \n",
              "3  playing synthesizers and organizing books acco...   \n",
              "4  creating imagery to look at: http://bagsbrown....   \n",
              "\n",
              "                                              essay3  \\\n",
              "0  the way i look. i am a six foot half asian, ha...   \n",
              "1                                                NaN   \n",
              "2  my large jaw and large glasses are the physica...   \n",
              "3                  socially awkward but i do my best   \n",
              "4            i smile a lot and my inquisitive nature   \n",
              "\n",
              "                                              essay4  \\\n",
              "0  books: absurdistan, the republic, of mice and ...   \n",
              "1  i am die hard christopher moore fan. i don't r...   \n",
              "2  okay this is where the cultural matrix gets so...   \n",
              "3  bataille, celine, beckett. . . lynch, jarmusch...   \n",
              "4  music: bands, rappers, musicians at the moment...   \n",
              "\n",
              "                                              essay5  \\\n",
              "0                  food. water. cell phone. shelter.   \n",
              "1  delicious porkness in all of its glories. my b...   \n",
              "2  movement conversation creation contemplation t...   \n",
              "3                                                NaN   \n",
              "4                                                NaN   \n",
              "\n",
              "                        essay6  \\\n",
              "0  duality and humorous things   \n",
              "1                          NaN   \n",
              "2                          NaN   \n",
              "3   cats and german philosophy   \n",
              "4                          NaN   \n",
              "\n",
              "                                              essay7  \\\n",
              "0  trying to find someone to hang out with. i am ...   \n",
              "1                                                NaN   \n",
              "2  viewing. listening. dancing. talking. drinking...   \n",
              "3                                                NaN   \n",
              "4                                                NaN   \n",
              "\n",
              "                                              essay8  \\\n",
              "0  i am new to california and looking for someone...   \n",
              "1  i am very open and will share just about anyth...   \n",
              "2  when i was five years old, i was known as \"the...   \n",
              "3                                                NaN   \n",
              "4                                                NaN   \n",
              "\n",
              "                                              essay9  \n",
              "0  you want to be swept off your feet! you are ti...  \n",
              "1                                                NaN  \n",
              "2  you are bright, open, intense, silly, ironic, ...  \n",
              "3                              you feel so inclined.  \n",
              "4                                                NaN  "
            ],
            "text/html": [
              "\n",
              "  <div id=\"df-acae5b2a-6a78-4eb2-9a56-b6c407418da5\">\n",
              "    <div class=\"colab-df-container\">\n",
              "      <div>\n",
              "<style scoped>\n",
              "    .dataframe tbody tr th:only-of-type {\n",
              "        vertical-align: middle;\n",
              "    }\n",
              "\n",
              "    .dataframe tbody tr th {\n",
              "        vertical-align: top;\n",
              "    }\n",
              "\n",
              "    .dataframe thead th {\n",
              "        text-align: right;\n",
              "    }\n",
              "</style>\n",
              "<table border=\"1\" class=\"dataframe\">\n",
              "  <thead>\n",
              "    <tr style=\"text-align: right;\">\n",
              "      <th></th>\n",
              "      <th>age</th>\n",
              "      <th>status</th>\n",
              "      <th>sex</th>\n",
              "      <th>orientation</th>\n",
              "      <th>body_type</th>\n",
              "      <th>diet</th>\n",
              "      <th>drinks</th>\n",
              "      <th>drugs</th>\n",
              "      <th>education</th>\n",
              "      <th>ethnicity</th>\n",
              "      <th>height</th>\n",
              "      <th>income</th>\n",
              "      <th>job</th>\n",
              "      <th>last_online</th>\n",
              "      <th>location</th>\n",
              "      <th>offspring</th>\n",
              "      <th>pets</th>\n",
              "      <th>religion</th>\n",
              "      <th>sign</th>\n",
              "      <th>smokes</th>\n",
              "      <th>speaks</th>\n",
              "      <th>essay0</th>\n",
              "      <th>essay1</th>\n",
              "      <th>essay2</th>\n",
              "      <th>essay3</th>\n",
              "      <th>essay4</th>\n",
              "      <th>essay5</th>\n",
              "      <th>essay6</th>\n",
              "      <th>essay7</th>\n",
              "      <th>essay8</th>\n",
              "      <th>essay9</th>\n",
              "    </tr>\n",
              "  </thead>\n",
              "  <tbody>\n",
              "    <tr>\n",
              "      <th>0</th>\n",
              "      <td>22</td>\n",
              "      <td>single</td>\n",
              "      <td>m</td>\n",
              "      <td>straight</td>\n",
              "      <td>a little extra</td>\n",
              "      <td>strictly anything</td>\n",
              "      <td>socially</td>\n",
              "      <td>never</td>\n",
              "      <td>working on college/university</td>\n",
              "      <td>asian, white</td>\n",
              "      <td>75.0</td>\n",
              "      <td>-1</td>\n",
              "      <td>transportation</td>\n",
              "      <td>2012-06-28-20-30</td>\n",
              "      <td>south san francisco, california</td>\n",
              "      <td>doesn't have kids, but might want them</td>\n",
              "      <td>likes dogs and likes cats</td>\n",
              "      <td>agnosticism and very serious about it</td>\n",
              "      <td>gemini</td>\n",
              "      <td>sometimes</td>\n",
              "      <td>english</td>\n",
              "      <td>about me:  i would love to think that i was so...</td>\n",
              "      <td>currently working as an international agent fo...</td>\n",
              "      <td>making people laugh. ranting about a good salt...</td>\n",
              "      <td>the way i look. i am a six foot half asian, ha...</td>\n",
              "      <td>books: absurdistan, the republic, of mice and ...</td>\n",
              "      <td>food. water. cell phone. shelter.</td>\n",
              "      <td>duality and humorous things</td>\n",
              "      <td>trying to find someone to hang out with. i am ...</td>\n",
              "      <td>i am new to california and looking for someone...</td>\n",
              "      <td>you want to be swept off your feet! you are ti...</td>\n",
              "    </tr>\n",
              "    <tr>\n",
              "      <th>1</th>\n",
              "      <td>35</td>\n",
              "      <td>single</td>\n",
              "      <td>m</td>\n",
              "      <td>straight</td>\n",
              "      <td>average</td>\n",
              "      <td>mostly other</td>\n",
              "      <td>often</td>\n",
              "      <td>sometimes</td>\n",
              "      <td>working on space camp</td>\n",
              "      <td>white</td>\n",
              "      <td>70.0</td>\n",
              "      <td>80000</td>\n",
              "      <td>hospitality / travel</td>\n",
              "      <td>2012-06-29-21-41</td>\n",
              "      <td>oakland, california</td>\n",
              "      <td>doesn't have kids, but might want them</td>\n",
              "      <td>likes dogs and likes cats</td>\n",
              "      <td>agnosticism but not too serious about it</td>\n",
              "      <td>cancer</td>\n",
              "      <td>no</td>\n",
              "      <td>english (fluently), spanish (poorly), french (...</td>\n",
              "      <td>i am a chef: this is what that means. 1. i am ...</td>\n",
              "      <td>dedicating everyday to being an unbelievable b...</td>\n",
              "      <td>being silly. having ridiculous amonts of fun w...</td>\n",
              "      <td>NaN</td>\n",
              "      <td>i am die hard christopher moore fan. i don't r...</td>\n",
              "      <td>delicious porkness in all of its glories. my b...</td>\n",
              "      <td>NaN</td>\n",
              "      <td>NaN</td>\n",
              "      <td>i am very open and will share just about anyth...</td>\n",
              "      <td>NaN</td>\n",
              "    </tr>\n",
              "    <tr>\n",
              "      <th>2</th>\n",
              "      <td>38</td>\n",
              "      <td>available</td>\n",
              "      <td>m</td>\n",
              "      <td>straight</td>\n",
              "      <td>thin</td>\n",
              "      <td>anything</td>\n",
              "      <td>socially</td>\n",
              "      <td>NaN</td>\n",
              "      <td>graduated from masters program</td>\n",
              "      <td>NaN</td>\n",
              "      <td>68.0</td>\n",
              "      <td>-1</td>\n",
              "      <td>NaN</td>\n",
              "      <td>2012-06-27-09-10</td>\n",
              "      <td>san francisco, california</td>\n",
              "      <td>NaN</td>\n",
              "      <td>has cats</td>\n",
              "      <td>NaN</td>\n",
              "      <td>pisces but it doesn&amp;rsquo;t matter</td>\n",
              "      <td>no</td>\n",
              "      <td>english, french, c++</td>\n",
              "      <td>i'm not ashamed of much, but writing public te...</td>\n",
              "      <td>i make nerdy software for musicians, artists, ...</td>\n",
              "      <td>improvising in different contexts. alternating...</td>\n",
              "      <td>my large jaw and large glasses are the physica...</td>\n",
              "      <td>okay this is where the cultural matrix gets so...</td>\n",
              "      <td>movement conversation creation contemplation t...</td>\n",
              "      <td>NaN</td>\n",
              "      <td>viewing. listening. dancing. talking. drinking...</td>\n",
              "      <td>when i was five years old, i was known as \"the...</td>\n",
              "      <td>you are bright, open, intense, silly, ironic, ...</td>\n",
              "    </tr>\n",
              "    <tr>\n",
              "      <th>3</th>\n",
              "      <td>23</td>\n",
              "      <td>single</td>\n",
              "      <td>m</td>\n",
              "      <td>straight</td>\n",
              "      <td>thin</td>\n",
              "      <td>vegetarian</td>\n",
              "      <td>socially</td>\n",
              "      <td>NaN</td>\n",
              "      <td>working on college/university</td>\n",
              "      <td>white</td>\n",
              "      <td>71.0</td>\n",
              "      <td>20000</td>\n",
              "      <td>student</td>\n",
              "      <td>2012-06-28-14-22</td>\n",
              "      <td>berkeley, california</td>\n",
              "      <td>doesn't want kids</td>\n",
              "      <td>likes cats</td>\n",
              "      <td>NaN</td>\n",
              "      <td>pisces</td>\n",
              "      <td>no</td>\n",
              "      <td>english, german (poorly)</td>\n",
              "      <td>i work in a library and go to school. . .</td>\n",
              "      <td>reading things written by old dead people</td>\n",
              "      <td>playing synthesizers and organizing books acco...</td>\n",
              "      <td>socially awkward but i do my best</td>\n",
              "      <td>bataille, celine, beckett. . . lynch, jarmusch...</td>\n",
              "      <td>NaN</td>\n",
              "      <td>cats and german philosophy</td>\n",
              "      <td>NaN</td>\n",
              "      <td>NaN</td>\n",
              "      <td>you feel so inclined.</td>\n",
              "    </tr>\n",
              "    <tr>\n",
              "      <th>4</th>\n",
              "      <td>29</td>\n",
              "      <td>single</td>\n",
              "      <td>m</td>\n",
              "      <td>straight</td>\n",
              "      <td>athletic</td>\n",
              "      <td>NaN</td>\n",
              "      <td>socially</td>\n",
              "      <td>never</td>\n",
              "      <td>graduated from college/university</td>\n",
              "      <td>asian, black, other</td>\n",
              "      <td>66.0</td>\n",
              "      <td>-1</td>\n",
              "      <td>artistic / musical / writer</td>\n",
              "      <td>2012-06-27-21-26</td>\n",
              "      <td>san francisco, california</td>\n",
              "      <td>NaN</td>\n",
              "      <td>likes dogs and likes cats</td>\n",
              "      <td>NaN</td>\n",
              "      <td>aquarius</td>\n",
              "      <td>no</td>\n",
              "      <td>english</td>\n",
              "      <td>hey how's it going? currently vague on the pro...</td>\n",
              "      <td>work work work work + play</td>\n",
              "      <td>creating imagery to look at: http://bagsbrown....</td>\n",
              "      <td>i smile a lot and my inquisitive nature</td>\n",
              "      <td>music: bands, rappers, musicians at the moment...</td>\n",
              "      <td>NaN</td>\n",
              "      <td>NaN</td>\n",
              "      <td>NaN</td>\n",
              "      <td>NaN</td>\n",
              "      <td>NaN</td>\n",
              "    </tr>\n",
              "  </tbody>\n",
              "</table>\n",
              "</div>\n",
              "      <button class=\"colab-df-convert\" onclick=\"convertToInteractive('df-acae5b2a-6a78-4eb2-9a56-b6c407418da5')\"\n",
              "              title=\"Convert this dataframe to an interactive table.\"\n",
              "              style=\"display:none;\">\n",
              "        \n",
              "  <svg xmlns=\"http://www.w3.org/2000/svg\" height=\"24px\"viewBox=\"0 0 24 24\"\n",
              "       width=\"24px\">\n",
              "    <path d=\"M0 0h24v24H0V0z\" fill=\"none\"/>\n",
              "    <path d=\"M18.56 5.44l.94 2.06.94-2.06 2.06-.94-2.06-.94-.94-2.06-.94 2.06-2.06.94zm-11 1L8.5 8.5l.94-2.06 2.06-.94-2.06-.94L8.5 2.5l-.94 2.06-2.06.94zm10 10l.94 2.06.94-2.06 2.06-.94-2.06-.94-.94-2.06-.94 2.06-2.06.94z\"/><path d=\"M17.41 7.96l-1.37-1.37c-.4-.4-.92-.59-1.43-.59-.52 0-1.04.2-1.43.59L10.3 9.45l-7.72 7.72c-.78.78-.78 2.05 0 2.83L4 21.41c.39.39.9.59 1.41.59.51 0 1.02-.2 1.41-.59l7.78-7.78 2.81-2.81c.8-.78.8-2.07 0-2.86zM5.41 20L4 18.59l7.72-7.72 1.47 1.35L5.41 20z\"/>\n",
              "  </svg>\n",
              "      </button>\n",
              "      \n",
              "  <style>\n",
              "    .colab-df-container {\n",
              "      display:flex;\n",
              "      flex-wrap:wrap;\n",
              "      gap: 12px;\n",
              "    }\n",
              "\n",
              "    .colab-df-convert {\n",
              "      background-color: #E8F0FE;\n",
              "      border: none;\n",
              "      border-radius: 50%;\n",
              "      cursor: pointer;\n",
              "      display: none;\n",
              "      fill: #1967D2;\n",
              "      height: 32px;\n",
              "      padding: 0 0 0 0;\n",
              "      width: 32px;\n",
              "    }\n",
              "\n",
              "    .colab-df-convert:hover {\n",
              "      background-color: #E2EBFA;\n",
              "      box-shadow: 0px 1px 2px rgba(60, 64, 67, 0.3), 0px 1px 3px 1px rgba(60, 64, 67, 0.15);\n",
              "      fill: #174EA6;\n",
              "    }\n",
              "\n",
              "    [theme=dark] .colab-df-convert {\n",
              "      background-color: #3B4455;\n",
              "      fill: #D2E3FC;\n",
              "    }\n",
              "\n",
              "    [theme=dark] .colab-df-convert:hover {\n",
              "      background-color: #434B5C;\n",
              "      box-shadow: 0px 1px 3px 1px rgba(0, 0, 0, 0.15);\n",
              "      filter: drop-shadow(0px 1px 2px rgba(0, 0, 0, 0.3));\n",
              "      fill: #FFFFFF;\n",
              "    }\n",
              "  </style>\n",
              "\n",
              "      <script>\n",
              "        const buttonEl =\n",
              "          document.querySelector('#df-acae5b2a-6a78-4eb2-9a56-b6c407418da5 button.colab-df-convert');\n",
              "        buttonEl.style.display =\n",
              "          google.colab.kernel.accessAllowed ? 'block' : 'none';\n",
              "\n",
              "        async function convertToInteractive(key) {\n",
              "          const element = document.querySelector('#df-acae5b2a-6a78-4eb2-9a56-b6c407418da5');\n",
              "          const dataTable =\n",
              "            await google.colab.kernel.invokeFunction('convertToInteractive',\n",
              "                                                     [key], {});\n",
              "          if (!dataTable) return;\n",
              "\n",
              "          const docLinkHtml = 'Like what you see? Visit the ' +\n",
              "            '<a target=\"_blank\" href=https://colab.research.google.com/notebooks/data_table.ipynb>data table notebook</a>'\n",
              "            + ' to learn more about interactive tables.';\n",
              "          element.innerHTML = '';\n",
              "          dataTable['output_type'] = 'display_data';\n",
              "          await google.colab.output.renderOutput(dataTable, element);\n",
              "          const docLink = document.createElement('div');\n",
              "          docLink.innerHTML = docLinkHtml;\n",
              "          element.appendChild(docLink);\n",
              "        }\n",
              "      </script>\n",
              "    </div>\n",
              "  </div>\n",
              "  "
            ]
          },
          "metadata": {},
          "execution_count": 107
        }
      ]
    },
    {
      "cell_type": "markdown",
      "source": [
        "###1.5.2 Checking the Data\n",
        "In this section we will check for the shape of the data, number of unique vales and the number of missing values per column."
      ],
      "metadata": {
        "id": "-qxoJ1jgCAyQ"
      }
    },
    {
      "cell_type": "code",
      "source": [
        "#Checking for the shape of the data\n",
        "print(\"Number of rows:\", dating_df.shape[0])\n",
        "print(\"Number of columns:\", dating_df.shape[1],'\\n')"
      ],
      "metadata": {
        "colab": {
          "base_uri": "https://localhost:8080/"
        },
        "id": "De1UM70uE2ew",
        "outputId": "07f4e3dd-f5a0-4cea-dc18-6ef3b1601cc4"
      },
      "execution_count": 108,
      "outputs": [
        {
          "output_type": "stream",
          "name": "stdout",
          "text": [
            "Number of rows: 59946\n",
            "Number of columns: 31 \n",
            "\n"
          ]
        }
      ]
    },
    {
      "cell_type": "markdown",
      "source": [
        "The dataset has 59946 rows and 31 columns"
      ],
      "metadata": {
        "id": "zlYsFAGrFKMj"
      }
    },
    {
      "cell_type": "code",
      "source": [
        "# Loop to check for missing values and unique values per column \n",
        "data_info = []\n",
        "for i, column in enumerate(dating_df.columns):\n",
        "    data_info.append([column, len(pd.unique(dating_df[column].values)), np.sum(pd.isnull(dating_df[column]))])\n",
        "\n",
        "print(tabulate(data_info, headers=['Feature','No of unique values', 'No of null values']),\"\\n\")   "
      ],
      "metadata": {
        "id": "DAlHpP8QGq2N",
        "outputId": "23688175-3f07-41c2-d902-7d08a2e9a76c",
        "colab": {
          "base_uri": "https://localhost:8080/"
        }
      },
      "execution_count": 109,
      "outputs": [
        {
          "output_type": "stream",
          "name": "stdout",
          "text": [
            "Feature        No of unique values    No of null values\n",
            "-----------  ---------------------  -------------------\n",
            "age                             54                    0\n",
            "status                           5                    0\n",
            "sex                              2                    0\n",
            "orientation                      3                    0\n",
            "body_type                       13                 5296\n",
            "diet                            19                24395\n",
            "drinks                           7                 2985\n",
            "drugs                            4                14080\n",
            "education                       33                 6628\n",
            "ethnicity                      218                 5680\n",
            "height                          61                    3\n",
            "income                          13                    0\n",
            "job                             22                 8198\n",
            "last_online                  30123                    0\n",
            "location                       199                    0\n",
            "offspring                       16                35561\n",
            "pets                            16                19921\n",
            "religion                        46                20226\n",
            "sign                            49                11056\n",
            "smokes                           6                 5512\n",
            "speaks                        7648                   50\n",
            "essay0                       54348                 5488\n",
            "essay1                       51517                 7572\n",
            "essay2                       48626                 9638\n",
            "essay3                       43521                11476\n",
            "essay4                       49258                10537\n",
            "essay5                       48962                10850\n",
            "essay6                       43584                13771\n",
            "essay7                       45549                12451\n",
            "essay8                       39324                19225\n",
            "essay9                       45441                12603 \n",
            "\n"
          ]
        }
      ]
    },
    {
      "cell_type": "markdown",
      "source": [
        "The table above shows missing values per column and unique values per column. A number of columns have quite a huge number of missing values that we will deal with eventually in the notebook."
      ],
      "metadata": {
        "id": "_pZqnyDALEXB"
      }
    },
    {
      "cell_type": "markdown",
      "source": [
        "##1.6 Data Cleaning\n",
        "In this section we will clean our data. This includes dealing with missing values. Natuaral Language processing will also be done to aid in cleaning text data in the essays columns."
      ],
      "metadata": {
        "id": "cz26z2RaPBKp"
      }
    },
    {
      "cell_type": "markdown",
      "source": [
        "###1.6.1 Checking null values percentage"
      ],
      "metadata": {
        "id": "IXqWq0i1IlCk"
      }
    },
    {
      "cell_type": "code",
      "source": [
        "dating_df.isna().sum()/len(dating_df)*100"
      ],
      "metadata": {
        "id": "w0ypZmkYPIag",
        "outputId": "3d5af787-ac00-41a1-bf14-f266a3052afb",
        "colab": {
          "base_uri": "https://localhost:8080/"
        }
      },
      "execution_count": 110,
      "outputs": [
        {
          "output_type": "execute_result",
          "data": {
            "text/plain": [
              "age             0.000000\n",
              "status          0.000000\n",
              "sex             0.000000\n",
              "orientation     0.000000\n",
              "body_type       8.834618\n",
              "diet           40.694959\n",
              "drinks          4.979482\n",
              "drugs          23.487806\n",
              "education      11.056618\n",
              "ethnicity       9.475194\n",
              "height          0.005005\n",
              "income          0.000000\n",
              "job            13.675641\n",
              "last_online     0.000000\n",
              "location        0.000000\n",
              "offspring      59.321723\n",
              "pets           33.231575\n",
              "religion       33.740366\n",
              "sign           18.443266\n",
              "smokes          9.194942\n",
              "speaks          0.083408\n",
              "essay0          9.154906\n",
              "essay1         12.631368\n",
              "essay2         16.077803\n",
              "essay3         19.143896\n",
              "essay4         17.577486\n",
              "essay5         18.099623\n",
              "essay6         22.972342\n",
              "essay7         20.770360\n",
              "essay8         32.070530\n",
              "essay9         21.023922\n",
              "dtype: float64"
            ]
          },
          "metadata": {},
          "execution_count": 110
        }
      ]
    },
    {
      "cell_type": "markdown",
      "source": [
        "Most of our columns seem to have the problem of missing data and that will be addressed in these subsequent cells. The `offspring` column is see to have the highest number of missing values at 59.3%."
      ],
      "metadata": {
        "id": "h1OuQVB_6bO0"
      }
    },
    {
      "cell_type": "markdown",
      "source": [
        "###1.6.2 Checking datatypes"
      ],
      "metadata": {
        "id": "Y2FVTxzLKJSZ"
      }
    },
    {
      "cell_type": "code",
      "source": [
        "#Checking the data type for each column\n",
        "dating_df.info()"
      ],
      "metadata": {
        "colab": {
          "base_uri": "https://localhost:8080/"
        },
        "id": "lXvjUkz_KLrl",
        "outputId": "479f0191-f825-4a88-e61b-4aa7c7faf562"
      },
      "execution_count": 111,
      "outputs": [
        {
          "output_type": "stream",
          "name": "stdout",
          "text": [
            "<class 'pandas.core.frame.DataFrame'>\n",
            "RangeIndex: 59946 entries, 0 to 59945\n",
            "Data columns (total 31 columns):\n",
            " #   Column       Non-Null Count  Dtype  \n",
            "---  ------       --------------  -----  \n",
            " 0   age          59946 non-null  int64  \n",
            " 1   status       59946 non-null  object \n",
            " 2   sex          59946 non-null  object \n",
            " 3   orientation  59946 non-null  object \n",
            " 4   body_type    54650 non-null  object \n",
            " 5   diet         35551 non-null  object \n",
            " 6   drinks       56961 non-null  object \n",
            " 7   drugs        45866 non-null  object \n",
            " 8   education    53318 non-null  object \n",
            " 9   ethnicity    54266 non-null  object \n",
            " 10  height       59943 non-null  float64\n",
            " 11  income       59946 non-null  int64  \n",
            " 12  job          51748 non-null  object \n",
            " 13  last_online  59946 non-null  object \n",
            " 14  location     59946 non-null  object \n",
            " 15  offspring    24385 non-null  object \n",
            " 16  pets         40025 non-null  object \n",
            " 17  religion     39720 non-null  object \n",
            " 18  sign         48890 non-null  object \n",
            " 19  smokes       54434 non-null  object \n",
            " 20  speaks       59896 non-null  object \n",
            " 21  essay0       54458 non-null  object \n",
            " 22  essay1       52374 non-null  object \n",
            " 23  essay2       50308 non-null  object \n",
            " 24  essay3       48470 non-null  object \n",
            " 25  essay4       49409 non-null  object \n",
            " 26  essay5       49096 non-null  object \n",
            " 27  essay6       46175 non-null  object \n",
            " 28  essay7       47495 non-null  object \n",
            " 29  essay8       40721 non-null  object \n",
            " 30  essay9       47343 non-null  object \n",
            "dtypes: float64(1), int64(2), object(28)\n",
            "memory usage: 14.2+ MB\n"
          ]
        }
      ]
    },
    {
      "cell_type": "code",
      "source": [
        "# checking for abnormality in the numerical columns\n",
        "dating_df.describe().T"
      ],
      "metadata": {
        "colab": {
          "base_uri": "https://localhost:8080/",
          "height": 143
        },
        "id": "u6K44YJxU4R-",
        "outputId": "83007b72-495c-4e43-9886-d84de4b1c8ca"
      },
      "execution_count": 112,
      "outputs": [
        {
          "output_type": "execute_result",
          "data": {
            "text/plain": [
              "          count          mean           std   min   25%   50%   75%        max\n",
              "age     59946.0     32.340290      9.452779  18.0  26.0  30.0  37.0      110.0\n",
              "height  59943.0     68.295281      3.994803   1.0  66.0  68.0  71.0       95.0\n",
              "income  59946.0  20033.222534  97346.192104  -1.0  -1.0  -1.0  -1.0  1000000.0"
            ],
            "text/html": [
              "\n",
              "  <div id=\"df-fbb3496d-89cb-49e6-8500-031371f2c7a5\">\n",
              "    <div class=\"colab-df-container\">\n",
              "      <div>\n",
              "<style scoped>\n",
              "    .dataframe tbody tr th:only-of-type {\n",
              "        vertical-align: middle;\n",
              "    }\n",
              "\n",
              "    .dataframe tbody tr th {\n",
              "        vertical-align: top;\n",
              "    }\n",
              "\n",
              "    .dataframe thead th {\n",
              "        text-align: right;\n",
              "    }\n",
              "</style>\n",
              "<table border=\"1\" class=\"dataframe\">\n",
              "  <thead>\n",
              "    <tr style=\"text-align: right;\">\n",
              "      <th></th>\n",
              "      <th>count</th>\n",
              "      <th>mean</th>\n",
              "      <th>std</th>\n",
              "      <th>min</th>\n",
              "      <th>25%</th>\n",
              "      <th>50%</th>\n",
              "      <th>75%</th>\n",
              "      <th>max</th>\n",
              "    </tr>\n",
              "  </thead>\n",
              "  <tbody>\n",
              "    <tr>\n",
              "      <th>age</th>\n",
              "      <td>59946.0</td>\n",
              "      <td>32.340290</td>\n",
              "      <td>9.452779</td>\n",
              "      <td>18.0</td>\n",
              "      <td>26.0</td>\n",
              "      <td>30.0</td>\n",
              "      <td>37.0</td>\n",
              "      <td>110.0</td>\n",
              "    </tr>\n",
              "    <tr>\n",
              "      <th>height</th>\n",
              "      <td>59943.0</td>\n",
              "      <td>68.295281</td>\n",
              "      <td>3.994803</td>\n",
              "      <td>1.0</td>\n",
              "      <td>66.0</td>\n",
              "      <td>68.0</td>\n",
              "      <td>71.0</td>\n",
              "      <td>95.0</td>\n",
              "    </tr>\n",
              "    <tr>\n",
              "      <th>income</th>\n",
              "      <td>59946.0</td>\n",
              "      <td>20033.222534</td>\n",
              "      <td>97346.192104</td>\n",
              "      <td>-1.0</td>\n",
              "      <td>-1.0</td>\n",
              "      <td>-1.0</td>\n",
              "      <td>-1.0</td>\n",
              "      <td>1000000.0</td>\n",
              "    </tr>\n",
              "  </tbody>\n",
              "</table>\n",
              "</div>\n",
              "      <button class=\"colab-df-convert\" onclick=\"convertToInteractive('df-fbb3496d-89cb-49e6-8500-031371f2c7a5')\"\n",
              "              title=\"Convert this dataframe to an interactive table.\"\n",
              "              style=\"display:none;\">\n",
              "        \n",
              "  <svg xmlns=\"http://www.w3.org/2000/svg\" height=\"24px\"viewBox=\"0 0 24 24\"\n",
              "       width=\"24px\">\n",
              "    <path d=\"M0 0h24v24H0V0z\" fill=\"none\"/>\n",
              "    <path d=\"M18.56 5.44l.94 2.06.94-2.06 2.06-.94-2.06-.94-.94-2.06-.94 2.06-2.06.94zm-11 1L8.5 8.5l.94-2.06 2.06-.94-2.06-.94L8.5 2.5l-.94 2.06-2.06.94zm10 10l.94 2.06.94-2.06 2.06-.94-2.06-.94-.94-2.06-.94 2.06-2.06.94z\"/><path d=\"M17.41 7.96l-1.37-1.37c-.4-.4-.92-.59-1.43-.59-.52 0-1.04.2-1.43.59L10.3 9.45l-7.72 7.72c-.78.78-.78 2.05 0 2.83L4 21.41c.39.39.9.59 1.41.59.51 0 1.02-.2 1.41-.59l7.78-7.78 2.81-2.81c.8-.78.8-2.07 0-2.86zM5.41 20L4 18.59l7.72-7.72 1.47 1.35L5.41 20z\"/>\n",
              "  </svg>\n",
              "      </button>\n",
              "      \n",
              "  <style>\n",
              "    .colab-df-container {\n",
              "      display:flex;\n",
              "      flex-wrap:wrap;\n",
              "      gap: 12px;\n",
              "    }\n",
              "\n",
              "    .colab-df-convert {\n",
              "      background-color: #E8F0FE;\n",
              "      border: none;\n",
              "      border-radius: 50%;\n",
              "      cursor: pointer;\n",
              "      display: none;\n",
              "      fill: #1967D2;\n",
              "      height: 32px;\n",
              "      padding: 0 0 0 0;\n",
              "      width: 32px;\n",
              "    }\n",
              "\n",
              "    .colab-df-convert:hover {\n",
              "      background-color: #E2EBFA;\n",
              "      box-shadow: 0px 1px 2px rgba(60, 64, 67, 0.3), 0px 1px 3px 1px rgba(60, 64, 67, 0.15);\n",
              "      fill: #174EA6;\n",
              "    }\n",
              "\n",
              "    [theme=dark] .colab-df-convert {\n",
              "      background-color: #3B4455;\n",
              "      fill: #D2E3FC;\n",
              "    }\n",
              "\n",
              "    [theme=dark] .colab-df-convert:hover {\n",
              "      background-color: #434B5C;\n",
              "      box-shadow: 0px 1px 3px 1px rgba(0, 0, 0, 0.15);\n",
              "      filter: drop-shadow(0px 1px 2px rgba(0, 0, 0, 0.3));\n",
              "      fill: #FFFFFF;\n",
              "    }\n",
              "  </style>\n",
              "\n",
              "      <script>\n",
              "        const buttonEl =\n",
              "          document.querySelector('#df-fbb3496d-89cb-49e6-8500-031371f2c7a5 button.colab-df-convert');\n",
              "        buttonEl.style.display =\n",
              "          google.colab.kernel.accessAllowed ? 'block' : 'none';\n",
              "\n",
              "        async function convertToInteractive(key) {\n",
              "          const element = document.querySelector('#df-fbb3496d-89cb-49e6-8500-031371f2c7a5');\n",
              "          const dataTable =\n",
              "            await google.colab.kernel.invokeFunction('convertToInteractive',\n",
              "                                                     [key], {});\n",
              "          if (!dataTable) return;\n",
              "\n",
              "          const docLinkHtml = 'Like what you see? Visit the ' +\n",
              "            '<a target=\"_blank\" href=https://colab.research.google.com/notebooks/data_table.ipynb>data table notebook</a>'\n",
              "            + ' to learn more about interactive tables.';\n",
              "          element.innerHTML = '';\n",
              "          dataTable['output_type'] = 'display_data';\n",
              "          await google.colab.output.renderOutput(dataTable, element);\n",
              "          const docLink = document.createElement('div');\n",
              "          docLink.innerHTML = docLinkHtml;\n",
              "          element.appendChild(docLink);\n",
              "        }\n",
              "      </script>\n",
              "    </div>\n",
              "  </div>\n",
              "  "
            ]
          },
          "metadata": {},
          "execution_count": 112
        }
      ]
    },
    {
      "cell_type": "markdown",
      "source": [
        "###1.6.2 The Body Type Column"
      ],
      "metadata": {
        "id": "KMJMYWAXIekp"
      }
    },
    {
      "cell_type": "code",
      "source": [
        "#check value count of body type\n",
        "dating_df['body_type'].value_counts()"
      ],
      "metadata": {
        "id": "BRJDZQiGRQUk",
        "outputId": "b41dbdf2-ccea-4a1f-ef13-1c728e01cb29",
        "colab": {
          "base_uri": "https://localhost:8080/"
        }
      },
      "execution_count": 113,
      "outputs": [
        {
          "output_type": "execute_result",
          "data": {
            "text/plain": [
              "average           14652\n",
              "fit               12711\n",
              "athletic          11819\n",
              "thin               4711\n",
              "curvy              3924\n",
              "a little extra     2629\n",
              "skinny             1777\n",
              "full figured       1009\n",
              "overweight          444\n",
              "jacked              421\n",
              "used up             355\n",
              "rather not say      198\n",
              "Name: body_type, dtype: int64"
            ]
          },
          "metadata": {},
          "execution_count": 113
        }
      ]
    },
    {
      "cell_type": "markdown",
      "source": [
        "For this column we will fill the missing values using with `unspecified` since a user may have skipped the section to fill in information on their body type."
      ],
      "metadata": {
        "id": "AElz29fN6sjY"
      }
    },
    {
      "cell_type": "code",
      "source": [
        "#Replacing the missing values with unspecified.\n",
        "dating_df['body_type'].fillna('Unspecified',inplace=True)"
      ],
      "metadata": {
        "id": "TpUX-j5HRSlr"
      },
      "execution_count": 114,
      "outputs": []
    },
    {
      "cell_type": "code",
      "source": [
        "#check value count of diet\n",
        "dating_df['diet'].value_counts()"
      ],
      "metadata": {
        "id": "x_u9CPffRopl",
        "outputId": "86bc9dec-968e-47c5-9738-087abeba303f",
        "colab": {
          "base_uri": "https://localhost:8080/"
        }
      },
      "execution_count": 115,
      "outputs": [
        {
          "output_type": "execute_result",
          "data": {
            "text/plain": [
              "mostly anything        16585\n",
              "anything                6183\n",
              "strictly anything       5113\n",
              "mostly vegetarian       3444\n",
              "mostly other            1007\n",
              "strictly vegetarian      875\n",
              "vegetarian               667\n",
              "strictly other           452\n",
              "mostly vegan             338\n",
              "other                    331\n",
              "strictly vegan           228\n",
              "vegan                    136\n",
              "mostly kosher             86\n",
              "mostly halal              48\n",
              "strictly halal            18\n",
              "strictly kosher           18\n",
              "halal                     11\n",
              "kosher                    11\n",
              "Name: diet, dtype: int64"
            ]
          },
          "metadata": {},
          "execution_count": 115
        }
      ]
    },
    {
      "cell_type": "markdown",
      "source": [
        "###1.6.3 The Diet Column\n"
      ],
      "metadata": {
        "id": "GtFRbOfVH-k0"
      }
    },
    {
      "cell_type": "markdown",
      "source": [
        "For this column we noticed that some of the option are similar therefore we will replace similar classes with the same class. "
      ],
      "metadata": {
        "id": "85l_uZ2r7Kac"
      }
    },
    {
      "cell_type": "code",
      "source": [
        "dating_df['diet'] = dating_df['diet'].replace(['mostly anything','strictly anything'],'anything')\n",
        "dating_df['diet'] = dating_df['diet'].replace(['mostly vegetarian','strictly vegetarian','mostly vegan','strictly vegan','vegan'],'vegetarian')\n",
        "dating_df['diet'] = dating_df['diet'].replace(['mostly halal','strictly halal'],'halal')\n",
        "dating_df['diet'] = dating_df['diet'].replace(['mostly kosher','strictly kosher'],'kosher')\n",
        "dating_df['diet'] = dating_df['diet'].replace(['mostly other','strictly other'],'other')\n",
        "\n",
        "dating_df['diet'].fillna('Unspecified',inplace=True)"
      ],
      "metadata": {
        "id": "mz33CazBVq_7"
      },
      "execution_count": 116,
      "outputs": []
    },
    {
      "cell_type": "markdown",
      "source": [
        "###1.6.4 The Drinks Column"
      ],
      "metadata": {
        "id": "XWQoS6mLIsB6"
      }
    },
    {
      "cell_type": "markdown",
      "source": [
        "The missing values in the drinks column will be replaced with unspecified since some users may choose not to disclose that information."
      ],
      "metadata": {
        "id": "uQ8vaZ5w7eCN"
      }
    },
    {
      "cell_type": "code",
      "source": [
        "#check value count of drinks\n",
        "dating_df['drinks'].value_counts()"
      ],
      "metadata": {
        "id": "lHGZlA-5U-3X",
        "outputId": "325ef776-97a7-4f86-a61f-9f661908f1aa",
        "colab": {
          "base_uri": "https://localhost:8080/"
        }
      },
      "execution_count": 117,
      "outputs": [
        {
          "output_type": "execute_result",
          "data": {
            "text/plain": [
              "socially       41780\n",
              "rarely          5957\n",
              "often           5164\n",
              "not at all      3267\n",
              "very often       471\n",
              "desperately      322\n",
              "Name: drinks, dtype: int64"
            ]
          },
          "metadata": {},
          "execution_count": 117
        }
      ]
    },
    {
      "cell_type": "code",
      "source": [
        "dating_df['drinks'].fillna('Unspecified',inplace=True)"
      ],
      "metadata": {
        "id": "im7WptdxY7rt"
      },
      "execution_count": 118,
      "outputs": []
    },
    {
      "cell_type": "markdown",
      "source": [
        "###1.6.5 The Drugs Column\n",
        "Similar to the drinks column we will replace the null values with unspecified as some users chose not to put that information public."
      ],
      "metadata": {
        "id": "yvsLM-0KIxDO"
      }
    },
    {
      "cell_type": "code",
      "source": [
        "#check value count of drinks\n",
        "dating_df['drugs'].value_counts()"
      ],
      "metadata": {
        "id": "T0m2dOJDcC0y",
        "outputId": "df7947a1-ca39-48de-8aae-cd08cafe0921",
        "colab": {
          "base_uri": "https://localhost:8080/"
        }
      },
      "execution_count": 119,
      "outputs": [
        {
          "output_type": "execute_result",
          "data": {
            "text/plain": [
              "never        37724\n",
              "sometimes     7732\n",
              "often          410\n",
              "Name: drugs, dtype: int64"
            ]
          },
          "metadata": {},
          "execution_count": 119
        }
      ]
    },
    {
      "cell_type": "code",
      "source": [
        "#Replacing the null values with unspecified.\n",
        "dating_df['drugs'].fillna('Unspecified',inplace=True)"
      ],
      "metadata": {
        "id": "7_SRza5dcAKv"
      },
      "execution_count": 120,
      "outputs": []
    },
    {
      "cell_type": "markdown",
      "source": [
        "###1.6.6 The Education Column"
      ],
      "metadata": {
        "id": "LLt6FDd7I1yM"
      }
    },
    {
      "cell_type": "code",
      "source": [
        "dating_df['education'].value_counts()"
      ],
      "metadata": {
        "id": "TFMkAmZNcOTb",
        "outputId": "3291af4f-5419-4a48-ca18-10de7c469cfb",
        "colab": {
          "base_uri": "https://localhost:8080/"
        }
      },
      "execution_count": 121,
      "outputs": [
        {
          "output_type": "execute_result",
          "data": {
            "text/plain": [
              "graduated from college/university    23959\n",
              "graduated from masters program        8961\n",
              "working on college/university         5712\n",
              "working on masters program            1683\n",
              "graduated from two-year college       1531\n",
              "graduated from high school            1428\n",
              "graduated from ph.d program           1272\n",
              "graduated from law school             1122\n",
              "working on two-year college           1074\n",
              "dropped out of college/university      995\n",
              "working on ph.d program                983\n",
              "college/university                     801\n",
              "graduated from space camp              657\n",
              "dropped out of space camp              523\n",
              "graduated from med school              446\n",
              "working on space camp                  445\n",
              "working on law school                  269\n",
              "two-year college                       222\n",
              "working on med school                  212\n",
              "dropped out of two-year college        191\n",
              "dropped out of masters program         140\n",
              "masters program                        136\n",
              "dropped out of ph.d program            127\n",
              "dropped out of high school             102\n",
              "high school                             96\n",
              "working on high school                  87\n",
              "space camp                              58\n",
              "ph.d program                            26\n",
              "law school                              19\n",
              "dropped out of law school               18\n",
              "dropped out of med school               12\n",
              "med school                              11\n",
              "Name: education, dtype: int64"
            ]
          },
          "metadata": {},
          "execution_count": 121
        }
      ]
    },
    {
      "cell_type": "code",
      "source": [
        "#Replacing the null values with unspecified because one may have not provided that information.\n",
        "dating_df['education'].fillna('Unspecified',inplace=True)"
      ],
      "metadata": {
        "id": "gpOmQRGzcYyq"
      },
      "execution_count": 122,
      "outputs": []
    },
    {
      "cell_type": "markdown",
      "source": [
        "###1.6.7 The Ethnicity Column"
      ],
      "metadata": {
        "id": "zl78HaFbI5z8"
      }
    },
    {
      "cell_type": "code",
      "source": [
        "dating_df['ethnicity'].value_counts()"
      ],
      "metadata": {
        "id": "m-_ZRMMTc0OR",
        "outputId": "c43b0c0c-4b8a-4ddf-9c5b-7d2615c12cbe",
        "colab": {
          "base_uri": "https://localhost:8080/"
        }
      },
      "execution_count": 123,
      "outputs": [
        {
          "output_type": "execute_result",
          "data": {
            "text/plain": [
              "white                                                                 32831\n",
              "asian                                                                  6134\n",
              "hispanic / latin                                                       2823\n",
              "black                                                                  2008\n",
              "other                                                                  1706\n",
              "                                                                      ...  \n",
              "middle eastern, indian, white                                             1\n",
              "asian, middle eastern, black, white, other                                1\n",
              "asian, middle eastern, indian, hispanic / latin, white, other             1\n",
              "black, native american, indian, pacific islander, hispanic / latin        1\n",
              "asian, black, indian                                                      1\n",
              "Name: ethnicity, Length: 217, dtype: int64"
            ]
          },
          "metadata": {},
          "execution_count": 123
        }
      ]
    },
    {
      "cell_type": "code",
      "source": [
        "dating_df['ethnicity'].fillna('Unspecified',inplace=True)"
      ],
      "metadata": {
        "id": "YGYlrR9Nc8ir"
      },
      "execution_count": 124,
      "outputs": []
    },
    {
      "cell_type": "markdown",
      "source": [
        "###1.6.7 The Height Column"
      ],
      "metadata": {
        "id": "qDESOUYrJEh_"
      }
    },
    {
      "cell_type": "code",
      "source": [
        "#dating_df['height'].value_counts()"
      ],
      "metadata": {
        "id": "JeRmzkNtezXk"
      },
      "execution_count": 125,
      "outputs": []
    },
    {
      "cell_type": "code",
      "source": [
        "# dropping null values in height \n",
        "# since there are only 0.005% are missing \n",
        "\n",
        "dating_df.dropna( subset=['height'],inplace=True)"
      ],
      "metadata": {
        "id": "ti_O7MkTdS4-"
      },
      "execution_count": 126,
      "outputs": []
    },
    {
      "cell_type": "markdown",
      "source": [
        "###1.6.8 The Job Column"
      ],
      "metadata": {
        "id": "PwtCgCbcI-Gl"
      }
    },
    {
      "cell_type": "code",
      "source": [
        "dating_df['job'].value_counts()"
      ],
      "metadata": {
        "id": "RD3uJp5hg79u",
        "outputId": "5700a805-21ef-4e5b-ebfe-e53f29cadee0",
        "colab": {
          "base_uri": "https://localhost:8080/"
        }
      },
      "execution_count": 127,
      "outputs": [
        {
          "output_type": "execute_result",
          "data": {
            "text/plain": [
              "other                                7589\n",
              "student                              4882\n",
              "science / tech / engineering         4848\n",
              "computer / hardware / software       4709\n",
              "artistic / musical / writer          4438\n",
              "sales / marketing / biz dev          4391\n",
              "medicine / health                    3680\n",
              "education / academia                 3513\n",
              "executive / management               2373\n",
              "banking / financial / real estate    2266\n",
              "entertainment / media                2250\n",
              "law / legal services                 1381\n",
              "hospitality / travel                 1364\n",
              "construction / craftsmanship         1021\n",
              "clerical / administrative             805\n",
              "political / government                708\n",
              "rather not say                        436\n",
              "transportation                        366\n",
              "unemployed                            273\n",
              "retired                               250\n",
              "military                              204\n",
              "Name: job, dtype: int64"
            ]
          },
          "metadata": {},
          "execution_count": 127
        }
      ]
    },
    {
      "cell_type": "code",
      "source": [
        "#Filling the null values with unspecified.\n",
        "dating_df['job'].fillna('Unspecified',inplace=True)"
      ],
      "metadata": {
        "id": "QAId-uihhM8V"
      },
      "execution_count": 128,
      "outputs": []
    },
    {
      "cell_type": "markdown",
      "source": [
        "###1.6.9 The Offspring Column"
      ],
      "metadata": {
        "id": "uRyYjO2YJKDC"
      }
    },
    {
      "cell_type": "code",
      "source": [
        "#Checking the number of each unique value in the offsprings column\n",
        "dating_df['offspring'].value_counts()"
      ],
      "metadata": {
        "id": "sS4bC8SsSeiC",
        "outputId": "2215fce7-b59c-4adc-e354-558a270bb929",
        "colab": {
          "base_uri": "https://localhost:8080/"
        }
      },
      "execution_count": 129,
      "outputs": [
        {
          "output_type": "execute_result",
          "data": {
            "text/plain": [
              "doesn't have kids                          7559\n",
              "doesn't have kids, but might want them     3875\n",
              "doesn't have kids, but wants them          3565\n",
              "doesn't want kids                          2927\n",
              "has kids                                   1883\n",
              "has a kid                                  1881\n",
              "doesn't have kids, and doesn't want any    1132\n",
              "has kids, but doesn't want more             442\n",
              "has a kid, but doesn't want more            275\n",
              "has a kid, and might want more              231\n",
              "wants kids                                  225\n",
              "might want kids                             182\n",
              "has kids, and might want more               115\n",
              "has a kid, and wants more                    71\n",
              "has kids, and wants more                     21\n",
              "Name: offspring, dtype: int64"
            ]
          },
          "metadata": {},
          "execution_count": 129
        }
      ]
    },
    {
      "cell_type": "code",
      "source": [
        "#Replacing the null values with unspecified\n",
        "dating_df['offspring'].fillna('Unspecified',inplace=True)"
      ],
      "metadata": {
        "id": "N2AEh2j9jwwX"
      },
      "execution_count": 130,
      "outputs": []
    },
    {
      "cell_type": "markdown",
      "source": [
        "###1.6.10 The Religion Column"
      ],
      "metadata": {
        "id": "GLdFbsfHJTol"
      }
    },
    {
      "cell_type": "code",
      "source": [
        "#Checking number of each unique value in the the religion column\n",
        "dating_df['religion'].value_counts()"
      ],
      "metadata": {
        "id": "ujiH0sWHkzAX",
        "outputId": "be27f4ce-62b8-4b40-ce7e-81e41e79c0b3",
        "colab": {
          "base_uri": "https://localhost:8080/"
        }
      },
      "execution_count": 131,
      "outputs": [
        {
          "output_type": "execute_result",
          "data": {
            "text/plain": [
              "agnosticism                                   2724\n",
              "other                                         2691\n",
              "agnosticism but not too serious about it      2636\n",
              "agnosticism and laughing about it             2496\n",
              "catholicism but not too serious about it      2318\n",
              "atheism                                       2175\n",
              "other and laughing about it                   2119\n",
              "atheism and laughing about it                 2074\n",
              "christianity                                  1957\n",
              "christianity but not too serious about it     1952\n",
              "other but not too serious about it            1554\n",
              "judaism but not too serious about it          1517\n",
              "atheism but not too serious about it          1318\n",
              "catholicism                                   1064\n",
              "christianity and somewhat serious about it     927\n",
              "atheism and somewhat serious about it          848\n",
              "other and somewhat serious about it            846\n",
              "catholicism and laughing about it              726\n",
              "judaism and laughing about it                  681\n",
              "buddhism but not too serious about it          650\n",
              "agnosticism and somewhat serious about it      642\n",
              "judaism                                        612\n",
              "christianity and very serious about it         578\n",
              "atheism and very serious about it              570\n",
              "catholicism and somewhat serious about it      548\n",
              "other and very serious about it                533\n",
              "buddhism and laughing about it                 466\n",
              "buddhism                                       403\n",
              "christianity and laughing about it             373\n",
              "buddhism and somewhat serious about it         359\n",
              "agnosticism and very serious about it          314\n",
              "judaism and somewhat serious about it          266\n",
              "hinduism but not too serious about it          227\n",
              "hinduism                                       107\n",
              "catholicism and very serious about it          102\n",
              "buddhism and very serious about it              70\n",
              "hinduism and somewhat serious about it          58\n",
              "islam                                           48\n",
              "hinduism and laughing about it                  44\n",
              "islam but not too serious about it              40\n",
              "judaism and very serious about it               22\n",
              "islam and somewhat serious about it             22\n",
              "islam and laughing about it                     16\n",
              "hinduism and very serious about it              14\n",
              "islam and very serious about it                 13\n",
              "Name: religion, dtype: int64"
            ]
          },
          "metadata": {},
          "execution_count": 131
        }
      ]
    },
    {
      "cell_type": "markdown",
      "source": [
        "#### Creating a religion serious column\n",
        "This section deals with replacing the null values in the religion column with `unspecified` and classifying the religions into those who are serious and those who arent serious with religion. Those that are serious will be under class 1. Those that arent serious will be represented with 0 and those who have not discoled their religion will be represented by 2"
      ],
      "metadata": {
        "id": "G6KC-z3hDHsd"
      }
    },
    {
      "cell_type": "code",
      "source": [
        "#Replacing null values with unspecified\n",
        "dating_df['religion'].fillna('Unspecified',inplace=True)"
      ],
      "metadata": {
        "id": "n46uR_e6G9-w"
      },
      "execution_count": 132,
      "outputs": []
    },
    {
      "cell_type": "code",
      "source": [
        "def religion_serious(value):\n",
        "   # checking if a user is serious with his/her religion\n",
        "    if value.__contains__('not') or value.__contains__('laughing'):\n",
        "        return 0\n",
        "    elif value.__contains__('Unspecified'):\n",
        "        return 2\n",
        "        \n",
        "    return 1"
      ],
      "metadata": {
        "id": "YW49684iETDp"
      },
      "execution_count": 133,
      "outputs": []
    },
    {
      "cell_type": "code",
      "source": [
        "dating_df['religionSerious'] = dating_df.religion.copy().astype(str).apply(lambda x: religion_serious(x))\n",
        "dating_df['religionSerious'].value_counts()"
      ],
      "metadata": {
        "colab": {
          "base_uri": "https://localhost:8080/"
        },
        "id": "hJIMUjNBDHUr",
        "outputId": "30be09df-f7d2-445e-ff1f-3a6096f5ced1"
      },
      "execution_count": 134,
      "outputs": [
        {
          "output_type": "execute_result",
          "data": {
            "text/plain": [
              "0    21207\n",
              "2    20223\n",
              "1    18513\n",
              "Name: religionSerious, dtype: int64"
            ]
          },
          "metadata": {},
          "execution_count": 134
        }
      ]
    },
    {
      "cell_type": "code",
      "source": [
        "# checking if the religion_serious function worked\n",
        "dating_df[['religionSerious','religion']].sample(30)"
      ],
      "metadata": {
        "colab": {
          "base_uri": "https://localhost:8080/",
          "height": 0
        },
        "id": "1LCpqQaxGFrF",
        "outputId": "3df6f9e1-71a9-4764-d53d-7e29ca239e17"
      },
      "execution_count": 135,
      "outputs": [
        {
          "output_type": "execute_result",
          "data": {
            "text/plain": [
              "       religionSerious                                   religion\n",
              "57349                2                                Unspecified\n",
              "31206                0   catholicism but not too serious about it\n",
              "38643                2                                Unspecified\n",
              "43108                1                                    atheism\n",
              "57935                0          agnosticism and laughing about it\n",
              "15365                0       judaism but not too serious about it\n",
              "26913                1                                agnosticism\n",
              "42499                2                                Unspecified\n",
              "33614                2                                Unspecified\n",
              "10111                1     buddhism and somewhat serious about it\n",
              "51684                2                                Unspecified\n",
              "3064                 2                                Unspecified\n",
              "44921                0   catholicism but not too serious about it\n",
              "44642                2                                Unspecified\n",
              "56898                1  agnosticism and somewhat serious about it\n",
              "14267                0         other but not too serious about it\n",
              "38369                0          catholicism and laughing about it\n",
              "31299                2                                Unspecified\n",
              "56752                1                                catholicism\n",
              "41536                1          atheism and very serious about it\n",
              "43751                1                                catholicism\n",
              "8247                 0       judaism but not too serious about it\n",
              "36129                2                                Unspecified\n",
              "37603                0   catholicism but not too serious about it\n",
              "3632                 1                                agnosticism\n",
              "11181                2                                Unspecified\n",
              "3129                 0      buddhism but not too serious about it\n",
              "35152                2                                Unspecified\n",
              "15487                2                                Unspecified\n",
              "8373                 2                                Unspecified"
            ],
            "text/html": [
              "\n",
              "  <div id=\"df-4b8ede13-e7e3-4530-978a-1cd31a483b1f\">\n",
              "    <div class=\"colab-df-container\">\n",
              "      <div>\n",
              "<style scoped>\n",
              "    .dataframe tbody tr th:only-of-type {\n",
              "        vertical-align: middle;\n",
              "    }\n",
              "\n",
              "    .dataframe tbody tr th {\n",
              "        vertical-align: top;\n",
              "    }\n",
              "\n",
              "    .dataframe thead th {\n",
              "        text-align: right;\n",
              "    }\n",
              "</style>\n",
              "<table border=\"1\" class=\"dataframe\">\n",
              "  <thead>\n",
              "    <tr style=\"text-align: right;\">\n",
              "      <th></th>\n",
              "      <th>religionSerious</th>\n",
              "      <th>religion</th>\n",
              "    </tr>\n",
              "  </thead>\n",
              "  <tbody>\n",
              "    <tr>\n",
              "      <th>57349</th>\n",
              "      <td>2</td>\n",
              "      <td>Unspecified</td>\n",
              "    </tr>\n",
              "    <tr>\n",
              "      <th>31206</th>\n",
              "      <td>0</td>\n",
              "      <td>catholicism but not too serious about it</td>\n",
              "    </tr>\n",
              "    <tr>\n",
              "      <th>38643</th>\n",
              "      <td>2</td>\n",
              "      <td>Unspecified</td>\n",
              "    </tr>\n",
              "    <tr>\n",
              "      <th>43108</th>\n",
              "      <td>1</td>\n",
              "      <td>atheism</td>\n",
              "    </tr>\n",
              "    <tr>\n",
              "      <th>57935</th>\n",
              "      <td>0</td>\n",
              "      <td>agnosticism and laughing about it</td>\n",
              "    </tr>\n",
              "    <tr>\n",
              "      <th>15365</th>\n",
              "      <td>0</td>\n",
              "      <td>judaism but not too serious about it</td>\n",
              "    </tr>\n",
              "    <tr>\n",
              "      <th>26913</th>\n",
              "      <td>1</td>\n",
              "      <td>agnosticism</td>\n",
              "    </tr>\n",
              "    <tr>\n",
              "      <th>42499</th>\n",
              "      <td>2</td>\n",
              "      <td>Unspecified</td>\n",
              "    </tr>\n",
              "    <tr>\n",
              "      <th>33614</th>\n",
              "      <td>2</td>\n",
              "      <td>Unspecified</td>\n",
              "    </tr>\n",
              "    <tr>\n",
              "      <th>10111</th>\n",
              "      <td>1</td>\n",
              "      <td>buddhism and somewhat serious about it</td>\n",
              "    </tr>\n",
              "    <tr>\n",
              "      <th>51684</th>\n",
              "      <td>2</td>\n",
              "      <td>Unspecified</td>\n",
              "    </tr>\n",
              "    <tr>\n",
              "      <th>3064</th>\n",
              "      <td>2</td>\n",
              "      <td>Unspecified</td>\n",
              "    </tr>\n",
              "    <tr>\n",
              "      <th>44921</th>\n",
              "      <td>0</td>\n",
              "      <td>catholicism but not too serious about it</td>\n",
              "    </tr>\n",
              "    <tr>\n",
              "      <th>44642</th>\n",
              "      <td>2</td>\n",
              "      <td>Unspecified</td>\n",
              "    </tr>\n",
              "    <tr>\n",
              "      <th>56898</th>\n",
              "      <td>1</td>\n",
              "      <td>agnosticism and somewhat serious about it</td>\n",
              "    </tr>\n",
              "    <tr>\n",
              "      <th>14267</th>\n",
              "      <td>0</td>\n",
              "      <td>other but not too serious about it</td>\n",
              "    </tr>\n",
              "    <tr>\n",
              "      <th>38369</th>\n",
              "      <td>0</td>\n",
              "      <td>catholicism and laughing about it</td>\n",
              "    </tr>\n",
              "    <tr>\n",
              "      <th>31299</th>\n",
              "      <td>2</td>\n",
              "      <td>Unspecified</td>\n",
              "    </tr>\n",
              "    <tr>\n",
              "      <th>56752</th>\n",
              "      <td>1</td>\n",
              "      <td>catholicism</td>\n",
              "    </tr>\n",
              "    <tr>\n",
              "      <th>41536</th>\n",
              "      <td>1</td>\n",
              "      <td>atheism and very serious about it</td>\n",
              "    </tr>\n",
              "    <tr>\n",
              "      <th>43751</th>\n",
              "      <td>1</td>\n",
              "      <td>catholicism</td>\n",
              "    </tr>\n",
              "    <tr>\n",
              "      <th>8247</th>\n",
              "      <td>0</td>\n",
              "      <td>judaism but not too serious about it</td>\n",
              "    </tr>\n",
              "    <tr>\n",
              "      <th>36129</th>\n",
              "      <td>2</td>\n",
              "      <td>Unspecified</td>\n",
              "    </tr>\n",
              "    <tr>\n",
              "      <th>37603</th>\n",
              "      <td>0</td>\n",
              "      <td>catholicism but not too serious about it</td>\n",
              "    </tr>\n",
              "    <tr>\n",
              "      <th>3632</th>\n",
              "      <td>1</td>\n",
              "      <td>agnosticism</td>\n",
              "    </tr>\n",
              "    <tr>\n",
              "      <th>11181</th>\n",
              "      <td>2</td>\n",
              "      <td>Unspecified</td>\n",
              "    </tr>\n",
              "    <tr>\n",
              "      <th>3129</th>\n",
              "      <td>0</td>\n",
              "      <td>buddhism but not too serious about it</td>\n",
              "    </tr>\n",
              "    <tr>\n",
              "      <th>35152</th>\n",
              "      <td>2</td>\n",
              "      <td>Unspecified</td>\n",
              "    </tr>\n",
              "    <tr>\n",
              "      <th>15487</th>\n",
              "      <td>2</td>\n",
              "      <td>Unspecified</td>\n",
              "    </tr>\n",
              "    <tr>\n",
              "      <th>8373</th>\n",
              "      <td>2</td>\n",
              "      <td>Unspecified</td>\n",
              "    </tr>\n",
              "  </tbody>\n",
              "</table>\n",
              "</div>\n",
              "      <button class=\"colab-df-convert\" onclick=\"convertToInteractive('df-4b8ede13-e7e3-4530-978a-1cd31a483b1f')\"\n",
              "              title=\"Convert this dataframe to an interactive table.\"\n",
              "              style=\"display:none;\">\n",
              "        \n",
              "  <svg xmlns=\"http://www.w3.org/2000/svg\" height=\"24px\"viewBox=\"0 0 24 24\"\n",
              "       width=\"24px\">\n",
              "    <path d=\"M0 0h24v24H0V0z\" fill=\"none\"/>\n",
              "    <path d=\"M18.56 5.44l.94 2.06.94-2.06 2.06-.94-2.06-.94-.94-2.06-.94 2.06-2.06.94zm-11 1L8.5 8.5l.94-2.06 2.06-.94-2.06-.94L8.5 2.5l-.94 2.06-2.06.94zm10 10l.94 2.06.94-2.06 2.06-.94-2.06-.94-.94-2.06-.94 2.06-2.06.94z\"/><path d=\"M17.41 7.96l-1.37-1.37c-.4-.4-.92-.59-1.43-.59-.52 0-1.04.2-1.43.59L10.3 9.45l-7.72 7.72c-.78.78-.78 2.05 0 2.83L4 21.41c.39.39.9.59 1.41.59.51 0 1.02-.2 1.41-.59l7.78-7.78 2.81-2.81c.8-.78.8-2.07 0-2.86zM5.41 20L4 18.59l7.72-7.72 1.47 1.35L5.41 20z\"/>\n",
              "  </svg>\n",
              "      </button>\n",
              "      \n",
              "  <style>\n",
              "    .colab-df-container {\n",
              "      display:flex;\n",
              "      flex-wrap:wrap;\n",
              "      gap: 12px;\n",
              "    }\n",
              "\n",
              "    .colab-df-convert {\n",
              "      background-color: #E8F0FE;\n",
              "      border: none;\n",
              "      border-radius: 50%;\n",
              "      cursor: pointer;\n",
              "      display: none;\n",
              "      fill: #1967D2;\n",
              "      height: 32px;\n",
              "      padding: 0 0 0 0;\n",
              "      width: 32px;\n",
              "    }\n",
              "\n",
              "    .colab-df-convert:hover {\n",
              "      background-color: #E2EBFA;\n",
              "      box-shadow: 0px 1px 2px rgba(60, 64, 67, 0.3), 0px 1px 3px 1px rgba(60, 64, 67, 0.15);\n",
              "      fill: #174EA6;\n",
              "    }\n",
              "\n",
              "    [theme=dark] .colab-df-convert {\n",
              "      background-color: #3B4455;\n",
              "      fill: #D2E3FC;\n",
              "    }\n",
              "\n",
              "    [theme=dark] .colab-df-convert:hover {\n",
              "      background-color: #434B5C;\n",
              "      box-shadow: 0px 1px 3px 1px rgba(0, 0, 0, 0.15);\n",
              "      filter: drop-shadow(0px 1px 2px rgba(0, 0, 0, 0.3));\n",
              "      fill: #FFFFFF;\n",
              "    }\n",
              "  </style>\n",
              "\n",
              "      <script>\n",
              "        const buttonEl =\n",
              "          document.querySelector('#df-4b8ede13-e7e3-4530-978a-1cd31a483b1f button.colab-df-convert');\n",
              "        buttonEl.style.display =\n",
              "          google.colab.kernel.accessAllowed ? 'block' : 'none';\n",
              "\n",
              "        async function convertToInteractive(key) {\n",
              "          const element = document.querySelector('#df-4b8ede13-e7e3-4530-978a-1cd31a483b1f');\n",
              "          const dataTable =\n",
              "            await google.colab.kernel.invokeFunction('convertToInteractive',\n",
              "                                                     [key], {});\n",
              "          if (!dataTable) return;\n",
              "\n",
              "          const docLinkHtml = 'Like what you see? Visit the ' +\n",
              "            '<a target=\"_blank\" href=https://colab.research.google.com/notebooks/data_table.ipynb>data table notebook</a>'\n",
              "            + ' to learn more about interactive tables.';\n",
              "          element.innerHTML = '';\n",
              "          dataTable['output_type'] = 'display_data';\n",
              "          await google.colab.output.renderOutput(dataTable, element);\n",
              "          const docLink = document.createElement('div');\n",
              "          docLink.innerHTML = docLinkHtml;\n",
              "          element.appendChild(docLink);\n",
              "        }\n",
              "      </script>\n",
              "    </div>\n",
              "  </div>\n",
              "  "
            ]
          },
          "metadata": {},
          "execution_count": 135
        }
      ]
    },
    {
      "cell_type": "markdown",
      "source": [
        "**Creating a religion only column**\n",
        "\n"
      ],
      "metadata": {
        "id": "FhNYpewOFDOt"
      }
    },
    {
      "cell_type": "code",
      "source": [
        "def religion(value):\n",
        "    # splitting the column and extracting the first string\n",
        "    religion = value.split(' ')[0]\n",
        "    return religion"
      ],
      "metadata": {
        "id": "VWNcinS9-j-L"
      },
      "execution_count": 136,
      "outputs": []
    },
    {
      "cell_type": "code",
      "source": [
        "dating_df.religion = dating_df.religion.astype(str).apply(lambda x: religion(x))\n",
        "dating_df.religion[:10]"
      ],
      "metadata": {
        "colab": {
          "base_uri": "https://localhost:8080/"
        },
        "id": "gPkPweiOAG9b",
        "outputId": "27da1eaa-cca4-4b47-813f-248e52738c19"
      },
      "execution_count": 137,
      "outputs": [
        {
          "output_type": "execute_result",
          "data": {
            "text/plain": [
              "0     agnosticism\n",
              "1     agnosticism\n",
              "2     Unspecified\n",
              "3     Unspecified\n",
              "4     Unspecified\n",
              "5         atheism\n",
              "6     Unspecified\n",
              "7    christianity\n",
              "8    christianity\n",
              "9         atheism\n",
              "Name: religion, dtype: object"
            ]
          },
          "metadata": {},
          "execution_count": 137
        }
      ]
    },
    {
      "cell_type": "code",
      "source": [
        "# checking the value counts and converting the column into a string datatype\n",
        "dating_df.religion.value_counts()"
      ],
      "metadata": {
        "colab": {
          "base_uri": "https://localhost:8080/"
        },
        "id": "uk4nFYEjC2gp",
        "outputId": "a220ca3e-3326-4359-aa17-f5fb8c0c6906"
      },
      "execution_count": 138,
      "outputs": [
        {
          "output_type": "execute_result",
          "data": {
            "text/plain": [
              "Unspecified     20223\n",
              "agnosticism      8812\n",
              "other            7743\n",
              "atheism          6985\n",
              "christianity     5787\n",
              "catholicism      4758\n",
              "judaism          3098\n",
              "buddhism         1948\n",
              "hinduism          450\n",
              "islam             139\n",
              "Name: religion, dtype: int64"
            ]
          },
          "metadata": {},
          "execution_count": 138
        }
      ]
    },
    {
      "cell_type": "markdown",
      "source": [
        "###1.6.11 The Zodiac Column\n",
        "To deal with the missing values in this section, we will fill the missing values with uninterested as zodiac signs do not matter to some people.\n",
        "We will further clean the column and only pick out the zodiac sign and remove the rest of the text in each row."
      ],
      "metadata": {
        "id": "ixPk9eTwHjfy"
      }
    },
    {
      "cell_type": "code",
      "source": [
        "dating_df['sign'].value_counts()"
      ],
      "metadata": {
        "id": "38rzFIVYlrxr",
        "outputId": "a8e1b922-9dda-45f0-edd8-4e27586f009d",
        "colab": {
          "base_uri": "https://localhost:8080/"
        }
      },
      "execution_count": 139,
      "outputs": [
        {
          "output_type": "execute_result",
          "data": {
            "text/plain": [
              "gemini and it&rsquo;s fun to think about         1782\n",
              "scorpio and it&rsquo;s fun to think about        1772\n",
              "leo and it&rsquo;s fun to think about            1692\n",
              "libra and it&rsquo;s fun to think about          1649\n",
              "taurus and it&rsquo;s fun to think about         1640\n",
              "cancer and it&rsquo;s fun to think about         1597\n",
              "pisces and it&rsquo;s fun to think about         1592\n",
              "sagittarius and it&rsquo;s fun to think about    1583\n",
              "virgo and it&rsquo;s fun to think about          1574\n",
              "aries and it&rsquo;s fun to think about          1573\n",
              "aquarius and it&rsquo;s fun to think about       1503\n",
              "virgo but it doesn&rsquo;t matter                1497\n",
              "leo but it doesn&rsquo;t matter                  1457\n",
              "cancer but it doesn&rsquo;t matter               1454\n",
              "gemini but it doesn&rsquo;t matter               1453\n",
              "taurus but it doesn&rsquo;t matter               1450\n",
              "libra but it doesn&rsquo;t matter                1408\n",
              "aquarius but it doesn&rsquo;t matter             1408\n",
              "capricorn and it&rsquo;s fun to think about      1376\n",
              "sagittarius but it doesn&rsquo;t matter          1375\n",
              "aries but it doesn&rsquo;t matter                1373\n",
              "capricorn but it doesn&rsquo;t matter            1319\n",
              "pisces but it doesn&rsquo;t matter               1300\n",
              "scorpio but it doesn&rsquo;t matter              1264\n",
              "leo                                              1159\n",
              "libra                                            1098\n",
              "cancer                                           1092\n",
              "virgo                                            1029\n",
              "scorpio                                          1020\n",
              "gemini                                           1013\n",
              "taurus                                           1001\n",
              "aries                                             995\n",
              "pisces                                            992\n",
              "aquarius                                          954\n",
              "sagittarius                                       937\n",
              "capricorn                                         833\n",
              "scorpio and it matters a lot                       78\n",
              "leo and it matters a lot                           66\n",
              "cancer and it matters a lot                        63\n",
              "aquarius and it matters a lot                      63\n",
              "pisces and it matters a lot                        62\n",
              "gemini and it matters a lot                        62\n",
              "libra and it matters a lot                         52\n",
              "taurus and it matters a lot                        49\n",
              "aries and it matters a lot                         47\n",
              "sagittarius and it matters a lot                   47\n",
              "capricorn and it matters a lot                     45\n",
              "virgo and it matters a lot                         41\n",
              "Name: sign, dtype: int64"
            ]
          },
          "metadata": {},
          "execution_count": 139
        }
      ]
    },
    {
      "cell_type": "markdown",
      "source": [
        "**Creating a sign serious column**"
      ],
      "metadata": {
        "id": "Oaq_OGcOqMWT"
      }
    },
    {
      "cell_type": "code",
      "source": [
        "#Replacing the missing values with uninterested.\n",
        "dating_df['sign'].fillna('Uninterested',inplace=True)"
      ],
      "metadata": {
        "id": "c7XjujfKmjo5"
      },
      "execution_count": 140,
      "outputs": []
    },
    {
      "cell_type": "code",
      "source": [
        "def sign_serious(value):\n",
        "   # checking if a user is serious with his/her religion\n",
        "    if value.__contains__('doesn&rsquo;t'):\n",
        "        return 0\n",
        "    elif value.__contains__('it&rsquo;s'):\n",
        "        return 1\n",
        "        \n",
        "    return 2"
      ],
      "metadata": {
        "id": "_RWRqU4eq1rO"
      },
      "execution_count": 141,
      "outputs": []
    },
    {
      "cell_type": "code",
      "source": [
        "dating_df['signSerious'] = dating_df.sign.copy().astype(str).apply(lambda x: sign_serious(x))\n",
        "dating_df['signSerious'].value_counts()"
      ],
      "metadata": {
        "colab": {
          "base_uri": "https://localhost:8080/"
        },
        "id": "xWlSPlsyucl8",
        "outputId": "883a5469-1840-40bf-ebf7-eacb650c23cf"
      },
      "execution_count": 142,
      "outputs": [
        {
          "output_type": "execute_result",
          "data": {
            "text/plain": [
              "2    23852\n",
              "1    19333\n",
              "0    16758\n",
              "Name: signSerious, dtype: int64"
            ]
          },
          "metadata": {},
          "execution_count": 142
        }
      ]
    },
    {
      "cell_type": "code",
      "source": [
        "# checking if the religion_serious function worked\n",
        "dating_df[['signSerious','sign']].sample(30)"
      ],
      "metadata": {
        "colab": {
          "base_uri": "https://localhost:8080/",
          "height": 0
        },
        "id": "b0nrubmPyZx0",
        "outputId": "c3a01588-d890-4ca3-9ea5-78f43ce19eee"
      },
      "execution_count": 143,
      "outputs": [
        {
          "output_type": "execute_result",
          "data": {
            "text/plain": [
              "       signSerious                                       sign\n",
              "8506             2                                        leo\n",
              "2652             0          virgo but it doesn&rsquo;t matter\n",
              "3496             0         cancer but it doesn&rsquo;t matter\n",
              "42843            1      leo and it&rsquo;s fun to think about\n",
              "18779            2                   leo and it matters a lot\n",
              "52662            1  scorpio and it&rsquo;s fun to think about\n",
              "21613            1   pisces and it&rsquo;s fun to think about\n",
              "23453            1   pisces and it&rsquo;s fun to think about\n",
              "44718            0        scorpio but it doesn&rsquo;t matter\n",
              "10556            1    libra and it&rsquo;s fun to think about\n",
              "57329            0         gemini but it doesn&rsquo;t matter\n",
              "41945            2                               Uninterested\n",
              "6654             0    sagittarius but it doesn&rsquo;t matter\n",
              "59475            2                                   aquarius\n",
              "4046             2                                      virgo\n",
              "39013            2                                     taurus\n",
              "37495            0       aquarius but it doesn&rsquo;t matter\n",
              "2009             1  scorpio and it&rsquo;s fun to think about\n",
              "4589             2                               Uninterested\n",
              "46857            0        scorpio but it doesn&rsquo;t matter\n",
              "28678            2                               Uninterested\n",
              "7321             1   pisces and it&rsquo;s fun to think about\n",
              "17497            0    sagittarius but it doesn&rsquo;t matter\n",
              "20606            1   cancer and it&rsquo;s fun to think about\n",
              "59026            1   taurus and it&rsquo;s fun to think about\n",
              "28382            2                                     gemini\n",
              "39141            0         gemini but it doesn&rsquo;t matter\n",
              "48375            0            leo but it doesn&rsquo;t matter\n",
              "13851            2                                     cancer\n",
              "18289            2                                     pisces"
            ],
            "text/html": [
              "\n",
              "  <div id=\"df-afc7739c-2aa8-461a-acb0-f9ccb3eaf44c\">\n",
              "    <div class=\"colab-df-container\">\n",
              "      <div>\n",
              "<style scoped>\n",
              "    .dataframe tbody tr th:only-of-type {\n",
              "        vertical-align: middle;\n",
              "    }\n",
              "\n",
              "    .dataframe tbody tr th {\n",
              "        vertical-align: top;\n",
              "    }\n",
              "\n",
              "    .dataframe thead th {\n",
              "        text-align: right;\n",
              "    }\n",
              "</style>\n",
              "<table border=\"1\" class=\"dataframe\">\n",
              "  <thead>\n",
              "    <tr style=\"text-align: right;\">\n",
              "      <th></th>\n",
              "      <th>signSerious</th>\n",
              "      <th>sign</th>\n",
              "    </tr>\n",
              "  </thead>\n",
              "  <tbody>\n",
              "    <tr>\n",
              "      <th>8506</th>\n",
              "      <td>2</td>\n",
              "      <td>leo</td>\n",
              "    </tr>\n",
              "    <tr>\n",
              "      <th>2652</th>\n",
              "      <td>0</td>\n",
              "      <td>virgo but it doesn&amp;rsquo;t matter</td>\n",
              "    </tr>\n",
              "    <tr>\n",
              "      <th>3496</th>\n",
              "      <td>0</td>\n",
              "      <td>cancer but it doesn&amp;rsquo;t matter</td>\n",
              "    </tr>\n",
              "    <tr>\n",
              "      <th>42843</th>\n",
              "      <td>1</td>\n",
              "      <td>leo and it&amp;rsquo;s fun to think about</td>\n",
              "    </tr>\n",
              "    <tr>\n",
              "      <th>18779</th>\n",
              "      <td>2</td>\n",
              "      <td>leo and it matters a lot</td>\n",
              "    </tr>\n",
              "    <tr>\n",
              "      <th>52662</th>\n",
              "      <td>1</td>\n",
              "      <td>scorpio and it&amp;rsquo;s fun to think about</td>\n",
              "    </tr>\n",
              "    <tr>\n",
              "      <th>21613</th>\n",
              "      <td>1</td>\n",
              "      <td>pisces and it&amp;rsquo;s fun to think about</td>\n",
              "    </tr>\n",
              "    <tr>\n",
              "      <th>23453</th>\n",
              "      <td>1</td>\n",
              "      <td>pisces and it&amp;rsquo;s fun to think about</td>\n",
              "    </tr>\n",
              "    <tr>\n",
              "      <th>44718</th>\n",
              "      <td>0</td>\n",
              "      <td>scorpio but it doesn&amp;rsquo;t matter</td>\n",
              "    </tr>\n",
              "    <tr>\n",
              "      <th>10556</th>\n",
              "      <td>1</td>\n",
              "      <td>libra and it&amp;rsquo;s fun to think about</td>\n",
              "    </tr>\n",
              "    <tr>\n",
              "      <th>57329</th>\n",
              "      <td>0</td>\n",
              "      <td>gemini but it doesn&amp;rsquo;t matter</td>\n",
              "    </tr>\n",
              "    <tr>\n",
              "      <th>41945</th>\n",
              "      <td>2</td>\n",
              "      <td>Uninterested</td>\n",
              "    </tr>\n",
              "    <tr>\n",
              "      <th>6654</th>\n",
              "      <td>0</td>\n",
              "      <td>sagittarius but it doesn&amp;rsquo;t matter</td>\n",
              "    </tr>\n",
              "    <tr>\n",
              "      <th>59475</th>\n",
              "      <td>2</td>\n",
              "      <td>aquarius</td>\n",
              "    </tr>\n",
              "    <tr>\n",
              "      <th>4046</th>\n",
              "      <td>2</td>\n",
              "      <td>virgo</td>\n",
              "    </tr>\n",
              "    <tr>\n",
              "      <th>39013</th>\n",
              "      <td>2</td>\n",
              "      <td>taurus</td>\n",
              "    </tr>\n",
              "    <tr>\n",
              "      <th>37495</th>\n",
              "      <td>0</td>\n",
              "      <td>aquarius but it doesn&amp;rsquo;t matter</td>\n",
              "    </tr>\n",
              "    <tr>\n",
              "      <th>2009</th>\n",
              "      <td>1</td>\n",
              "      <td>scorpio and it&amp;rsquo;s fun to think about</td>\n",
              "    </tr>\n",
              "    <tr>\n",
              "      <th>4589</th>\n",
              "      <td>2</td>\n",
              "      <td>Uninterested</td>\n",
              "    </tr>\n",
              "    <tr>\n",
              "      <th>46857</th>\n",
              "      <td>0</td>\n",
              "      <td>scorpio but it doesn&amp;rsquo;t matter</td>\n",
              "    </tr>\n",
              "    <tr>\n",
              "      <th>28678</th>\n",
              "      <td>2</td>\n",
              "      <td>Uninterested</td>\n",
              "    </tr>\n",
              "    <tr>\n",
              "      <th>7321</th>\n",
              "      <td>1</td>\n",
              "      <td>pisces and it&amp;rsquo;s fun to think about</td>\n",
              "    </tr>\n",
              "    <tr>\n",
              "      <th>17497</th>\n",
              "      <td>0</td>\n",
              "      <td>sagittarius but it doesn&amp;rsquo;t matter</td>\n",
              "    </tr>\n",
              "    <tr>\n",
              "      <th>20606</th>\n",
              "      <td>1</td>\n",
              "      <td>cancer and it&amp;rsquo;s fun to think about</td>\n",
              "    </tr>\n",
              "    <tr>\n",
              "      <th>59026</th>\n",
              "      <td>1</td>\n",
              "      <td>taurus and it&amp;rsquo;s fun to think about</td>\n",
              "    </tr>\n",
              "    <tr>\n",
              "      <th>28382</th>\n",
              "      <td>2</td>\n",
              "      <td>gemini</td>\n",
              "    </tr>\n",
              "    <tr>\n",
              "      <th>39141</th>\n",
              "      <td>0</td>\n",
              "      <td>gemini but it doesn&amp;rsquo;t matter</td>\n",
              "    </tr>\n",
              "    <tr>\n",
              "      <th>48375</th>\n",
              "      <td>0</td>\n",
              "      <td>leo but it doesn&amp;rsquo;t matter</td>\n",
              "    </tr>\n",
              "    <tr>\n",
              "      <th>13851</th>\n",
              "      <td>2</td>\n",
              "      <td>cancer</td>\n",
              "    </tr>\n",
              "    <tr>\n",
              "      <th>18289</th>\n",
              "      <td>2</td>\n",
              "      <td>pisces</td>\n",
              "    </tr>\n",
              "  </tbody>\n",
              "</table>\n",
              "</div>\n",
              "      <button class=\"colab-df-convert\" onclick=\"convertToInteractive('df-afc7739c-2aa8-461a-acb0-f9ccb3eaf44c')\"\n",
              "              title=\"Convert this dataframe to an interactive table.\"\n",
              "              style=\"display:none;\">\n",
              "        \n",
              "  <svg xmlns=\"http://www.w3.org/2000/svg\" height=\"24px\"viewBox=\"0 0 24 24\"\n",
              "       width=\"24px\">\n",
              "    <path d=\"M0 0h24v24H0V0z\" fill=\"none\"/>\n",
              "    <path d=\"M18.56 5.44l.94 2.06.94-2.06 2.06-.94-2.06-.94-.94-2.06-.94 2.06-2.06.94zm-11 1L8.5 8.5l.94-2.06 2.06-.94-2.06-.94L8.5 2.5l-.94 2.06-2.06.94zm10 10l.94 2.06.94-2.06 2.06-.94-2.06-.94-.94-2.06-.94 2.06-2.06.94z\"/><path d=\"M17.41 7.96l-1.37-1.37c-.4-.4-.92-.59-1.43-.59-.52 0-1.04.2-1.43.59L10.3 9.45l-7.72 7.72c-.78.78-.78 2.05 0 2.83L4 21.41c.39.39.9.59 1.41.59.51 0 1.02-.2 1.41-.59l7.78-7.78 2.81-2.81c.8-.78.8-2.07 0-2.86zM5.41 20L4 18.59l7.72-7.72 1.47 1.35L5.41 20z\"/>\n",
              "  </svg>\n",
              "      </button>\n",
              "      \n",
              "  <style>\n",
              "    .colab-df-container {\n",
              "      display:flex;\n",
              "      flex-wrap:wrap;\n",
              "      gap: 12px;\n",
              "    }\n",
              "\n",
              "    .colab-df-convert {\n",
              "      background-color: #E8F0FE;\n",
              "      border: none;\n",
              "      border-radius: 50%;\n",
              "      cursor: pointer;\n",
              "      display: none;\n",
              "      fill: #1967D2;\n",
              "      height: 32px;\n",
              "      padding: 0 0 0 0;\n",
              "      width: 32px;\n",
              "    }\n",
              "\n",
              "    .colab-df-convert:hover {\n",
              "      background-color: #E2EBFA;\n",
              "      box-shadow: 0px 1px 2px rgba(60, 64, 67, 0.3), 0px 1px 3px 1px rgba(60, 64, 67, 0.15);\n",
              "      fill: #174EA6;\n",
              "    }\n",
              "\n",
              "    [theme=dark] .colab-df-convert {\n",
              "      background-color: #3B4455;\n",
              "      fill: #D2E3FC;\n",
              "    }\n",
              "\n",
              "    [theme=dark] .colab-df-convert:hover {\n",
              "      background-color: #434B5C;\n",
              "      box-shadow: 0px 1px 3px 1px rgba(0, 0, 0, 0.15);\n",
              "      filter: drop-shadow(0px 1px 2px rgba(0, 0, 0, 0.3));\n",
              "      fill: #FFFFFF;\n",
              "    }\n",
              "  </style>\n",
              "\n",
              "      <script>\n",
              "        const buttonEl =\n",
              "          document.querySelector('#df-afc7739c-2aa8-461a-acb0-f9ccb3eaf44c button.colab-df-convert');\n",
              "        buttonEl.style.display =\n",
              "          google.colab.kernel.accessAllowed ? 'block' : 'none';\n",
              "\n",
              "        async function convertToInteractive(key) {\n",
              "          const element = document.querySelector('#df-afc7739c-2aa8-461a-acb0-f9ccb3eaf44c');\n",
              "          const dataTable =\n",
              "            await google.colab.kernel.invokeFunction('convertToInteractive',\n",
              "                                                     [key], {});\n",
              "          if (!dataTable) return;\n",
              "\n",
              "          const docLinkHtml = 'Like what you see? Visit the ' +\n",
              "            '<a target=\"_blank\" href=https://colab.research.google.com/notebooks/data_table.ipynb>data table notebook</a>'\n",
              "            + ' to learn more about interactive tables.';\n",
              "          element.innerHTML = '';\n",
              "          dataTable['output_type'] = 'display_data';\n",
              "          await google.colab.output.renderOutput(dataTable, element);\n",
              "          const docLink = document.createElement('div');\n",
              "          docLink.innerHTML = docLinkHtml;\n",
              "          element.appendChild(docLink);\n",
              "        }\n",
              "      </script>\n",
              "    </div>\n",
              "  </div>\n",
              "  "
            ]
          },
          "metadata": {},
          "execution_count": 143
        }
      ]
    },
    {
      "cell_type": "markdown",
      "source": [
        "**Creating a zodiac only column**"
      ],
      "metadata": {
        "id": "1OjlBbNGzyVl"
      }
    },
    {
      "cell_type": "code",
      "source": [
        "# doing the same thing as in the religion function\n",
        "def zodiac_sign(value):\n",
        "    zodiac = value.split(' ')[0]\n",
        "    return zodiac"
      ],
      "metadata": {
        "id": "jO5yR-oo-hxr"
      },
      "execution_count": 144,
      "outputs": []
    },
    {
      "cell_type": "code",
      "source": [
        "dating_df.sign = dating_df.sign.astype(str).apply(lambda x: zodiac_sign(x))\n",
        "dating_df.sign[:10]"
      ],
      "metadata": {
        "colab": {
          "base_uri": "https://localhost:8080/"
        },
        "id": "1krtZ2ntK9PK",
        "outputId": "17518b1b-b1c5-4989-adbf-d303230c3b73"
      },
      "execution_count": 145,
      "outputs": [
        {
          "output_type": "execute_result",
          "data": {
            "text/plain": [
              "0         gemini\n",
              "1         cancer\n",
              "2         pisces\n",
              "3         pisces\n",
              "4       aquarius\n",
              "5         taurus\n",
              "6          virgo\n",
              "7    sagittarius\n",
              "8         gemini\n",
              "9         cancer\n",
              "Name: sign, dtype: object"
            ]
          },
          "metadata": {},
          "execution_count": 145
        }
      ]
    },
    {
      "cell_type": "markdown",
      "source": [
        "###1.6.11 The Smokes Column"
      ],
      "metadata": {
        "id": "qxfbCLw4z3Ul"
      }
    },
    {
      "cell_type": "code",
      "source": [
        "# checking the value counts\n",
        "dating_df['smokes'].value_counts()"
      ],
      "metadata": {
        "id": "e9q_Ti4Sna_o",
        "outputId": "9560a8fe-e876-4e50-d3f3-834faf761b3f",
        "colab": {
          "base_uri": "https://localhost:8080/"
        }
      },
      "execution_count": 146,
      "outputs": [
        {
          "output_type": "execute_result",
          "data": {
            "text/plain": [
              "no                43895\n",
              "sometimes          3787\n",
              "when drinking      3040\n",
              "yes                2231\n",
              "trying to quit     1480\n",
              "Name: smokes, dtype: int64"
            ]
          },
          "metadata": {},
          "execution_count": 146
        }
      ]
    },
    {
      "cell_type": "code",
      "source": [
        "# Fill null values with unspecified\n",
        "dating_df['smokes'].fillna('Unspecified',inplace=True)"
      ],
      "metadata": {
        "id": "CPzlWP7JnhPD"
      },
      "execution_count": 147,
      "outputs": []
    },
    {
      "cell_type": "markdown",
      "source": [
        "###1.6.12 The Speaks Column"
      ],
      "metadata": {
        "id": "v6RiDv7E1nBg"
      }
    },
    {
      "cell_type": "code",
      "source": [
        "# Checking the value counts \n",
        "dating_df['speaks'].value_counts()"
      ],
      "metadata": {
        "id": "-nA1m2EToblw",
        "outputId": "7b204145-2678-4a26-8479-e1b4d2b22343",
        "colab": {
          "base_uri": "https://localhost:8080/"
        }
      },
      "execution_count": 148,
      "outputs": [
        {
          "output_type": "execute_result",
          "data": {
            "text/plain": [
              "english                                                                21827\n",
              "english (fluently)                                                      6627\n",
              "english (fluently), spanish (poorly)                                    2059\n",
              "english (fluently), spanish (okay)                                      1917\n",
              "english (fluently), spanish (fluently)                                  1288\n",
              "                                                                       ...  \n",
              "english (fluently), urdu (poorly), japanese (poorly), french (okay)        1\n",
              "english, spanish, hindi, c++                                               1\n",
              "english (fluently), japanese (okay), thai (okay), chinese (poorly)         1\n",
              "english (fluently), french (okay), italian (okay), hebrew (okay)           1\n",
              "english (fluently), french, farsi                                          1\n",
              "Name: speaks, Length: 7647, dtype: int64"
            ]
          },
          "metadata": {},
          "execution_count": 148
        }
      ]
    },
    {
      "cell_type": "code",
      "source": [
        "# filling null values with unspecified\n",
        "dating_df['speaks'].fillna('Unspecified',inplace=True)"
      ],
      "metadata": {
        "id": "qTa0Mfk4ofrV"
      },
      "execution_count": 149,
      "outputs": []
    },
    {
      "cell_type": "markdown",
      "source": [
        "Since we are considering an emotional match recommender system we won't consider height,job and income to prevent the recommender system from being biased"
      ],
      "metadata": {
        "id": "pUA5mWZNq641"
      }
    },
    {
      "cell_type": "markdown",
      "source": [
        "###1.6.13 Dropping columns"
      ],
      "metadata": {
        "id": "Z7Au6uoalcur"
      }
    },
    {
      "cell_type": "code",
      "source": [
        "# Dropping features not to be utilized by the recommendation engine\n",
        "dating_df = dating_df.drop(columns=['ethnicity', 'height', 'income', 'job', 'offspring', 'speaks', 'last_online'])"
      ],
      "metadata": {
        "id": "EMNO2W_Eoe8z"
      },
      "execution_count": 150,
      "outputs": []
    },
    {
      "cell_type": "markdown",
      "source": [
        "###1.6.14 Filtering out the data"
      ],
      "metadata": {
        "id": "UV-h4Dx3lmG3"
      }
    },
    {
      "cell_type": "code",
      "source": [
        "# keep only available people in the recommendation database \n",
        "dating_df = dating_df[dating_df.status.isin(['single', 'available'])].drop(columns='status')"
      ],
      "metadata": {
        "id": "pmAnHAZbodzx"
      },
      "execution_count": 151,
      "outputs": []
    },
    {
      "cell_type": "markdown",
      "source": [
        "###1.6.15 The Location Column"
      ],
      "metadata": {
        "id": "UJuzL3PCluvh"
      }
    },
    {
      "cell_type": "code",
      "source": [
        "dating_df['location'].value_counts()"
      ],
      "metadata": {
        "id": "00tXD7Pyr-rc",
        "outputId": "c03d96b8-01c9-4715-d816-441ec9eeed07",
        "colab": {
          "base_uri": "https://localhost:8080/"
        }
      },
      "execution_count": 152,
      "outputs": [
        {
          "output_type": "execute_result",
          "data": {
            "text/plain": [
              "san francisco, california    29919\n",
              "oakland, california           6886\n",
              "berkeley, california          3977\n",
              "san mateo, california         1291\n",
              "palo alto, california         1013\n",
              "                             ...  \n",
              "sunnyvale, california            1\n",
              "islip terrace, new york          1\n",
              "boise, idaho                     1\n",
              "peoria, illinois                 1\n",
              "rochester, michigan              1\n",
              "Name: location, Length: 193, dtype: int64"
            ]
          },
          "metadata": {},
          "execution_count": 152
        }
      ]
    },
    {
      "cell_type": "code",
      "source": [
        "# taking the state only from the location column\n",
        "def state_getter(string):\n",
        "    return string.split(',')[1]\n",
        "\n",
        "dating_df['state'] = dating_df.location.apply(lambda x: state_getter(x))\n",
        "# printing total states\n",
        "print('Number of states:', len(dating_df['state'].unique()))\n",
        "dating_df.state.value_counts()[:10]"
      ],
      "metadata": {
        "id": "ed_XAmMHnoBQ",
        "outputId": "fce6c0de-d3a2-4d8d-a858-579d345d122a",
        "colab": {
          "base_uri": "https://localhost:8080/"
        }
      },
      "execution_count": 153,
      "outputs": [
        {
          "output_type": "stream",
          "name": "stdout",
          "text": [
            "Number of states: 38\n"
          ]
        },
        {
          "output_type": "execute_result",
          "data": {
            "text/plain": [
              " california              57473\n",
              " new york                   16\n",
              " illinois                    8\n",
              " texas                       4\n",
              " oregon                      4\n",
              " massachusetts               4\n",
              " michigan                    4\n",
              " arizona                     3\n",
              " florida                     3\n",
              " district of columbia        2\n",
              "Name: state, dtype: int64"
            ]
          },
          "metadata": {},
          "execution_count": 153
        }
      ]
    },
    {
      "cell_type": "code",
      "source": [
        "# droppping the location column\n",
        "dating_df.drop('location', axis=1, inplace=True)"
      ],
      "metadata": {
        "id": "o0be2hcdsPkR"
      },
      "execution_count": 154,
      "outputs": []
    },
    {
      "cell_type": "markdown",
      "source": [
        "###1.6.16 The Pets Column"
      ],
      "metadata": {
        "id": "UuHsx90Tm0Ge"
      }
    },
    {
      "cell_type": "code",
      "source": [
        "dating_df['pets'].value_counts()"
      ],
      "metadata": {
        "id": "pNBcUxrktENN",
        "outputId": "957b8996-3a23-4a74-e808-c5cf6d509981",
        "colab": {
          "base_uri": "https://localhost:8080/"
        }
      },
      "execution_count": 155,
      "outputs": [
        {
          "output_type": "execute_result",
          "data": {
            "text/plain": [
              "likes dogs and likes cats          14100\n",
              "likes dogs                          7026\n",
              "has dogs                            4022\n",
              "likes dogs and has cats             4000\n",
              "has dogs and likes cats             2223\n",
              "likes dogs and dislikes cats        1960\n",
              "has dogs and has cats               1373\n",
              "has cats                            1328\n",
              "likes cats                           973\n",
              "has dogs and dislikes cats           534\n",
              "dislikes dogs and likes cats         215\n",
              "dislikes dogs and dislikes cats      188\n",
              "dislikes cats                        121\n",
              "dislikes dogs and has cats            72\n",
              "dislikes dogs                         42\n",
              "Name: pets, dtype: int64"
            ]
          },
          "metadata": {},
          "execution_count": 155
        }
      ]
    },
    {
      "cell_type": "code",
      "source": [
        "# replacing has with likes\n",
        "# 1. The code checks if the value is a string\n",
        "# 2. If it is a string, it replaces the word 'has' with 'likes'\n",
        "# 3. If it is not a string, it returns the value as it is\n",
        "\n",
        "dating_df.pets = dating_df.pets.apply(lambda x: x.replace('has', 'likes') if isinstance(x, str) else x)"
      ],
      "metadata": {
        "id": "zqoz61a-tPqL"
      },
      "execution_count": 156,
      "outputs": []
    },
    {
      "cell_type": "code",
      "source": [
        "dating_df['pets'].value_counts()"
      ],
      "metadata": {
        "id": "i44-Rsc6ugF8",
        "outputId": "587a56e1-0668-4dc0-f679-23bfd9ed9ea3",
        "colab": {
          "base_uri": "https://localhost:8080/"
        }
      },
      "execution_count": 157,
      "outputs": [
        {
          "output_type": "execute_result",
          "data": {
            "text/plain": [
              "likes dogs and likes cats          21696\n",
              "likes dogs                         11048\n",
              "likes dogs and dislikes cats        2494\n",
              "likes cats                          2301\n",
              "dislikes dogs and likes cats         287\n",
              "dislikes dogs and dislikes cats      188\n",
              "dislikes cats                        121\n",
              "dislikes dogs                         42\n",
              "Name: pets, dtype: int64"
            ]
          },
          "metadata": {},
          "execution_count": 157
        }
      ]
    },
    {
      "cell_type": "code",
      "source": [
        "# using label encoder\n",
        "le = LabelEncoder()\n",
        "dating_df.pets = le.fit_transform(dating_df.pets)\n",
        "dating_df.pets.value_counts()"
      ],
      "metadata": {
        "id": "YzQde2EIrAQ4",
        "outputId": "49838228-4d6d-4455-918f-9f48c4d9b443",
        "colab": {
          "base_uri": "https://localhost:8080/"
        }
      },
      "execution_count": 158,
      "outputs": [
        {
          "output_type": "execute_result",
          "data": {
            "text/plain": [
              "7    21696\n",
              "8    19382\n",
              "5    11048\n",
              "6     2494\n",
              "4     2301\n",
              "3      287\n",
              "2      188\n",
              "0      121\n",
              "1       42\n",
              "Name: pets, dtype: int64"
            ]
          },
          "metadata": {},
          "execution_count": 158
        }
      ]
    },
    {
      "cell_type": "code",
      "source": [
        "# inversing\n",
        "le.inverse_transform(dating_df.pets)"
      ],
      "metadata": {
        "id": "myjv5R9DsgPi",
        "outputId": "5deca444-0f8d-4e88-8af0-95e477e181b8",
        "colab": {
          "base_uri": "https://localhost:8080/"
        }
      },
      "execution_count": 159,
      "outputs": [
        {
          "output_type": "execute_result",
          "data": {
            "text/plain": [
              "array(['likes dogs and likes cats', 'likes dogs and likes cats',\n",
              "       'likes cats', ..., nan, 'likes dogs and likes cats',\n",
              "       'likes dogs and likes cats'], dtype=object)"
            ]
          },
          "metadata": {},
          "execution_count": 159
        }
      ]
    },
    {
      "cell_type": "code",
      "source": [
        "dating_df.columns"
      ],
      "metadata": {
        "id": "rrsSJjuzvjYg",
        "outputId": "bdf30176-16d1-4e49-9f09-504a07a93c6e",
        "colab": {
          "base_uri": "https://localhost:8080/"
        }
      },
      "execution_count": 160,
      "outputs": [
        {
          "output_type": "execute_result",
          "data": {
            "text/plain": [
              "Index(['age', 'sex', 'orientation', 'body_type', 'diet', 'drinks', 'drugs',\n",
              "       'education', 'pets', 'religion', 'sign', 'smokes', 'essay0', 'essay1',\n",
              "       'essay2', 'essay3', 'essay4', 'essay5', 'essay6', 'essay7', 'essay8',\n",
              "       'essay9', 'religionSerious', 'signSerious', 'state'],\n",
              "      dtype='object')"
            ]
          },
          "metadata": {},
          "execution_count": 160
        }
      ]
    },
    {
      "cell_type": "markdown",
      "source": [
        "### 1.6.17 The Age Column"
      ],
      "metadata": {
        "id": "Y-o990J4XnTx"
      }
    },
    {
      "cell_type": "code",
      "source": [
        "dating_df.age.describe().T"
      ],
      "metadata": {
        "colab": {
          "base_uri": "https://localhost:8080/"
        },
        "id": "1de-iNDLXsha",
        "outputId": "e2a06029-448f-4091-fa7a-04e30b2ff6c0"
      },
      "execution_count": 161,
      "outputs": [
        {
          "output_type": "execute_result",
          "data": {
            "text/plain": [
              "count    57559.000000\n",
              "mean        32.419604\n",
              "std          9.510161\n",
              "min         18.000000\n",
              "25%         26.000000\n",
              "50%         30.000000\n",
              "75%         37.000000\n",
              "max        110.000000\n",
              "Name: age, dtype: float64"
            ]
          },
          "metadata": {},
          "execution_count": 161
        }
      ]
    },
    {
      "cell_type": "markdown",
      "source": [
        "There seems to be prescence of outliers in the age column"
      ],
      "metadata": {
        "id": "IMFRk0B8X8Oj"
      }
    },
    {
      "cell_type": "code",
      "source": [
        "# plotting the outliers\n",
        "fig, ax = plt.subplots(figsize=(15,7))\n",
        "sns.boxplot(x=dating_df.age, ax=ax, color='orange')\n",
        "plt.show()"
      ],
      "metadata": {
        "colab": {
          "base_uri": "https://localhost:8080/",
          "height": 442
        },
        "id": "FiGWcUQrYhPU",
        "outputId": "81f12385-9707-4e29-ca7d-5190dae1ab48"
      },
      "execution_count": 162,
      "outputs": [
        {
          "output_type": "display_data",
          "data": {
            "text/plain": [
              "<Figure size 1080x504 with 1 Axes>"
            ],
            "image/png": "[encoded data removed]"
          },
          "metadata": {
            "needs_background": "light"
          }
        }
      ]
    },
    {
      "cell_type": "code",
      "source": [
        "# checking the 95% quantile range\n",
        "dating_df.age.quantile(.95)"
      ],
      "metadata": {
        "colab": {
          "base_uri": "https://localhost:8080/"
        },
        "id": "wex7r1UWbcOf",
        "outputId": "81bfdf39-6027-4b8a-a469-872d5e9fe1b2"
      },
      "execution_count": 163,
      "outputs": [
        {
          "output_type": "execute_result",
          "data": {
            "text/plain": [
              "52.0"
            ]
          },
          "metadata": {},
          "execution_count": 163
        }
      ]
    },
    {
      "cell_type": "code",
      "source": [
        "# capping of ages above the 95% quantile to be the same value as the 95% quantile\n",
        "def age_capoff(value, cap_off_age=52):\n",
        "  if value > cap_off_age:\n",
        "        return cap_off_age\n",
        "\n",
        "  return value"
      ],
      "metadata": {
        "id": "6lDnIiHGb2e-"
      },
      "execution_count": 164,
      "outputs": []
    },
    {
      "cell_type": "code",
      "source": [
        "# plotting after dealing with the outliers\n",
        "fig, ax = plt.subplots(figsize=(15,7))\n",
        "sns.boxplot(x=dating_df.age.apply(lambda x: age_capoff(x)), ax=ax, color='orange')\n",
        "plt.show()"
      ],
      "metadata": {
        "colab": {
          "base_uri": "https://localhost:8080/",
          "height": 442
        },
        "id": "jqx-ZEalcemJ",
        "outputId": "a8336753-eaba-4b6b-ba8b-68bc2ea7a4a3"
      },
      "execution_count": 165,
      "outputs": [
        {
          "output_type": "display_data",
          "data": {
            "text/plain": [
              "<Figure size 1080x504 with 1 Axes>"
            ],
            "image/png": "[encoded data removed]"
          },
          "metadata": {
            "needs_background": "light"
          }
        }
      ]
    },
    {
      "cell_type": "code",
      "source": [
        "# replacing the values in the age column\n",
        "dating_df.age = dating_df.age.apply(lambda x: age_capoff(x))"
      ],
      "metadata": {
        "id": "cCGVXBC0dcGy"
      },
      "execution_count": 166,
      "outputs": []
    },
    {
      "cell_type": "markdown",
      "source": [
        "## 1.7 Exploratory Data Analysis\n",
        "In the EDA section we will create a number of visualizations to have a better understanding of our data and its attributes."
      ],
      "metadata": {
        "id": "aciCVKdXCkp3"
      }
    },
    {
      "cell_type": "code",
      "source": [
        "#Function that will help in allocating percentages to different features in our plots.\n",
        "def feature_percentage(plot, variable):\n",
        "    total = len(variable)\n",
        "    for p in ax.patches:\n",
        "        percentage = '{:.1f}%'.format(100 * p.get_height()/total)\n",
        "        x = p.get_x()+p.get_width()/2-0.1\n",
        "        y = p.get_y()+p.get_height()\n",
        "        ax.annotate(percentage, (x, y), size=10)"
      ],
      "metadata": {
        "id": "EJSuJHYYO34Z"
      },
      "execution_count": 167,
      "outputs": []
    },
    {
      "cell_type": "markdown",
      "source": [
        "### 1.7.1 Gender Analysis."
      ],
      "metadata": {
        "id": "oi6PiUIODGB7"
      }
    },
    {
      "cell_type": "code",
      "source": [
        "gender = dating_df['sex'].value_counts()\n",
        "ax=sns.barplot(x=gender.index, y=gender.values)\n",
        "plt.title('Gender Distribution')\n",
        "\n",
        "plt.style.use('seaborn')\n",
        "feature_percentage(ax,dating_df)\n",
        "plt.show()"
      ],
      "metadata": {
        "id": "gmugGfIqOTl_",
        "outputId": "b80a354c-c374-476f-9d0e-22e2f9dfcc70",
        "colab": {
          "base_uri": "https://localhost:8080/",
          "height": 362
        }
      },
      "execution_count": 179,
      "outputs": [
        {
          "output_type": "display_data",
          "data": {
            "text/plain": [
              "<Figure size 576x396 with 1 Axes>"
            ],
            "image/png": "[encoded data removed]"
          },
          "metadata": {}
        }
      ]
    },
    {
      "cell_type": "markdown",
      "source": [
        "From the above plot majority of the users are male at 59.8% and female follow closely at 40.2%\n",
        "\n",
        "### 1.7.2 Age Analysis"
      ],
      "metadata": {
        "id": "b2F_zlUGDhwa"
      }
    },
    {
      "cell_type": "code",
      "source": [
        "#Plot showing age distribution\n",
        "#plt.hist(x=dating_df.age)\n",
        "age= dating_df['age'].value_counts()\n",
        "plt.figure(figsize=(15,8))\n",
        "sns.barplot(x=age.index, y=age.values)\n",
        "plt.title('Age distribution')\n",
        "plt.xlabel('Age')\n",
        "plt.ylabel('Age Count')\n",
        "plt.style.use('seaborn')\n",
        "plt.xticks(rotation=75)\n",
        "plt.show()"
      ],
      "metadata": {
        "colab": {
          "base_uri": "https://localhost:8080/",
          "height": 515
        },
        "id": "N1W0St2Q7tbj",
        "outputId": "7b05a5fc-1e98-4a88-c829-c0bbf8bd7c7b"
      },
      "execution_count": 180,
      "outputs": [
        {
          "output_type": "display_data",
          "data": {
            "text/plain": [
              "<Figure size 1080x576 with 1 Axes>"
            ],
            "image/png": "[encoded data removed]"
          },
          "metadata": {}
        }
      ]
    },
    {
      "cell_type": "markdown",
      "source": [
        "Majority of the users are between 22 and 35. However there seems to be odd ages on the dating site such as 109."
      ],
      "metadata": {
        "id": "bEQByMccEFKG"
      }
    },
    {
      "cell_type": "code",
      "source": [
        "#Checking for the minimum age and maximum age\n",
        "print(\"min age:\", dating_df['age'].min())\n",
        "print(\"max age:\", dating_df['age'].max())"
      ],
      "metadata": {
        "id": "-GEHi1PT4O6s",
        "outputId": "2c827669-6804-401c-93cb-e85fc53bb5b4",
        "colab": {
          "base_uri": "https://localhost:8080/"
        }
      },
      "execution_count": 170,
      "outputs": [
        {
          "output_type": "stream",
          "name": "stdout",
          "text": [
            "min age: 18\n",
            "max age: 52\n"
          ]
        }
      ]
    },
    {
      "cell_type": "code",
      "source": [
        "# Binning the ages to allow for better visualization\n",
        "dating_df['age_bin']=pd.cut(x=dating_df['age'],bins=list(range(18,52,5)))"
      ],
      "metadata": {
        "id": "8j_8eAjj5DvI"
      },
      "execution_count": 181,
      "outputs": []
    },
    {
      "cell_type": "code",
      "source": [
        "#Plotting the age distribution\n",
        "plt.figure(figsize=(20,10))\n",
        "sns.catplot(x='age_bin', data= dating_df, kind='count',palette='magma',hue='sex')\n",
        "plt.xticks(rotation=75)\n",
        "plt.title('Age distribution according to gender')\n",
        "plt.show()"
      ],
      "metadata": {
        "id": "cmeOFe9Fz64j",
        "outputId": "1540ce23-6b6e-4b94-9dbc-a29912af14b2",
        "colab": {
          "base_uri": "https://localhost:8080/",
          "height": 428
        }
      },
      "execution_count": 186,
      "outputs": [
        {
          "output_type": "display_data",
          "data": {
            "text/plain": [
              "<Figure size 1440x720 with 0 Axes>"
            ]
          },
          "metadata": {}
        },
        {
          "output_type": "display_data",
          "data": {
            "text/plain": [
              "<Figure size 404.25x360 with 1 Axes>"
            ],
            "image/png": "[encoded data removed]"
          },
          "metadata": {}
        }
      ]
    },
    {
      "cell_type": "markdown",
      "source": [
        "\n",
        "Majority of the users of this app are male. Most of them are aged 23 to 28. That same age bracket holds the highest number of female users.\n",
        "\n",
        "### 1.7.3 Investiging orientation count\n",
        "In this section we will investigate orientation count based on each gender."
      ],
      "metadata": {
        "id": "_je05_iN-tf-"
      }
    },
    {
      "cell_type": "code",
      "source": [
        "#Plotting orinetation according to gender\n",
        "plt.figure(figsize=(8, 5))\n",
        "ax = sns.countplot(x='orientation', data=dating_df, hue='sex', palette='magma',order=dating_df['orientation'].value_counts().iloc[:10].index) \n",
        "total = float(len(dating_df))\n",
        "plt.title('Orientation according to gender.')\n",
        "feature_percentage(ax,dating_df)\n",
        "plt.show()"
      ],
      "metadata": {
        "id": "eiHUTwLD_rGY",
        "outputId": "b4cfe830-fc05-4360-ed2d-cec773e18f66",
        "colab": {
          "base_uri": "https://localhost:8080/",
          "height": 349
        }
      },
      "execution_count": 173,
      "outputs": [
        {
          "output_type": "display_data",
          "data": {
            "text/plain": [
              "<Figure size 576x360 with 1 Axes>"
            ],
            "image/png": "[encoded data removed]"
          },
          "metadata": {}
        }
      ]
    },
    {
      "cell_type": "markdown",
      "source": [
        "\n",
        "Majority of the users are of the orientation straight. Most of the straight users are male. This is the same case for the gay orientation For the bisexual orientation, majority are female.\n",
        "\n"
      ],
      "metadata": {
        "id": "Ikj7W6sFBWlI"
      }
    },
    {
      "cell_type": "markdown",
      "source": [
        "###1.7.4 Investigating drug usage\n",
        "In this section we investigate 3 columns i.e `drugs`, `drinks` and `smokes`\n"
      ],
      "metadata": {
        "id": "7SHL0C-PGJ0j"
      }
    },
    {
      "cell_type": "code",
      "source": [
        "#Drugs column\n",
        "dating_df['drugs'].value_counts()"
      ],
      "metadata": {
        "id": "JaP2htXhyGdJ",
        "outputId": "7a7ed04b-708f-44aa-814e-c47e92576275",
        "colab": {
          "base_uri": "https://localhost:8080/"
        }
      },
      "execution_count": 174,
      "outputs": [
        {
          "output_type": "execute_result",
          "data": {
            "text/plain": [
              "never          36428\n",
              "Unspecified    13506\n",
              "sometimes       7235\n",
              "often            390\n",
              "Name: drugs, dtype: int64"
            ]
          },
          "metadata": {},
          "execution_count": 174
        }
      ]
    },
    {
      "cell_type": "markdown",
      "source": [
        "From the above information majority of the users do not drink while the minority drink often. We will visualize this in the plot below"
      ],
      "metadata": {
        "id": "4UF0NgAJGosc"
      }
    },
    {
      "cell_type": "code",
      "source": [
        "\n",
        "plt.figure(figsize=(8, 5))\n",
        "ax = sns.countplot(x='drugs', data=dating_df,  palette='magma',order=dating_df['drugs'].value_counts().iloc[:10].index) \n",
        "total = float(len(dating_df))\n",
        "plt.title('Drug usage.')\n",
        "feature_percentage(ax,dating_df)\n",
        "plt.show()"
      ],
      "metadata": {
        "id": "KZRUdXa_JXNa",
        "outputId": "002c47e1-7f3e-4bb0-f88d-8e039fe2bee0",
        "colab": {
          "base_uri": "https://localhost:8080/",
          "height": 349
        }
      },
      "execution_count": 175,
      "outputs": [
        {
          "output_type": "display_data",
          "data": {
            "text/plain": [
              "<Figure size 576x360 with 1 Axes>"
            ],
            "image/png": "[encoded data removed]"
          },
          "metadata": {}
        }
      ]
    },
    {
      "cell_type": "markdown",
      "source": [
        "It is evident that majority of the users(62.9%) do not do drugs.\n",
        "\n",
        "###1.7.5 Investigating smoking frequency"
      ],
      "metadata": {
        "id": "mD06d32RKHyX"
      }
    },
    {
      "cell_type": "code",
      "source": [
        "#Visualization to show the count of users per smoking frequency.\n",
        "plt.figure(figsize=(8, 5))\n",
        "ax = sns.countplot(x='smokes', data=dating_df,  palette='magma',order=dating_df['smokes'].value_counts().iloc[:10].index) \n",
        "total = float(len(dating_df))\n",
        "plt.title('Smoking Frequency.')\n",
        "feature_percentage(ax,dating_df)\n",
        "plt.show()"
      ],
      "metadata": {
        "id": "p7qgjmCSNkX7",
        "outputId": "ec315194-9b44-4cd4-cd77-7bcf0a6ae7de",
        "colab": {
          "base_uri": "https://localhost:8080/",
          "height": 349
        }
      },
      "execution_count": 176,
      "outputs": [
        {
          "output_type": "display_data",
          "data": {
            "text/plain": [
              "<Figure size 576x360 with 1 Axes>"
            ],
            "image/png": "[encoded data removed]"
          },
          "metadata": {}
        }
      ]
    },
    {
      "cell_type": "markdown",
      "source": [
        "73.2% of the dating app users do not smoke while those trying to quit take the lowest percentage at 2.5%"
      ],
      "metadata": {
        "id": "XtPwNm2iJJwT"
      }
    },
    {
      "cell_type": "markdown",
      "source": [
        "### 1.7.6 Alcohol Consumption"
      ],
      "metadata": {
        "id": "K9HsYTPoRjEi"
      }
    },
    {
      "cell_type": "code",
      "source": [
        "#Visualizing the frequency of alcohol consumption among the users\n",
        "plt.figure(figsize=(8, 5))\n",
        "ax = sns.countplot(x='drinks', data=dating_df,  palette='magma',order=dating_df['drinks'].value_counts().iloc[:10].index) \n",
        "total = float(len(dating_df))\n",
        "plt.title('Alcohol consumption.')\n",
        "feature_percentage(ax,dating_df)\n",
        "plt.show()"
      ],
      "metadata": {
        "id": "ekJa_t_1H_KS",
        "outputId": "7f033712-ba28-4d54-fd93-86ad6208bfb1",
        "colab": {
          "base_uri": "https://localhost:8080/",
          "height": 349
        }
      },
      "execution_count": 177,
      "outputs": [
        {
          "output_type": "display_data",
          "data": {
            "text/plain": [
              "<Figure size 576x360 with 1 Axes>"
            ],
            "image/png": "[encoded data removed]"
          },
          "metadata": {}
        }
      ]
    },
    {
      "cell_type": "markdown",
      "source": [
        "During the cleaning, it will be very prudent to deal with the `-1` value.\n",
        "\n",
        "###1.7.7 Diet preferences\n"
      ],
      "metadata": {
        "id": "4AEMJQVZMfs9"
      }
    },
    {
      "cell_type": "code",
      "source": [
        "#Checking the distribution of diet preferences among the users.\n",
        "plt.figure(figsize=(8, 5))\n",
        "ax = sns.countplot(y='diet', data=dating_df,order=dating_df['diet'].value_counts().iloc[:10].index) \n",
        "total = float(len(dating_df))\n",
        "plt.title('User Diet.')\n",
        "\n",
        "plt.show()"
      ],
      "metadata": {
        "id": "XG1yyB3XKs5T",
        "outputId": "df124f00-9e60-46ee-e573-1d155f086a68",
        "colab": {
          "base_uri": "https://localhost:8080/",
          "height": 349
        }
      },
      "execution_count": 178,
      "outputs": [
        {
          "output_type": "display_data",
          "data": {
            "text/plain": [
              "<Figure size 576x360 with 1 Axes>"
            ],
            "image/png": "[encoded data removed]"
          },
          "metadata": {}
        }
      ]
    },
    {
      "cell_type": "markdown",
      "source": [
        "###1.7.7 Pets preferences"
      ],
      "metadata": {
        "id": "D0p_IW9TibeL"
      }
    },
    {
      "cell_type": "code",
      "source": [
        "dating_df.pets.value_counts()"
      ],
      "metadata": {
        "id": "clSeUlIxieMG",
        "outputId": "edb5fb37-3e2d-4475-df90-1c37c241e186",
        "colab": {
          "base_uri": "https://localhost:8080/"
        }
      },
      "execution_count": 205,
      "outputs": [
        {
          "output_type": "execute_result",
          "data": {
            "text/plain": [
              "7    21696\n",
              "8    19382\n",
              "5    11048\n",
              "6     2494\n",
              "4     2301\n",
              "3      287\n",
              "2      188\n",
              "0      121\n",
              "1       42\n",
              "Name: pets, dtype: int64"
            ]
          },
          "metadata": {},
          "execution_count": 205
        }
      ]
    },
    {
      "cell_type": "code",
      "source": [
        "plt.figure(figsize=(15,6))\n",
        "dating_df.pets.value_counts().to_frame().plot(kind='bar')\n",
        "plt.xticks(range(0,8), pd.Series(le.inverse_transform(dating_df.pets)).value_counts().index)\n",
        "plt.show()"
      ],
      "metadata": {
        "id": "0HiQYLPskvQu",
        "outputId": "bbee31ec-b46e-4cc6-b81f-1673e93cb445",
        "colab": {
          "base_uri": "https://localhost:8080/",
          "height": 488
        }
      },
      "execution_count": 228,
      "outputs": [
        {
          "output_type": "display_data",
          "data": {
            "text/plain": [
              "<Figure size 1080x432 with 0 Axes>"
            ]
          },
          "metadata": {}
        },
        {
          "output_type": "display_data",
          "data": {
            "text/plain": [
              "<Figure size 576x396 with 1 Axes>"
            ],
            "image/png": "[encoded data removed]"
          },
          "metadata": {}
        }
      ]
    }
  ]
}